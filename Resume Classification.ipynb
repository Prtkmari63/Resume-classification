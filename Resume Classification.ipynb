{
 "cells": [
  {
   "cell_type": "code",
   "execution_count": 1,
   "id": "fbdd0f6a",
   "metadata": {},
   "outputs": [
    {
     "name": "stdout",
     "output_type": "stream",
     "text": [
      "Requirement already satisfied: python-docx in c:\\users\\king\\anaconda3\\navigator\\lib\\site-packages (1.1.0)\n",
      "Requirement already satisfied: lxml>=3.1.0 in c:\\users\\king\\anaconda3\\navigator\\lib\\site-packages (from python-docx) (4.9.1)\n",
      "Requirement already satisfied: typing-extensions in c:\\users\\king\\anaconda3\\navigator\\lib\\site-packages (from python-docx) (4.10.0)\n",
      "Note: you may need to restart the kernel to use updated packages.\n"
     ]
    },
    {
     "name": "stderr",
     "output_type": "stream",
     "text": [
      "DEPRECATION: textract 1.6.5 has a non-standard dependency specifier extract-msg<=0.29.*. pip 24.1 will enforce this behaviour change. A possible replacement is to upgrade to a newer version of textract or contact the author to suggest that they release a version with a conforming dependency specifiers. Discussion can be found at https://github.com/pypa/pip/issues/12063\n"
     ]
    }
   ],
   "source": [
    "pip install python-docx"
   ]
  },
  {
   "cell_type": "code",
   "execution_count": 2,
   "id": "1fbd8a27",
   "metadata": {},
   "outputs": [],
   "source": [
    "import os\n",
    "import re\n",
    "import nltk\n",
    "import spacy\n",
    "import string\n",
    "import textract\n",
    "import pandas as pd\n",
    "import seaborn as sns\n",
    "from matplotlib import pylab\n",
    "from matplotlib import pyplot as plt\n",
    "\n",
    "from nltk.corpus import stopwords\n",
    "from nltk.tokenize import RegexpTokenizer\n",
    "from wordcloud import WordCloud, STOPWORDS\n",
    "from nltk.stem import PorterStemmer, WordNetLemmatizer\n",
    "from sklearn.feature_extraction.text import CountVectorizer\n",
    "\n",
    "import warnings\n",
    "warnings.filterwarnings('ignore')"
   ]
  },
  {
   "cell_type": "code",
   "execution_count": 3,
   "id": "ea69fe5c",
   "metadata": {},
   "outputs": [],
   "source": [
    "import numpy as np\n",
    "import pandas as pd\n",
    "import seaborn as sns\n",
    "sns.set_style('darkgrid')\n",
    "%matplotlib inline\n",
    "import matplotlib.pyplot as plt\n",
    "import matplotlib.pylab as pylab\n",
    "from sklearn.model_selection import train_test_split\n",
    "from sklearn.feature_extraction.text import TfidfVectorizer\n",
    "\n",
    "from sklearn.svm import SVC\n",
    "from sklearn.naive_bayes import MultinomialNB\n",
    "from sklearn.ensemble import BaggingClassifier\n",
    "from sklearn.ensemble import AdaBoostClassifier\n",
    "from sklearn.tree import DecisionTreeClassifier\n",
    "from sklearn.neighbors import KNeighborsClassifier\n",
    "from sklearn.ensemble import RandomForestClassifier\n",
    "from sklearn.linear_model import LogisticRegression\n",
    "from sklearn.ensemble import GradientBoostingClassifier\n",
    "from sklearn.metrics import confusion_matrix, accuracy_score\n",
    "from sklearn.model_selection import train_test_split, cross_val_score\n",
    "from sklearn.metrics import f1_score, classification_report, precision_score, recall_score\n",
    "\n",
    "\n",
    "import warnings\n",
    "warnings.filterwarnings('ignore')"
   ]
  },
  {
   "cell_type": "code",
   "execution_count": 23,
   "id": "4db1ff1d",
   "metadata": {},
   "outputs": [],
   "source": [
    "file_paths = []\n",
    "categories = []\n",
    "directory = \"C:\\\\Users\\\\King\\\\Downloads\\\\people soft\"\n",
    "\n",
    "for filename in os.listdir(directory):\n",
    "    if filename.endswith('.docx'):\n",
    "        file_path = os.path.join(directory, filename)\n",
    "        file_text = textract.process(file_path).decode('utf-8')\n",
    "        file_paths.append(file_text)\n",
    "        categories.append('Peoplesoft')\n",
    "\n",
    "result_df = pd.DataFrame({'File_Path': file_path, 'Category': categories})\n"
   ]
  },
  {
   "cell_type": "code",
   "execution_count": 6,
   "id": "e22883cb",
   "metadata": {},
   "outputs": [
    {
     "data": {
      "text/html": [
       "<div>\n",
       "<style scoped>\n",
       "    .dataframe tbody tr th:only-of-type {\n",
       "        vertical-align: middle;\n",
       "    }\n",
       "\n",
       "    .dataframe tbody tr th {\n",
       "        vertical-align: top;\n",
       "    }\n",
       "\n",
       "    .dataframe thead th {\n",
       "        text-align: right;\n",
       "    }\n",
       "</style>\n",
       "<table border=\"1\" class=\"dataframe\">\n",
       "  <thead>\n",
       "    <tr style=\"text-align: right;\">\n",
       "      <th></th>\n",
       "      <th>Raw_Details</th>\n",
       "      <th>Category1</th>\n",
       "    </tr>\n",
       "  </thead>\n",
       "  <tbody>\n",
       "    <tr>\n",
       "      <th>0</th>\n",
       "      <td>Anubhav Kumar Singh\\t\\t\\n\\n\\n\\nCore Competenci...</td>\n",
       "      <td>PeopleSoft</td>\n",
       "    </tr>\n",
       "    <tr>\n",
       "      <th>1</th>\n",
       "      <td>Classification: Internal\\n\\nClassification: In...</td>\n",
       "      <td>PeopleSoft</td>\n",
       "    </tr>\n",
       "    <tr>\n",
       "      <th>2</th>\n",
       "      <td>SIRAZUDDIN M\\n\\n\\tBangalore, INDIA\\t\\n\\n\\n\\n\\n...</td>\n",
       "      <td>PeopleSoft</td>\n",
       "    </tr>\n",
       "    <tr>\n",
       "      <th>3</th>\n",
       "      <td>PeopleSoft Admin\\n\\nVARKALA VIKAS\\n\\n\\n\\nCaree...</td>\n",
       "      <td>PeopleSoft</td>\n",
       "    </tr>\n",
       "    <tr>\n",
       "      <th>4</th>\n",
       "      <td>PeopleSoft Administration\\n\\n \\n\\nVivekanand S...</td>\n",
       "      <td>PeopleSoft</td>\n",
       "    </tr>\n",
       "    <tr>\n",
       "      <th>5</th>\n",
       "      <td>Hari Narayana \\t\\t              \\n\\n\\t\\n\\n\\n\\n...</td>\n",
       "      <td>PeopleSoft</td>\n",
       "    </tr>\n",
       "    <tr>\n",
       "      <th>6</th>\n",
       "      <td>Murali\\t\\t       \\n\\n\\t\\n\\n\\n\\n\\n\\n\\n\\n\\n\\n\\n\\...</td>\n",
       "      <td>PeopleSoft</td>\n",
       "    </tr>\n",
       "    <tr>\n",
       "      <th>7</th>\n",
       "      <td>Priyabrata Hota\\n\\n\\n\\n\\n\\nCAREER OBJECTIVE\\t\\...</td>\n",
       "      <td>PeopleSoft</td>\n",
       "    </tr>\n",
       "    <tr>\n",
       "      <th>8</th>\n",
       "      <td>Tanna Sujatha \\n\\n\\n\\n\\n\\n\\n\\nOBJECTIVE\\n\\nSee...</td>\n",
       "      <td>PeopleSoft</td>\n",
       "    </tr>\n",
       "    <tr>\n",
       "      <th>9</th>\n",
       "      <td>C O N T A C T :\\n\\n\\n\\nAddress: Manyata Tech P...</td>\n",
       "      <td>PeopleSoft</td>\n",
       "    </tr>\n",
       "  </tbody>\n",
       "</table>\n",
       "</div>"
      ],
      "text/plain": [
       "                                         Raw_Details   Category1\n",
       "0  Anubhav Kumar Singh\\t\\t\\n\\n\\n\\nCore Competenci...  PeopleSoft\n",
       "1  Classification: Internal\\n\\nClassification: In...  PeopleSoft\n",
       "2  SIRAZUDDIN M\\n\\n\\tBangalore, INDIA\\t\\n\\n\\n\\n\\n...  PeopleSoft\n",
       "3  PeopleSoft Admin\\n\\nVARKALA VIKAS\\n\\n\\n\\nCaree...  PeopleSoft\n",
       "4  PeopleSoft Administration\\n\\n \\n\\nVivekanand S...  PeopleSoft\n",
       "5  Hari Narayana \\t\\t              \\n\\n\\t\\n\\n\\n\\n...  PeopleSoft\n",
       "6  Murali\\t\\t       \\n\\n\\t\\n\\n\\n\\n\\n\\n\\n\\n\\n\\n\\n\\...  PeopleSoft\n",
       "7  Priyabrata Hota\\n\\n\\n\\n\\n\\nCAREER OBJECTIVE\\t\\...  PeopleSoft\n",
       "8  Tanna Sujatha \\n\\n\\n\\n\\n\\n\\n\\nOBJECTIVE\\n\\nSee...  PeopleSoft\n",
       "9  C O N T A C T :\\n\\n\\n\\nAddress: Manyata Tech P...  PeopleSoft"
      ]
     },
     "execution_count": 6,
     "metadata": {},
     "output_type": "execute_result"
    }
   ],
   "source": [
    "data1 = pd.DataFrame(data = file_paths , columns = ['Raw_Details'])\n",
    "data1['Category1'] = categories\n",
    "data1"
   ]
  },
  {
   "cell_type": "code",
   "execution_count": 14,
   "id": "2ca6fa7d",
   "metadata": {},
   "outputs": [],
   "source": [
    "file_path1 = []\n",
    "categories = []\n",
    "directory = \"C:\\\\Users\\\\King\\\\Desktop\\\\SQLdeveloper\"\n",
    "for filename in os.listdir(directory):\n",
    "    if filename.endswith('.docx'):\n",
    "        file_path = os.path.join(directory, filename)\n",
    "        file_text = textract.process(file_path).decode('utf-8')\n",
    "        file_path1.append(file_text)\n",
    "        categories.append('SQLdeveloper')\n",
    "result_df = pd.DataFrame({'File_Path': file_path1, 'Category': categories})\n"
   ]
  },
  {
   "cell_type": "code",
   "execution_count": 8,
   "id": "da9d8321",
   "metadata": {},
   "outputs": [
    {
     "data": {
      "text/html": [
       "<div>\n",
       "<style scoped>\n",
       "    .dataframe tbody tr th:only-of-type {\n",
       "        vertical-align: middle;\n",
       "    }\n",
       "\n",
       "    .dataframe tbody tr th {\n",
       "        vertical-align: top;\n",
       "    }\n",
       "\n",
       "    .dataframe thead th {\n",
       "        text-align: right;\n",
       "    }\n",
       "</style>\n",
       "<table border=\"1\" class=\"dataframe\">\n",
       "  <thead>\n",
       "    <tr style=\"text-align: right;\">\n",
       "      <th></th>\n",
       "      <th>Raw_Details</th>\n",
       "      <th>Category2</th>\n",
       "    </tr>\n",
       "  </thead>\n",
       "  <tbody>\n",
       "    <tr>\n",
       "      <th>0</th>\n",
       "      <td>ANIL KUMAR MADDUKURI  \\t\\t\\n\\nSQL &amp; MSBI Devel...</td>\n",
       "      <td>SQLdeveloper</td>\n",
       "    </tr>\n",
       "    <tr>\n",
       "      <th>1</th>\n",
       "      <td>Aradhana Tripathi\\n\\n\\n\\nCurrent Location: Gac...</td>\n",
       "      <td>SQLdeveloper</td>\n",
       "    </tr>\n",
       "    <tr>\n",
       "      <th>2</th>\n",
       "      <td>BUDDHA VAMSI                                  ...</td>\n",
       "      <td>SQLdeveloper</td>\n",
       "    </tr>\n",
       "    <tr>\n",
       "      <th>3</th>\n",
       "      <td>KAMBALLA PRADEEP                              ...</td>\n",
       "      <td>SQLdeveloper</td>\n",
       "    </tr>\n",
       "    <tr>\n",
       "      <th>4</th>\n",
       "      <td>Resume\\n\\nName     :  Neeraj Mishra\\n\\n\\n\\nExp...</td>\n",
       "      <td>SQLdeveloper</td>\n",
       "    </tr>\n",
       "    <tr>\n",
       "      <th>5</th>\n",
       "      <td>SQL DEVELOPER\\n\\nName: -   Bandi prem sai\\n\\n\\...</td>\n",
       "      <td>SQLdeveloper</td>\n",
       "    </tr>\n",
       "    <tr>\n",
       "      <th>6</th>\n",
       "      <td>SQL SERVER DEVELOPER\\n\\n\\n\\n\\n\\nP. Syam Kumar ...</td>\n",
       "      <td>SQLdeveloper</td>\n",
       "    </tr>\n",
       "    <tr>\n",
       "      <th>7</th>\n",
       "      <td>RAJU PAVANA KUMARI\\n\\n\\n\\n\\t\\n\\n\\tProfessional...</td>\n",
       "      <td>SQLdeveloper</td>\n",
       "    </tr>\n",
       "    <tr>\n",
       "      <th>8</th>\n",
       "      <td>resume\\n\\n\\n\\n\\n\\n\\t\\t\\t\\t\\t\\t\\t\\t\\t\\t\\t\\tRama...</td>\n",
       "      <td>SQLdeveloper</td>\n",
       "    </tr>\n",
       "    <tr>\n",
       "      <th>9</th>\n",
       "      <td>Name: Ramesh\\n\\n\\t\\n\\n\\tCareer Objective: \\n\\n...</td>\n",
       "      <td>SQLdeveloper</td>\n",
       "    </tr>\n",
       "    <tr>\n",
       "      <th>10</th>\n",
       "      <td>SQL AND MSBI DEVELOPER\\n\\nSQL AND MSBI DEVELOP...</td>\n",
       "      <td>SQLdeveloper</td>\n",
       "    </tr>\n",
       "  </tbody>\n",
       "</table>\n",
       "</div>"
      ],
      "text/plain": [
       "                                          Raw_Details     Category2\n",
       "0   ANIL KUMAR MADDUKURI  \\t\\t\\n\\nSQL & MSBI Devel...  SQLdeveloper\n",
       "1   Aradhana Tripathi\\n\\n\\n\\nCurrent Location: Gac...  SQLdeveloper\n",
       "2   BUDDHA VAMSI                                  ...  SQLdeveloper\n",
       "3   KAMBALLA PRADEEP                              ...  SQLdeveloper\n",
       "4   Resume\\n\\nName     :  Neeraj Mishra\\n\\n\\n\\nExp...  SQLdeveloper\n",
       "5   SQL DEVELOPER\\n\\nName: -   Bandi prem sai\\n\\n\\...  SQLdeveloper\n",
       "6   SQL SERVER DEVELOPER\\n\\n\\n\\n\\n\\nP. Syam Kumar ...  SQLdeveloper\n",
       "7   RAJU PAVANA KUMARI\\n\\n\\n\\n\\t\\n\\n\\tProfessional...  SQLdeveloper\n",
       "8   resume\\n\\n\\n\\n\\n\\n\\t\\t\\t\\t\\t\\t\\t\\t\\t\\t\\t\\tRama...  SQLdeveloper\n",
       "9   Name: Ramesh\\n\\n\\t\\n\\n\\tCareer Objective: \\n\\n...  SQLdeveloper\n",
       "10  SQL AND MSBI DEVELOPER\\n\\nSQL AND MSBI DEVELOP...  SQLdeveloper"
      ]
     },
     "execution_count": 8,
     "metadata": {},
     "output_type": "execute_result"
    }
   ],
   "source": [
    "data2 = pd.DataFrame(data = file_path1 , columns = ['Raw_Details'])\n",
    "data2['Category2'] = categories\n",
    "data2"
   ]
  },
  {
   "cell_type": "code",
   "execution_count": 9,
   "id": "ccca6e0a",
   "metadata": {},
   "outputs": [],
   "source": [
    "file_path2 = []\n",
    "categories = []\n",
    "directory = \"C:\\\\Users\\\\King\\\\Desktop\\\\workday\"\n",
    "for filename in os.listdir(directory):\n",
    "    if filename.endswith('.docx'):\n",
    "        file_path = os.path.join(directory, filename)\n",
    "        file_text = textract.process(file_path).decode('utf-8')\n",
    "        file_path2.append(file_text)\n",
    "        categories.append('workday')\n",
    "result_df = pd.DataFrame({'File_Path': file_path2, 'Category': categories})"
   ]
  },
  {
   "cell_type": "code",
   "execution_count": 10,
   "id": "c9ac95df",
   "metadata": {},
   "outputs": [
    {
     "data": {
      "text/html": [
       "<div>\n",
       "<style scoped>\n",
       "    .dataframe tbody tr th:only-of-type {\n",
       "        vertical-align: middle;\n",
       "    }\n",
       "\n",
       "    .dataframe tbody tr th {\n",
       "        vertical-align: top;\n",
       "    }\n",
       "\n",
       "    .dataframe thead th {\n",
       "        text-align: right;\n",
       "    }\n",
       "</style>\n",
       "<table border=\"1\" class=\"dataframe\">\n",
       "  <thead>\n",
       "    <tr style=\"text-align: right;\">\n",
       "      <th></th>\n",
       "      <th>Raw_Details</th>\n",
       "      <th>Category3</th>\n",
       "    </tr>\n",
       "  </thead>\n",
       "  <tbody>\n",
       "    <tr>\n",
       "      <th>0</th>\n",
       "      <td>Chinna Subbarayudu M\\n\\nDOB: 06th March 1994\\n...</td>\n",
       "      <td>workday</td>\n",
       "    </tr>\n",
       "    <tr>\n",
       "      <th>1</th>\n",
       "      <td>Name         : Gopi Krishna Reddy\\n\\n\\t\\t     ...</td>\n",
       "      <td>workday</td>\n",
       "    </tr>\n",
       "    <tr>\n",
       "      <th>2</th>\n",
       "      <td>G Himaja\\n\\n                                  ...</td>\n",
       "      <td>workday</td>\n",
       "    </tr>\n",
       "    <tr>\n",
       "      <th>3</th>\n",
       "      <td>JYOTI VERMA\\t\\t\\t\\t\\t\\n\\n\\n\\nPROFESSIONAL SUMM...</td>\n",
       "      <td>workday</td>\n",
       "    </tr>\n",
       "    <tr>\n",
       "      <th>4</th>\n",
       "      <td>Mooraboyina Guravaiah\\n\\nWorkday Integration S...</td>\n",
       "      <td>workday</td>\n",
       "    </tr>\n",
       "    <tr>\n",
       "      <th>5</th>\n",
       "      <td>VENKATA SAIKRISHNA\\n\\n Workday Consultant\\n\\n\\...</td>\n",
       "      <td>workday</td>\n",
       "    </tr>\n",
       "    <tr>\n",
       "      <th>6</th>\n",
       "      <td>Workday HCM  Techno functional Consultant     ...</td>\n",
       "      <td>workday</td>\n",
       "    </tr>\n",
       "    <tr>\n",
       "      <th>7</th>\n",
       "      <td>Ramesh A\\t\\t\\t\\t\\t\\t\\t\\t\\t\\t\\t\\t\\t\\t\\t\\t\\t\\t\\t...</td>\n",
       "      <td>workday</td>\n",
       "    </tr>\n",
       "    <tr>\n",
       "      <th>8</th>\n",
       "      <td>Srikanth (WORKDAY hCM Consultant)\\t           ...</td>\n",
       "      <td>workday</td>\n",
       "    </tr>\n",
       "    <tr>\n",
       "      <th>9</th>\n",
       "      <td>WORKDAY | HCM | FCM\\n\\nName \\t\\t: Kumar S.S\\n\\...</td>\n",
       "      <td>workday</td>\n",
       "    </tr>\n",
       "    <tr>\n",
       "      <th>10</th>\n",
       "      <td>Vinay kumar .v\\nWorkday Functional Consultant\\...</td>\n",
       "      <td>workday</td>\n",
       "    </tr>\n",
       "  </tbody>\n",
       "</table>\n",
       "</div>"
      ],
      "text/plain": [
       "                                          Raw_Details Category3\n",
       "0   Chinna Subbarayudu M\\n\\nDOB: 06th March 1994\\n...   workday\n",
       "1   Name         : Gopi Krishna Reddy\\n\\n\\t\\t     ...   workday\n",
       "2   G Himaja\\n\\n                                  ...   workday\n",
       "3   JYOTI VERMA\\t\\t\\t\\t\\t\\n\\n\\n\\nPROFESSIONAL SUMM...   workday\n",
       "4   Mooraboyina Guravaiah\\n\\nWorkday Integration S...   workday\n",
       "5   VENKATA SAIKRISHNA\\n\\n Workday Consultant\\n\\n\\...   workday\n",
       "6   Workday HCM  Techno functional Consultant     ...   workday\n",
       "7   Ramesh A\\t\\t\\t\\t\\t\\t\\t\\t\\t\\t\\t\\t\\t\\t\\t\\t\\t\\t\\t...   workday\n",
       "8   Srikanth (WORKDAY hCM Consultant)\\t           ...   workday\n",
       "9   WORKDAY | HCM | FCM\\n\\nName \\t\\t: Kumar S.S\\n\\...   workday\n",
       "10  Vinay kumar .v\\nWorkday Functional Consultant\\...   workday"
      ]
     },
     "execution_count": 10,
     "metadata": {},
     "output_type": "execute_result"
    }
   ],
   "source": [
    "data3 = pd.DataFrame(data = file_path2, columns = ['Raw_Details'])\n",
    "data3['Category3'] = categories\n",
    "data3"
   ]
  },
  {
   "cell_type": "code",
   "execution_count": 11,
   "id": "b9245591",
   "metadata": {},
   "outputs": [],
   "source": [
    "import os\n",
    "import textract\n",
    "import pandas as pd\n",
    "\n",
    "file_path3 = []\n",
    "categories = []\n",
    "\n",
    "directory = \"C:\\\\Users\\\\King\\\\Desktop\\\\jsdeveloper\"\n",
    "\n",
    "for filename in os.listdir(directory):\n",
    "    if filename.endswith('.docx'):\n",
    "        file_path = os.path.join(directory, filename)\n",
    "        file_text = textract.process(file_path).decode('utf-8')\n",
    "        file_path3.append(file_text)\n",
    "        categories.append('jsdeveloper')\n",
    "\n",
    "result_df = pd.DataFrame({'File_Path': file_path3, 'Category': categories})\n"
   ]
  },
  {
   "cell_type": "code",
   "execution_count": 12,
   "id": "b19b2ec3",
   "metadata": {},
   "outputs": [
    {
     "data": {
      "text/html": [
       "<div>\n",
       "<style scoped>\n",
       "    .dataframe tbody tr th:only-of-type {\n",
       "        vertical-align: middle;\n",
       "    }\n",
       "\n",
       "    .dataframe tbody tr th {\n",
       "        vertical-align: top;\n",
       "    }\n",
       "\n",
       "    .dataframe thead th {\n",
       "        text-align: right;\n",
       "    }\n",
       "</style>\n",
       "<table border=\"1\" class=\"dataframe\">\n",
       "  <thead>\n",
       "    <tr style=\"text-align: right;\">\n",
       "      <th></th>\n",
       "      <th>Raw_Details</th>\n",
       "      <th>Category4</th>\n",
       "    </tr>\n",
       "  </thead>\n",
       "  <tbody>\n",
       "    <tr>\n",
       "      <th>0</th>\n",
       "      <td>Name: Ravali P \\n\\n\\n\\n                       ...</td>\n",
       "      <td>jsdeveloper</td>\n",
       "    </tr>\n",
       "    <tr>\n",
       "      <th>1</th>\n",
       "      <td>SUSOVAN  BAG   \\n\\nSeeking  a  challenging  po...</td>\n",
       "      <td>jsdeveloper</td>\n",
       "    </tr>\n",
       "    <tr>\n",
       "      <th>2</th>\n",
       "      <td>Kanumuru Deepak Reddy\\n\\n\\n\\n\\t\\n\\n\\n\\nCAREER ...</td>\n",
       "      <td>jsdeveloper</td>\n",
       "    </tr>\n",
       "    <tr>\n",
       "      <th>3</th>\n",
       "      <td>HARIPRIYA BATTINA \\n\\nExperience as UI Develop...</td>\n",
       "      <td>jsdeveloper</td>\n",
       "    </tr>\n",
       "    <tr>\n",
       "      <th>4</th>\n",
       "      <td>KAMALAKAR REDDY. A \\n\\nLinked In: https://www....</td>\n",
       "      <td>jsdeveloper</td>\n",
       "    </tr>\n",
       "    <tr>\n",
       "      <th>5</th>\n",
       "      <td>Naveen Sadhu\\n\\n\\n\\n\\n\\nTitle: software develo...</td>\n",
       "      <td>jsdeveloper</td>\n",
       "    </tr>\n",
       "    <tr>\n",
       "      <th>6</th>\n",
       "      <td>PRAGNYA PATTNAIK\\n\\n \\n\\n \\n\\n \\n\\n Expertise:...</td>\n",
       "      <td>jsdeveloper</td>\n",
       "    </tr>\n",
       "    <tr>\n",
       "      <th>7</th>\n",
       "      <td>SARALA MADASU\\n\\nSARALA MADASU\\n\\n 204,Sri ge...</td>\n",
       "      <td>jsdeveloper</td>\n",
       "    </tr>\n",
       "    <tr>\n",
       "      <th>8</th>\n",
       "      <td>Thirupathamma Balla\\n\\n\\n\\nSUMMARY:\\n\\n\\n\\n2.8...</td>\n",
       "      <td>jsdeveloper</td>\n",
       "    </tr>\n",
       "    <tr>\n",
       "      <th>9</th>\n",
       "      <td>Ui-Developer/ React JS Developer \\n\\nNAME: KRI...</td>\n",
       "      <td>jsdeveloper</td>\n",
       "    </tr>\n",
       "    <tr>\n",
       "      <th>10</th>\n",
       "      <td>Ui-Developer/ React JS Developer \\n\\nNAME: KRI...</td>\n",
       "      <td>jsdeveloper</td>\n",
       "    </tr>\n",
       "    <tr>\n",
       "      <th>11</th>\n",
       "      <td>Kotani Durga Prasad\\n\\n\\n\\n\\n\\nObjective:\\n\\n\\...</td>\n",
       "      <td>jsdeveloper</td>\n",
       "    </tr>\n",
       "    <tr>\n",
       "      <th>12</th>\n",
       "      <td>Venkatalakshmi Pedireddy\\n\\nSoftware Developer...</td>\n",
       "      <td>jsdeveloper</td>\n",
       "    </tr>\n",
       "    <tr>\n",
       "      <th>13</th>\n",
       "      <td>KAMBALA SAI SURENDRA   \\n\\n \\n\\n \\n\\n \\n\\n\\n\\n...</td>\n",
       "      <td>jsdeveloper</td>\n",
       "    </tr>\n",
       "    <tr>\n",
       "      <th>14</th>\n",
       "      <td>MAREEDU LOKESH BABU\\n\\nPROFESSIONAL OVERVIEW\\n...</td>\n",
       "      <td>jsdeveloper</td>\n",
       "    </tr>\n",
       "    <tr>\n",
       "      <th>15</th>\n",
       "      <td>MAREEDU LOKESH BABU\\n\\n\\n\\nPROFESSIONAL OVERVI...</td>\n",
       "      <td>jsdeveloper</td>\n",
       "    </tr>\n",
       "    <tr>\n",
       "      <th>16</th>\n",
       "      <td>MD KHIZARUDDIN RAUF \\n\\n \\t EXPERIENCE \\n\\n   ...</td>\n",
       "      <td>jsdeveloper</td>\n",
       "    </tr>\n",
       "    <tr>\n",
       "      <th>17</th>\n",
       "      <td>Pranish Sonone\\n\\n\\t\\t\\n\\n\\n\\n\\n\\n\\n\\n\\n\\nCare...</td>\n",
       "      <td>jsdeveloper</td>\n",
       "    </tr>\n",
       "    <tr>\n",
       "      <th>18</th>\n",
       "      <td>Ranga Gaganam  \\n\\n\\n\\n \\n\\nProfessional\\n\\n \\...</td>\n",
       "      <td>jsdeveloper</td>\n",
       "    </tr>\n",
       "    <tr>\n",
       "      <th>19</th>\n",
       "      <td>SHAIK ABDUL SHARUK   \\n\\n2 years’ Experience i...</td>\n",
       "      <td>jsdeveloper</td>\n",
       "    </tr>\n",
       "  </tbody>\n",
       "</table>\n",
       "</div>"
      ],
      "text/plain": [
       "                                          Raw_Details    Category4\n",
       "0   Name: Ravali P \\n\\n\\n\\n                       ...  jsdeveloper\n",
       "1   SUSOVAN  BAG   \\n\\nSeeking  a  challenging  po...  jsdeveloper\n",
       "2   Kanumuru Deepak Reddy\\n\\n\\n\\n\\t\\n\\n\\n\\nCAREER ...  jsdeveloper\n",
       "3   HARIPRIYA BATTINA \\n\\nExperience as UI Develop...  jsdeveloper\n",
       "4   KAMALAKAR REDDY. A \\n\\nLinked In: https://www....  jsdeveloper\n",
       "5   Naveen Sadhu\\n\\n\\n\\n\\n\\nTitle: software develo...  jsdeveloper\n",
       "6   PRAGNYA PATTNAIK\\n\\n \\n\\n \\n\\n \\n\\n Expertise:...  jsdeveloper\n",
       "7   SARALA MADASU\\n\\nSARALA MADASU\\n\\n 204,Sri ge...  jsdeveloper\n",
       "8   Thirupathamma Balla\\n\\n\\n\\nSUMMARY:\\n\\n\\n\\n2.8...  jsdeveloper\n",
       "9   Ui-Developer/ React JS Developer \\n\\nNAME: KRI...  jsdeveloper\n",
       "10  Ui-Developer/ React JS Developer \\n\\nNAME: KRI...  jsdeveloper\n",
       "11  Kotani Durga Prasad\\n\\n\\n\\n\\n\\nObjective:\\n\\n\\...  jsdeveloper\n",
       "12  Venkatalakshmi Pedireddy\\n\\nSoftware Developer...  jsdeveloper\n",
       "13  KAMBALA SAI SURENDRA   \\n\\n \\n\\n \\n\\n \\n\\n\\n\\n...  jsdeveloper\n",
       "14  MAREEDU LOKESH BABU\\n\\nPROFESSIONAL OVERVIEW\\n...  jsdeveloper\n",
       "15  MAREEDU LOKESH BABU\\n\\n\\n\\nPROFESSIONAL OVERVI...  jsdeveloper\n",
       "16  MD KHIZARUDDIN RAUF \\n\\n \\t EXPERIENCE \\n\\n   ...  jsdeveloper\n",
       "17  Pranish Sonone\\n\\n\\t\\t\\n\\n\\n\\n\\n\\n\\n\\n\\n\\nCare...  jsdeveloper\n",
       "18  Ranga Gaganam  \\n\\n\\n\\n \\n\\nProfessional\\n\\n \\...  jsdeveloper\n",
       "19  SHAIK ABDUL SHARUK   \\n\\n2 years’ Experience i...  jsdeveloper"
      ]
     },
     "execution_count": 12,
     "metadata": {},
     "output_type": "execute_result"
    }
   ],
   "source": [
    "data4 = pd.DataFrame(data = file_path3, columns = ['Raw_Details'])\n",
    "data4['Category4'] = categories\n",
    "data4"
   ]
  },
  {
   "cell_type": "code",
   "execution_count": null,
   "id": "8a8109b9",
   "metadata": {},
   "outputs": [],
   "source": [
    "# Appending all the data1, data2, data3 and having 3 categories."
   ]
  },
  {
   "cell_type": "code",
   "execution_count": 13,
   "id": "e293839b",
   "metadata": {},
   "outputs": [
    {
     "data": {
      "text/html": [
       "<div>\n",
       "<style scoped>\n",
       "    .dataframe tbody tr th:only-of-type {\n",
       "        vertical-align: middle;\n",
       "    }\n",
       "\n",
       "    .dataframe tbody tr th {\n",
       "        vertical-align: top;\n",
       "    }\n",
       "\n",
       "    .dataframe thead th {\n",
       "        text-align: right;\n",
       "    }\n",
       "</style>\n",
       "<table border=\"1\" class=\"dataframe\">\n",
       "  <thead>\n",
       "    <tr style=\"text-align: right;\">\n",
       "      <th></th>\n",
       "      <th>Raw_Details</th>\n",
       "      <th>Category1</th>\n",
       "      <th>Category2</th>\n",
       "      <th>Category3</th>\n",
       "      <th>Category4</th>\n",
       "    </tr>\n",
       "  </thead>\n",
       "  <tbody>\n",
       "    <tr>\n",
       "      <th>0</th>\n",
       "      <td>Anubhav Kumar Singh\\t\\t\\n\\n\\n\\nCore Competenci...</td>\n",
       "      <td>PeopleSoft</td>\n",
       "      <td>NaN</td>\n",
       "      <td>NaN</td>\n",
       "      <td>NaN</td>\n",
       "    </tr>\n",
       "    <tr>\n",
       "      <th>1</th>\n",
       "      <td>Classification: Internal\\n\\nClassification: In...</td>\n",
       "      <td>PeopleSoft</td>\n",
       "      <td>NaN</td>\n",
       "      <td>NaN</td>\n",
       "      <td>NaN</td>\n",
       "    </tr>\n",
       "    <tr>\n",
       "      <th>2</th>\n",
       "      <td>SIRAZUDDIN M\\n\\n\\tBangalore, INDIA\\t\\n\\n\\n\\n\\n...</td>\n",
       "      <td>PeopleSoft</td>\n",
       "      <td>NaN</td>\n",
       "      <td>NaN</td>\n",
       "      <td>NaN</td>\n",
       "    </tr>\n",
       "    <tr>\n",
       "      <th>3</th>\n",
       "      <td>PeopleSoft Admin\\n\\nVARKALA VIKAS\\n\\n\\n\\nCaree...</td>\n",
       "      <td>PeopleSoft</td>\n",
       "      <td>NaN</td>\n",
       "      <td>NaN</td>\n",
       "      <td>NaN</td>\n",
       "    </tr>\n",
       "    <tr>\n",
       "      <th>4</th>\n",
       "      <td>PeopleSoft Administration\\n\\n \\n\\nVivekanand S...</td>\n",
       "      <td>PeopleSoft</td>\n",
       "      <td>NaN</td>\n",
       "      <td>NaN</td>\n",
       "      <td>NaN</td>\n",
       "    </tr>\n",
       "    <tr>\n",
       "      <th>5</th>\n",
       "      <td>Hari Narayana \\t\\t              \\n\\n\\t\\n\\n\\n\\n...</td>\n",
       "      <td>PeopleSoft</td>\n",
       "      <td>NaN</td>\n",
       "      <td>NaN</td>\n",
       "      <td>NaN</td>\n",
       "    </tr>\n",
       "    <tr>\n",
       "      <th>6</th>\n",
       "      <td>Murali\\t\\t       \\n\\n\\t\\n\\n\\n\\n\\n\\n\\n\\n\\n\\n\\n\\...</td>\n",
       "      <td>PeopleSoft</td>\n",
       "      <td>NaN</td>\n",
       "      <td>NaN</td>\n",
       "      <td>NaN</td>\n",
       "    </tr>\n",
       "    <tr>\n",
       "      <th>7</th>\n",
       "      <td>Priyabrata Hota\\n\\n\\n\\n\\n\\nCAREER OBJECTIVE\\t\\...</td>\n",
       "      <td>PeopleSoft</td>\n",
       "      <td>NaN</td>\n",
       "      <td>NaN</td>\n",
       "      <td>NaN</td>\n",
       "    </tr>\n",
       "    <tr>\n",
       "      <th>8</th>\n",
       "      <td>Tanna Sujatha \\n\\n\\n\\n\\n\\n\\n\\nOBJECTIVE\\n\\nSee...</td>\n",
       "      <td>PeopleSoft</td>\n",
       "      <td>NaN</td>\n",
       "      <td>NaN</td>\n",
       "      <td>NaN</td>\n",
       "    </tr>\n",
       "    <tr>\n",
       "      <th>9</th>\n",
       "      <td>C O N T A C T :\\n\\n\\n\\nAddress: Manyata Tech P...</td>\n",
       "      <td>PeopleSoft</td>\n",
       "      <td>NaN</td>\n",
       "      <td>NaN</td>\n",
       "      <td>NaN</td>\n",
       "    </tr>\n",
       "    <tr>\n",
       "      <th>10</th>\n",
       "      <td>ANIL KUMAR MADDUKURI  \\t\\t\\n\\nSQL &amp; MSBI Devel...</td>\n",
       "      <td>NaN</td>\n",
       "      <td>SQLdeveloper</td>\n",
       "      <td>NaN</td>\n",
       "      <td>NaN</td>\n",
       "    </tr>\n",
       "    <tr>\n",
       "      <th>11</th>\n",
       "      <td>Aradhana Tripathi\\n\\n\\n\\nCurrent Location: Gac...</td>\n",
       "      <td>NaN</td>\n",
       "      <td>SQLdeveloper</td>\n",
       "      <td>NaN</td>\n",
       "      <td>NaN</td>\n",
       "    </tr>\n",
       "    <tr>\n",
       "      <th>12</th>\n",
       "      <td>BUDDHA VAMSI                                  ...</td>\n",
       "      <td>NaN</td>\n",
       "      <td>SQLdeveloper</td>\n",
       "      <td>NaN</td>\n",
       "      <td>NaN</td>\n",
       "    </tr>\n",
       "    <tr>\n",
       "      <th>13</th>\n",
       "      <td>KAMBALLA PRADEEP                              ...</td>\n",
       "      <td>NaN</td>\n",
       "      <td>SQLdeveloper</td>\n",
       "      <td>NaN</td>\n",
       "      <td>NaN</td>\n",
       "    </tr>\n",
       "    <tr>\n",
       "      <th>14</th>\n",
       "      <td>Resume\\n\\nName     :  Neeraj Mishra\\n\\n\\n\\nExp...</td>\n",
       "      <td>NaN</td>\n",
       "      <td>SQLdeveloper</td>\n",
       "      <td>NaN</td>\n",
       "      <td>NaN</td>\n",
       "    </tr>\n",
       "    <tr>\n",
       "      <th>15</th>\n",
       "      <td>SQL DEVELOPER\\n\\nName: -   Bandi prem sai\\n\\n\\...</td>\n",
       "      <td>NaN</td>\n",
       "      <td>SQLdeveloper</td>\n",
       "      <td>NaN</td>\n",
       "      <td>NaN</td>\n",
       "    </tr>\n",
       "    <tr>\n",
       "      <th>16</th>\n",
       "      <td>SQL SERVER DEVELOPER\\n\\n\\n\\n\\n\\nP. Syam Kumar ...</td>\n",
       "      <td>NaN</td>\n",
       "      <td>SQLdeveloper</td>\n",
       "      <td>NaN</td>\n",
       "      <td>NaN</td>\n",
       "    </tr>\n",
       "    <tr>\n",
       "      <th>17</th>\n",
       "      <td>RAJU PAVANA KUMARI\\n\\n\\n\\n\\t\\n\\n\\tProfessional...</td>\n",
       "      <td>NaN</td>\n",
       "      <td>SQLdeveloper</td>\n",
       "      <td>NaN</td>\n",
       "      <td>NaN</td>\n",
       "    </tr>\n",
       "    <tr>\n",
       "      <th>18</th>\n",
       "      <td>resume\\n\\n\\n\\n\\n\\n\\t\\t\\t\\t\\t\\t\\t\\t\\t\\t\\t\\tRama...</td>\n",
       "      <td>NaN</td>\n",
       "      <td>SQLdeveloper</td>\n",
       "      <td>NaN</td>\n",
       "      <td>NaN</td>\n",
       "    </tr>\n",
       "    <tr>\n",
       "      <th>19</th>\n",
       "      <td>Name: Ramesh\\n\\n\\t\\n\\n\\tCareer Objective: \\n\\n...</td>\n",
       "      <td>NaN</td>\n",
       "      <td>SQLdeveloper</td>\n",
       "      <td>NaN</td>\n",
       "      <td>NaN</td>\n",
       "    </tr>\n",
       "    <tr>\n",
       "      <th>20</th>\n",
       "      <td>SQL AND MSBI DEVELOPER\\n\\nSQL AND MSBI DEVELOP...</td>\n",
       "      <td>NaN</td>\n",
       "      <td>SQLdeveloper</td>\n",
       "      <td>NaN</td>\n",
       "      <td>NaN</td>\n",
       "    </tr>\n",
       "    <tr>\n",
       "      <th>21</th>\n",
       "      <td>Chinna Subbarayudu M\\n\\nDOB: 06th March 1994\\n...</td>\n",
       "      <td>NaN</td>\n",
       "      <td>NaN</td>\n",
       "      <td>workday</td>\n",
       "      <td>NaN</td>\n",
       "    </tr>\n",
       "    <tr>\n",
       "      <th>22</th>\n",
       "      <td>Name         : Gopi Krishna Reddy\\n\\n\\t\\t     ...</td>\n",
       "      <td>NaN</td>\n",
       "      <td>NaN</td>\n",
       "      <td>workday</td>\n",
       "      <td>NaN</td>\n",
       "    </tr>\n",
       "    <tr>\n",
       "      <th>23</th>\n",
       "      <td>G Himaja\\n\\n                                  ...</td>\n",
       "      <td>NaN</td>\n",
       "      <td>NaN</td>\n",
       "      <td>workday</td>\n",
       "      <td>NaN</td>\n",
       "    </tr>\n",
       "    <tr>\n",
       "      <th>24</th>\n",
       "      <td>JYOTI VERMA\\t\\t\\t\\t\\t\\n\\n\\n\\nPROFESSIONAL SUMM...</td>\n",
       "      <td>NaN</td>\n",
       "      <td>NaN</td>\n",
       "      <td>workday</td>\n",
       "      <td>NaN</td>\n",
       "    </tr>\n",
       "    <tr>\n",
       "      <th>25</th>\n",
       "      <td>Mooraboyina Guravaiah\\n\\nWorkday Integration S...</td>\n",
       "      <td>NaN</td>\n",
       "      <td>NaN</td>\n",
       "      <td>workday</td>\n",
       "      <td>NaN</td>\n",
       "    </tr>\n",
       "    <tr>\n",
       "      <th>26</th>\n",
       "      <td>VENKATA SAIKRISHNA\\n\\n Workday Consultant\\n\\n\\...</td>\n",
       "      <td>NaN</td>\n",
       "      <td>NaN</td>\n",
       "      <td>workday</td>\n",
       "      <td>NaN</td>\n",
       "    </tr>\n",
       "    <tr>\n",
       "      <th>27</th>\n",
       "      <td>Workday HCM  Techno functional Consultant     ...</td>\n",
       "      <td>NaN</td>\n",
       "      <td>NaN</td>\n",
       "      <td>workday</td>\n",
       "      <td>NaN</td>\n",
       "    </tr>\n",
       "    <tr>\n",
       "      <th>28</th>\n",
       "      <td>Ramesh A\\t\\t\\t\\t\\t\\t\\t\\t\\t\\t\\t\\t\\t\\t\\t\\t\\t\\t\\t...</td>\n",
       "      <td>NaN</td>\n",
       "      <td>NaN</td>\n",
       "      <td>workday</td>\n",
       "      <td>NaN</td>\n",
       "    </tr>\n",
       "    <tr>\n",
       "      <th>29</th>\n",
       "      <td>Srikanth (WORKDAY hCM Consultant)\\t           ...</td>\n",
       "      <td>NaN</td>\n",
       "      <td>NaN</td>\n",
       "      <td>workday</td>\n",
       "      <td>NaN</td>\n",
       "    </tr>\n",
       "    <tr>\n",
       "      <th>30</th>\n",
       "      <td>WORKDAY | HCM | FCM\\n\\nName \\t\\t: Kumar S.S\\n\\...</td>\n",
       "      <td>NaN</td>\n",
       "      <td>NaN</td>\n",
       "      <td>workday</td>\n",
       "      <td>NaN</td>\n",
       "    </tr>\n",
       "    <tr>\n",
       "      <th>31</th>\n",
       "      <td>Vinay kumar .v\\nWorkday Functional Consultant\\...</td>\n",
       "      <td>NaN</td>\n",
       "      <td>NaN</td>\n",
       "      <td>workday</td>\n",
       "      <td>NaN</td>\n",
       "    </tr>\n",
       "    <tr>\n",
       "      <th>32</th>\n",
       "      <td>Name: Ravali P \\n\\n\\n\\n                       ...</td>\n",
       "      <td>NaN</td>\n",
       "      <td>NaN</td>\n",
       "      <td>NaN</td>\n",
       "      <td>jsdeveloper</td>\n",
       "    </tr>\n",
       "    <tr>\n",
       "      <th>33</th>\n",
       "      <td>SUSOVAN  BAG   \\n\\nSeeking  a  challenging  po...</td>\n",
       "      <td>NaN</td>\n",
       "      <td>NaN</td>\n",
       "      <td>NaN</td>\n",
       "      <td>jsdeveloper</td>\n",
       "    </tr>\n",
       "    <tr>\n",
       "      <th>34</th>\n",
       "      <td>Kanumuru Deepak Reddy\\n\\n\\n\\n\\t\\n\\n\\n\\nCAREER ...</td>\n",
       "      <td>NaN</td>\n",
       "      <td>NaN</td>\n",
       "      <td>NaN</td>\n",
       "      <td>jsdeveloper</td>\n",
       "    </tr>\n",
       "    <tr>\n",
       "      <th>35</th>\n",
       "      <td>HARIPRIYA BATTINA \\n\\nExperience as UI Develop...</td>\n",
       "      <td>NaN</td>\n",
       "      <td>NaN</td>\n",
       "      <td>NaN</td>\n",
       "      <td>jsdeveloper</td>\n",
       "    </tr>\n",
       "    <tr>\n",
       "      <th>36</th>\n",
       "      <td>KAMALAKAR REDDY. A \\n\\nLinked In: https://www....</td>\n",
       "      <td>NaN</td>\n",
       "      <td>NaN</td>\n",
       "      <td>NaN</td>\n",
       "      <td>jsdeveloper</td>\n",
       "    </tr>\n",
       "    <tr>\n",
       "      <th>37</th>\n",
       "      <td>Naveen Sadhu\\n\\n\\n\\n\\n\\nTitle: software develo...</td>\n",
       "      <td>NaN</td>\n",
       "      <td>NaN</td>\n",
       "      <td>NaN</td>\n",
       "      <td>jsdeveloper</td>\n",
       "    </tr>\n",
       "    <tr>\n",
       "      <th>38</th>\n",
       "      <td>PRAGNYA PATTNAIK\\n\\n \\n\\n \\n\\n \\n\\n Expertise:...</td>\n",
       "      <td>NaN</td>\n",
       "      <td>NaN</td>\n",
       "      <td>NaN</td>\n",
       "      <td>jsdeveloper</td>\n",
       "    </tr>\n",
       "    <tr>\n",
       "      <th>39</th>\n",
       "      <td>SARALA MADASU\\n\\nSARALA MADASU\\n\\n 204,Sri ge...</td>\n",
       "      <td>NaN</td>\n",
       "      <td>NaN</td>\n",
       "      <td>NaN</td>\n",
       "      <td>jsdeveloper</td>\n",
       "    </tr>\n",
       "    <tr>\n",
       "      <th>40</th>\n",
       "      <td>Thirupathamma Balla\\n\\n\\n\\nSUMMARY:\\n\\n\\n\\n2.8...</td>\n",
       "      <td>NaN</td>\n",
       "      <td>NaN</td>\n",
       "      <td>NaN</td>\n",
       "      <td>jsdeveloper</td>\n",
       "    </tr>\n",
       "    <tr>\n",
       "      <th>41</th>\n",
       "      <td>Ui-Developer/ React JS Developer \\n\\nNAME: KRI...</td>\n",
       "      <td>NaN</td>\n",
       "      <td>NaN</td>\n",
       "      <td>NaN</td>\n",
       "      <td>jsdeveloper</td>\n",
       "    </tr>\n",
       "    <tr>\n",
       "      <th>42</th>\n",
       "      <td>Ui-Developer/ React JS Developer \\n\\nNAME: KRI...</td>\n",
       "      <td>NaN</td>\n",
       "      <td>NaN</td>\n",
       "      <td>NaN</td>\n",
       "      <td>jsdeveloper</td>\n",
       "    </tr>\n",
       "    <tr>\n",
       "      <th>43</th>\n",
       "      <td>Kotani Durga Prasad\\n\\n\\n\\n\\n\\nObjective:\\n\\n\\...</td>\n",
       "      <td>NaN</td>\n",
       "      <td>NaN</td>\n",
       "      <td>NaN</td>\n",
       "      <td>jsdeveloper</td>\n",
       "    </tr>\n",
       "    <tr>\n",
       "      <th>44</th>\n",
       "      <td>Venkatalakshmi Pedireddy\\n\\nSoftware Developer...</td>\n",
       "      <td>NaN</td>\n",
       "      <td>NaN</td>\n",
       "      <td>NaN</td>\n",
       "      <td>jsdeveloper</td>\n",
       "    </tr>\n",
       "    <tr>\n",
       "      <th>45</th>\n",
       "      <td>KAMBALA SAI SURENDRA   \\n\\n \\n\\n \\n\\n \\n\\n\\n\\n...</td>\n",
       "      <td>NaN</td>\n",
       "      <td>NaN</td>\n",
       "      <td>NaN</td>\n",
       "      <td>jsdeveloper</td>\n",
       "    </tr>\n",
       "    <tr>\n",
       "      <th>46</th>\n",
       "      <td>MAREEDU LOKESH BABU\\n\\nPROFESSIONAL OVERVIEW\\n...</td>\n",
       "      <td>NaN</td>\n",
       "      <td>NaN</td>\n",
       "      <td>NaN</td>\n",
       "      <td>jsdeveloper</td>\n",
       "    </tr>\n",
       "    <tr>\n",
       "      <th>47</th>\n",
       "      <td>MAREEDU LOKESH BABU\\n\\n\\n\\nPROFESSIONAL OVERVI...</td>\n",
       "      <td>NaN</td>\n",
       "      <td>NaN</td>\n",
       "      <td>NaN</td>\n",
       "      <td>jsdeveloper</td>\n",
       "    </tr>\n",
       "    <tr>\n",
       "      <th>48</th>\n",
       "      <td>MD KHIZARUDDIN RAUF \\n\\n \\t EXPERIENCE \\n\\n   ...</td>\n",
       "      <td>NaN</td>\n",
       "      <td>NaN</td>\n",
       "      <td>NaN</td>\n",
       "      <td>jsdeveloper</td>\n",
       "    </tr>\n",
       "    <tr>\n",
       "      <th>49</th>\n",
       "      <td>Pranish Sonone\\n\\n\\t\\t\\n\\n\\n\\n\\n\\n\\n\\n\\n\\nCare...</td>\n",
       "      <td>NaN</td>\n",
       "      <td>NaN</td>\n",
       "      <td>NaN</td>\n",
       "      <td>jsdeveloper</td>\n",
       "    </tr>\n",
       "    <tr>\n",
       "      <th>50</th>\n",
       "      <td>Ranga Gaganam  \\n\\n\\n\\n \\n\\nProfessional\\n\\n \\...</td>\n",
       "      <td>NaN</td>\n",
       "      <td>NaN</td>\n",
       "      <td>NaN</td>\n",
       "      <td>jsdeveloper</td>\n",
       "    </tr>\n",
       "    <tr>\n",
       "      <th>51</th>\n",
       "      <td>SHAIK ABDUL SHARUK   \\n\\n2 years’ Experience i...</td>\n",
       "      <td>NaN</td>\n",
       "      <td>NaN</td>\n",
       "      <td>NaN</td>\n",
       "      <td>jsdeveloper</td>\n",
       "    </tr>\n",
       "  </tbody>\n",
       "</table>\n",
       "</div>"
      ],
      "text/plain": [
       "                                          Raw_Details   Category1  \\\n",
       "0   Anubhav Kumar Singh\\t\\t\\n\\n\\n\\nCore Competenci...  PeopleSoft   \n",
       "1   Classification: Internal\\n\\nClassification: In...  PeopleSoft   \n",
       "2   SIRAZUDDIN M\\n\\n\\tBangalore, INDIA\\t\\n\\n\\n\\n\\n...  PeopleSoft   \n",
       "3   PeopleSoft Admin\\n\\nVARKALA VIKAS\\n\\n\\n\\nCaree...  PeopleSoft   \n",
       "4   PeopleSoft Administration\\n\\n \\n\\nVivekanand S...  PeopleSoft   \n",
       "5   Hari Narayana \\t\\t              \\n\\n\\t\\n\\n\\n\\n...  PeopleSoft   \n",
       "6   Murali\\t\\t       \\n\\n\\t\\n\\n\\n\\n\\n\\n\\n\\n\\n\\n\\n\\...  PeopleSoft   \n",
       "7   Priyabrata Hota\\n\\n\\n\\n\\n\\nCAREER OBJECTIVE\\t\\...  PeopleSoft   \n",
       "8   Tanna Sujatha \\n\\n\\n\\n\\n\\n\\n\\nOBJECTIVE\\n\\nSee...  PeopleSoft   \n",
       "9   C O N T A C T :\\n\\n\\n\\nAddress: Manyata Tech P...  PeopleSoft   \n",
       "10  ANIL KUMAR MADDUKURI  \\t\\t\\n\\nSQL & MSBI Devel...         NaN   \n",
       "11  Aradhana Tripathi\\n\\n\\n\\nCurrent Location: Gac...         NaN   \n",
       "12  BUDDHA VAMSI                                  ...         NaN   \n",
       "13  KAMBALLA PRADEEP                              ...         NaN   \n",
       "14  Resume\\n\\nName     :  Neeraj Mishra\\n\\n\\n\\nExp...         NaN   \n",
       "15  SQL DEVELOPER\\n\\nName: -   Bandi prem sai\\n\\n\\...         NaN   \n",
       "16  SQL SERVER DEVELOPER\\n\\n\\n\\n\\n\\nP. Syam Kumar ...         NaN   \n",
       "17  RAJU PAVANA KUMARI\\n\\n\\n\\n\\t\\n\\n\\tProfessional...         NaN   \n",
       "18  resume\\n\\n\\n\\n\\n\\n\\t\\t\\t\\t\\t\\t\\t\\t\\t\\t\\t\\tRama...         NaN   \n",
       "19  Name: Ramesh\\n\\n\\t\\n\\n\\tCareer Objective: \\n\\n...         NaN   \n",
       "20  SQL AND MSBI DEVELOPER\\n\\nSQL AND MSBI DEVELOP...         NaN   \n",
       "21  Chinna Subbarayudu M\\n\\nDOB: 06th March 1994\\n...         NaN   \n",
       "22  Name         : Gopi Krishna Reddy\\n\\n\\t\\t     ...         NaN   \n",
       "23  G Himaja\\n\\n                                  ...         NaN   \n",
       "24  JYOTI VERMA\\t\\t\\t\\t\\t\\n\\n\\n\\nPROFESSIONAL SUMM...         NaN   \n",
       "25  Mooraboyina Guravaiah\\n\\nWorkday Integration S...         NaN   \n",
       "26  VENKATA SAIKRISHNA\\n\\n Workday Consultant\\n\\n\\...         NaN   \n",
       "27  Workday HCM  Techno functional Consultant     ...         NaN   \n",
       "28  Ramesh A\\t\\t\\t\\t\\t\\t\\t\\t\\t\\t\\t\\t\\t\\t\\t\\t\\t\\t\\t...         NaN   \n",
       "29  Srikanth (WORKDAY hCM Consultant)\\t           ...         NaN   \n",
       "30  WORKDAY | HCM | FCM\\n\\nName \\t\\t: Kumar S.S\\n\\...         NaN   \n",
       "31  Vinay kumar .v\\nWorkday Functional Consultant\\...         NaN   \n",
       "32  Name: Ravali P \\n\\n\\n\\n                       ...         NaN   \n",
       "33  SUSOVAN  BAG   \\n\\nSeeking  a  challenging  po...         NaN   \n",
       "34  Kanumuru Deepak Reddy\\n\\n\\n\\n\\t\\n\\n\\n\\nCAREER ...         NaN   \n",
       "35  HARIPRIYA BATTINA \\n\\nExperience as UI Develop...         NaN   \n",
       "36  KAMALAKAR REDDY. A \\n\\nLinked In: https://www....         NaN   \n",
       "37  Naveen Sadhu\\n\\n\\n\\n\\n\\nTitle: software develo...         NaN   \n",
       "38  PRAGNYA PATTNAIK\\n\\n \\n\\n \\n\\n \\n\\n Expertise:...         NaN   \n",
       "39  SARALA MADASU\\n\\nSARALA MADASU\\n\\n 204,Sri ge...         NaN   \n",
       "40  Thirupathamma Balla\\n\\n\\n\\nSUMMARY:\\n\\n\\n\\n2.8...         NaN   \n",
       "41  Ui-Developer/ React JS Developer \\n\\nNAME: KRI...         NaN   \n",
       "42  Ui-Developer/ React JS Developer \\n\\nNAME: KRI...         NaN   \n",
       "43  Kotani Durga Prasad\\n\\n\\n\\n\\n\\nObjective:\\n\\n\\...         NaN   \n",
       "44  Venkatalakshmi Pedireddy\\n\\nSoftware Developer...         NaN   \n",
       "45  KAMBALA SAI SURENDRA   \\n\\n \\n\\n \\n\\n \\n\\n\\n\\n...         NaN   \n",
       "46  MAREEDU LOKESH BABU\\n\\nPROFESSIONAL OVERVIEW\\n...         NaN   \n",
       "47  MAREEDU LOKESH BABU\\n\\n\\n\\nPROFESSIONAL OVERVI...         NaN   \n",
       "48  MD KHIZARUDDIN RAUF \\n\\n \\t EXPERIENCE \\n\\n   ...         NaN   \n",
       "49  Pranish Sonone\\n\\n\\t\\t\\n\\n\\n\\n\\n\\n\\n\\n\\n\\nCare...         NaN   \n",
       "50  Ranga Gaganam  \\n\\n\\n\\n \\n\\nProfessional\\n\\n \\...         NaN   \n",
       "51  SHAIK ABDUL SHARUK   \\n\\n2 years’ Experience i...         NaN   \n",
       "\n",
       "       Category2 Category3    Category4  \n",
       "0            NaN       NaN          NaN  \n",
       "1            NaN       NaN          NaN  \n",
       "2            NaN       NaN          NaN  \n",
       "3            NaN       NaN          NaN  \n",
       "4            NaN       NaN          NaN  \n",
       "5            NaN       NaN          NaN  \n",
       "6            NaN       NaN          NaN  \n",
       "7            NaN       NaN          NaN  \n",
       "8            NaN       NaN          NaN  \n",
       "9            NaN       NaN          NaN  \n",
       "10  SQLdeveloper       NaN          NaN  \n",
       "11  SQLdeveloper       NaN          NaN  \n",
       "12  SQLdeveloper       NaN          NaN  \n",
       "13  SQLdeveloper       NaN          NaN  \n",
       "14  SQLdeveloper       NaN          NaN  \n",
       "15  SQLdeveloper       NaN          NaN  \n",
       "16  SQLdeveloper       NaN          NaN  \n",
       "17  SQLdeveloper       NaN          NaN  \n",
       "18  SQLdeveloper       NaN          NaN  \n",
       "19  SQLdeveloper       NaN          NaN  \n",
       "20  SQLdeveloper       NaN          NaN  \n",
       "21           NaN   workday          NaN  \n",
       "22           NaN   workday          NaN  \n",
       "23           NaN   workday          NaN  \n",
       "24           NaN   workday          NaN  \n",
       "25           NaN   workday          NaN  \n",
       "26           NaN   workday          NaN  \n",
       "27           NaN   workday          NaN  \n",
       "28           NaN   workday          NaN  \n",
       "29           NaN   workday          NaN  \n",
       "30           NaN   workday          NaN  \n",
       "31           NaN   workday          NaN  \n",
       "32           NaN       NaN  jsdeveloper  \n",
       "33           NaN       NaN  jsdeveloper  \n",
       "34           NaN       NaN  jsdeveloper  \n",
       "35           NaN       NaN  jsdeveloper  \n",
       "36           NaN       NaN  jsdeveloper  \n",
       "37           NaN       NaN  jsdeveloper  \n",
       "38           NaN       NaN  jsdeveloper  \n",
       "39           NaN       NaN  jsdeveloper  \n",
       "40           NaN       NaN  jsdeveloper  \n",
       "41           NaN       NaN  jsdeveloper  \n",
       "42           NaN       NaN  jsdeveloper  \n",
       "43           NaN       NaN  jsdeveloper  \n",
       "44           NaN       NaN  jsdeveloper  \n",
       "45           NaN       NaN  jsdeveloper  \n",
       "46           NaN       NaN  jsdeveloper  \n",
       "47           NaN       NaN  jsdeveloper  \n",
       "48           NaN       NaN  jsdeveloper  \n",
       "49           NaN       NaN  jsdeveloper  \n",
       "50           NaN       NaN  jsdeveloper  \n",
       "51           NaN       NaN  jsdeveloper  "
      ]
     },
     "execution_count": 13,
     "metadata": {},
     "output_type": "execute_result"
    }
   ],
   "source": [
    "resume_data = data1.append([ data2, data3,data4], ignore_index = True)\n",
    "resume_data"
   ]
  },
  {
   "cell_type": "code",
   "execution_count": 14,
   "id": "567cb13e",
   "metadata": {},
   "outputs": [
    {
     "data": {
      "text/plain": [
       "(52, 5)"
      ]
     },
     "execution_count": 14,
     "metadata": {},
     "output_type": "execute_result"
    }
   ],
   "source": [
    "resume_data.shape"
   ]
  },
  {
   "cell_type": "code",
   "execution_count": 15,
   "id": "7c235ec4",
   "metadata": {},
   "outputs": [
    {
     "data": {
      "text/plain": [
       "Raw_Details    object\n",
       "Category1      object\n",
       "Category2      object\n",
       "Category3      object\n",
       "Category4      object\n",
       "dtype: object"
      ]
     },
     "execution_count": 15,
     "metadata": {},
     "output_type": "execute_result"
    }
   ],
   "source": [
    "resume_data.dtypes"
   ]
  },
  {
   "cell_type": "code",
   "execution_count": 16,
   "id": "06115609",
   "metadata": {},
   "outputs": [
    {
     "name": "stdout",
     "output_type": "stream",
     "text": [
      "                                          Raw_Details      Category\n",
      "0   Anubhav Kumar Singh\\t\\t\\n\\n\\n\\nCore Competenci...    PeopleSoft\n",
      "1   Classification: Internal\\n\\nClassification: In...    PeopleSoft\n",
      "2   SIRAZUDDIN M\\n\\n\\tBangalore, INDIA\\t\\n\\n\\n\\n\\n...    PeopleSoft\n",
      "3   PeopleSoft Admin\\n\\nVARKALA VIKAS\\n\\n\\n\\nCaree...    PeopleSoft\n",
      "4   PeopleSoft Administration\\n\\n \\n\\nVivekanand S...    PeopleSoft\n",
      "5   Hari Narayana \\t\\t              \\n\\n\\t\\n\\n\\n\\n...    PeopleSoft\n",
      "6   Murali\\t\\t       \\n\\n\\t\\n\\n\\n\\n\\n\\n\\n\\n\\n\\n\\n\\...    PeopleSoft\n",
      "7   Priyabrata Hota\\n\\n\\n\\n\\n\\nCAREER OBJECTIVE\\t\\...    PeopleSoft\n",
      "8   Tanna Sujatha \\n\\n\\n\\n\\n\\n\\n\\nOBJECTIVE\\n\\nSee...    PeopleSoft\n",
      "9   C O N T A C T :\\n\\n\\n\\nAddress: Manyata Tech P...    PeopleSoft\n",
      "10  ANIL KUMAR MADDUKURI  \\t\\t\\n\\nSQL & MSBI Devel...  SQLdeveloper\n",
      "11  Aradhana Tripathi\\n\\n\\n\\nCurrent Location: Gac...  SQLdeveloper\n",
      "12  BUDDHA VAMSI                                  ...  SQLdeveloper\n",
      "13  KAMBALLA PRADEEP                              ...  SQLdeveloper\n",
      "14  Resume\\n\\nName     :  Neeraj Mishra\\n\\n\\n\\nExp...  SQLdeveloper\n",
      "15  SQL DEVELOPER\\n\\nName: -   Bandi prem sai\\n\\n\\...  SQLdeveloper\n",
      "16  SQL SERVER DEVELOPER\\n\\n\\n\\n\\n\\nP. Syam Kumar ...  SQLdeveloper\n",
      "17  RAJU PAVANA KUMARI\\n\\n\\n\\n\\t\\n\\n\\tProfessional...  SQLdeveloper\n",
      "18  resume\\n\\n\\n\\n\\n\\n\\t\\t\\t\\t\\t\\t\\t\\t\\t\\t\\t\\tRama...  SQLdeveloper\n",
      "19  Name: Ramesh\\n\\n\\t\\n\\n\\tCareer Objective: \\n\\n...  SQLdeveloper\n",
      "20  SQL AND MSBI DEVELOPER\\n\\nSQL AND MSBI DEVELOP...  SQLdeveloper\n",
      "21  Chinna Subbarayudu M\\n\\nDOB: 06th March 1994\\n...       workday\n",
      "22  Name         : Gopi Krishna Reddy\\n\\n\\t\\t     ...       workday\n",
      "23  G Himaja\\n\\n                                  ...       workday\n",
      "24  JYOTI VERMA\\t\\t\\t\\t\\t\\n\\n\\n\\nPROFESSIONAL SUMM...       workday\n",
      "25  Mooraboyina Guravaiah\\n\\nWorkday Integration S...       workday\n",
      "26  VENKATA SAIKRISHNA\\n\\n Workday Consultant\\n\\n\\...       workday\n",
      "27  Workday HCM  Techno functional Consultant     ...       workday\n",
      "28  Ramesh A\\t\\t\\t\\t\\t\\t\\t\\t\\t\\t\\t\\t\\t\\t\\t\\t\\t\\t\\t...       workday\n",
      "29  Srikanth (WORKDAY hCM Consultant)\\t           ...       workday\n",
      "30  WORKDAY | HCM | FCM\\n\\nName \\t\\t: Kumar S.S\\n\\...       workday\n",
      "31  Vinay kumar .v\\nWorkday Functional Consultant\\...       workday\n",
      "32  Name: Ravali P \\n\\n\\n\\n                       ...   jsdeveloper\n",
      "33  SUSOVAN  BAG   \\n\\nSeeking  a  challenging  po...   jsdeveloper\n",
      "34  Kanumuru Deepak Reddy\\n\\n\\n\\n\\t\\n\\n\\n\\nCAREER ...   jsdeveloper\n",
      "35  HARIPRIYA BATTINA \\n\\nExperience as UI Develop...   jsdeveloper\n",
      "36  KAMALAKAR REDDY. A \\n\\nLinked In: https://www....   jsdeveloper\n",
      "37  Naveen Sadhu\\n\\n\\n\\n\\n\\nTitle: software develo...   jsdeveloper\n",
      "38  PRAGNYA PATTNAIK\\n\\n \\n\\n \\n\\n \\n\\n Expertise:...   jsdeveloper\n",
      "39  SARALA MADASU\\n\\nSARALA MADASU\\n\\n 204,Sri ge...   jsdeveloper\n",
      "40  Thirupathamma Balla\\n\\n\\n\\nSUMMARY:\\n\\n\\n\\n2.8...   jsdeveloper\n",
      "41  Ui-Developer/ React JS Developer \\n\\nNAME: KRI...   jsdeveloper\n",
      "42  Ui-Developer/ React JS Developer \\n\\nNAME: KRI...   jsdeveloper\n",
      "43  Kotani Durga Prasad\\n\\n\\n\\n\\n\\nObjective:\\n\\n\\...   jsdeveloper\n",
      "44  Venkatalakshmi Pedireddy\\n\\nSoftware Developer...   jsdeveloper\n",
      "45  KAMBALA SAI SURENDRA   \\n\\n \\n\\n \\n\\n \\n\\n\\n\\n...   jsdeveloper\n",
      "46  MAREEDU LOKESH BABU\\n\\nPROFESSIONAL OVERVIEW\\n...   jsdeveloper\n",
      "47  MAREEDU LOKESH BABU\\n\\n\\n\\nPROFESSIONAL OVERVI...   jsdeveloper\n",
      "48  MD KHIZARUDDIN RAUF \\n\\n \\t EXPERIENCE \\n\\n   ...   jsdeveloper\n",
      "49  Pranish Sonone\\n\\n\\t\\t\\n\\n\\n\\n\\n\\n\\n\\n\\n\\nCare...   jsdeveloper\n",
      "50  Ranga Gaganam  \\n\\n\\n\\n \\n\\nProfessional\\n\\n \\...   jsdeveloper\n",
      "51  SHAIK ABDUL SHARUK   \\n\\n2 years’ Experience i...   jsdeveloper\n"
     ]
    }
   ],
   "source": [
    "resume_data['Category'] = resume_data['Category1'].fillna('') + resume_data['Category2'].fillna('') + resume_data['Category3'].fillna('')+resume_data['Category4'].fillna('') \n",
    "\n",
    "resume_data.drop(['Category1', 'Category2', 'Category3','Category4'], axis=1, inplace=True)\n",
    "\n",
    "print(resume_data)"
   ]
  },
  {
   "cell_type": "code",
   "execution_count": 17,
   "id": "ddb7b6ee",
   "metadata": {},
   "outputs": [
    {
     "data": {
      "image/png": "[encoded data removed]",
      "text/plain": [
       "<Figure size 800x800 with 1 Axes>"
      ]
     },
     "metadata": {},
     "output_type": "display_data"
    }
   ],
   "source": [
    "fig = plt.figure(figsize=(8, 8))\n",
    "sizes = resume_data['Category'].value_counts()\n",
    "labels = resume_data['Category'].value_counts().index\n",
    "colors = ['#03F6E4', '#0380F6', '#C603F6', '#F65B03']\n",
    "explode = (0.01, 0.01, 0.01, 0.01)\n",
    "plt.pie(sizes, colors=colors, labels=labels, autopct=lambda x: '{:.0f}'.format(x * sizes.sum() / 100),\n",
    "        pctdistance=0.85, explode=explode, startangle=0, textprops={'size': 'large', 'fontweight': 'bold'})\n",
    "plt.show()"
   ]
  },
  {
   "cell_type": "code",
   "execution_count": 18,
   "id": "ddc02771",
   "metadata": {},
   "outputs": [],
   "source": [
    "resume_data.to_csv('Raw_Resume.csv', index=False)"
   ]
  },
  {
   "cell_type": "code",
   "execution_count": 19,
   "id": "2cb1975f",
   "metadata": {},
   "outputs": [
    {
     "data": {
      "text/html": [
       "<div>\n",
       "<style scoped>\n",
       "    .dataframe tbody tr th:only-of-type {\n",
       "        vertical-align: middle;\n",
       "    }\n",
       "\n",
       "    .dataframe tbody tr th {\n",
       "        vertical-align: top;\n",
       "    }\n",
       "\n",
       "    .dataframe thead th {\n",
       "        text-align: right;\n",
       "    }\n",
       "</style>\n",
       "<table border=\"1\" class=\"dataframe\">\n",
       "  <thead>\n",
       "    <tr style=\"text-align: right;\">\n",
       "      <th></th>\n",
       "      <th>Raw_Details</th>\n",
       "      <th>Category</th>\n",
       "    </tr>\n",
       "  </thead>\n",
       "  <tbody>\n",
       "    <tr>\n",
       "      <th>0</th>\n",
       "      <td>Anubhav Kumar Singh\\t\\t\\n\\n\\n\\nCore Competenci...</td>\n",
       "      <td>PeopleSoft</td>\n",
       "    </tr>\n",
       "    <tr>\n",
       "      <th>1</th>\n",
       "      <td>Classification: Internal\\n\\nClassification: In...</td>\n",
       "      <td>PeopleSoft</td>\n",
       "    </tr>\n",
       "    <tr>\n",
       "      <th>2</th>\n",
       "      <td>SIRAZUDDIN M\\n\\n\\tBangalore, INDIA\\t\\n\\n\\n\\n\\n...</td>\n",
       "      <td>PeopleSoft</td>\n",
       "    </tr>\n",
       "    <tr>\n",
       "      <th>3</th>\n",
       "      <td>PeopleSoft Admin\\n\\nVARKALA VIKAS\\n\\n\\n\\nCaree...</td>\n",
       "      <td>PeopleSoft</td>\n",
       "    </tr>\n",
       "    <tr>\n",
       "      <th>4</th>\n",
       "      <td>PeopleSoft Administration\\n\\n \\n\\nVivekanand S...</td>\n",
       "      <td>PeopleSoft</td>\n",
       "    </tr>\n",
       "    <tr>\n",
       "      <th>5</th>\n",
       "      <td>Hari Narayana \\t\\t              \\n\\n\\t\\n\\n\\n\\n...</td>\n",
       "      <td>PeopleSoft</td>\n",
       "    </tr>\n",
       "    <tr>\n",
       "      <th>6</th>\n",
       "      <td>Murali\\t\\t       \\n\\n\\t\\n\\n\\n\\n\\n\\n\\n\\n\\n\\n\\n\\...</td>\n",
       "      <td>PeopleSoft</td>\n",
       "    </tr>\n",
       "    <tr>\n",
       "      <th>7</th>\n",
       "      <td>Priyabrata Hota\\n\\n\\n\\n\\n\\nCAREER OBJECTIVE\\t\\...</td>\n",
       "      <td>PeopleSoft</td>\n",
       "    </tr>\n",
       "    <tr>\n",
       "      <th>8</th>\n",
       "      <td>Tanna Sujatha \\n\\n\\n\\n\\n\\n\\n\\nOBJECTIVE\\n\\nSee...</td>\n",
       "      <td>PeopleSoft</td>\n",
       "    </tr>\n",
       "    <tr>\n",
       "      <th>9</th>\n",
       "      <td>C O N T A C T :\\n\\n\\n\\nAddress: Manyata Tech P...</td>\n",
       "      <td>PeopleSoft</td>\n",
       "    </tr>\n",
       "    <tr>\n",
       "      <th>10</th>\n",
       "      <td>ANIL KUMAR MADDUKURI  \\t\\t\\n\\nSQL &amp; MSBI Devel...</td>\n",
       "      <td>SQLdeveloper</td>\n",
       "    </tr>\n",
       "    <tr>\n",
       "      <th>11</th>\n",
       "      <td>Aradhana Tripathi\\n\\n\\n\\nCurrent Location: Gac...</td>\n",
       "      <td>SQLdeveloper</td>\n",
       "    </tr>\n",
       "    <tr>\n",
       "      <th>12</th>\n",
       "      <td>BUDDHA VAMSI                                  ...</td>\n",
       "      <td>SQLdeveloper</td>\n",
       "    </tr>\n",
       "    <tr>\n",
       "      <th>13</th>\n",
       "      <td>KAMBALLA PRADEEP                              ...</td>\n",
       "      <td>SQLdeveloper</td>\n",
       "    </tr>\n",
       "    <tr>\n",
       "      <th>14</th>\n",
       "      <td>Resume\\n\\nName     :  Neeraj Mishra\\n\\n\\n\\nExp...</td>\n",
       "      <td>SQLdeveloper</td>\n",
       "    </tr>\n",
       "    <tr>\n",
       "      <th>15</th>\n",
       "      <td>SQL DEVELOPER\\n\\nName: -   Bandi prem sai\\n\\n\\...</td>\n",
       "      <td>SQLdeveloper</td>\n",
       "    </tr>\n",
       "    <tr>\n",
       "      <th>16</th>\n",
       "      <td>SQL SERVER DEVELOPER\\n\\n\\n\\n\\n\\nP. Syam Kumar ...</td>\n",
       "      <td>SQLdeveloper</td>\n",
       "    </tr>\n",
       "    <tr>\n",
       "      <th>17</th>\n",
       "      <td>RAJU PAVANA KUMARI\\n\\n\\n\\n\\t\\n\\n\\tProfessional...</td>\n",
       "      <td>SQLdeveloper</td>\n",
       "    </tr>\n",
       "    <tr>\n",
       "      <th>18</th>\n",
       "      <td>resume\\n\\n\\n\\n\\n\\n\\t\\t\\t\\t\\t\\t\\t\\t\\t\\t\\t\\tRama...</td>\n",
       "      <td>SQLdeveloper</td>\n",
       "    </tr>\n",
       "    <tr>\n",
       "      <th>19</th>\n",
       "      <td>Name: Ramesh\\n\\n\\t\\n\\n\\tCareer Objective: \\n\\n...</td>\n",
       "      <td>SQLdeveloper</td>\n",
       "    </tr>\n",
       "    <tr>\n",
       "      <th>20</th>\n",
       "      <td>SQL AND MSBI DEVELOPER\\n\\nSQL AND MSBI DEVELOP...</td>\n",
       "      <td>SQLdeveloper</td>\n",
       "    </tr>\n",
       "    <tr>\n",
       "      <th>21</th>\n",
       "      <td>Chinna Subbarayudu M\\n\\nDOB: 06th March 1994\\n...</td>\n",
       "      <td>workday</td>\n",
       "    </tr>\n",
       "    <tr>\n",
       "      <th>22</th>\n",
       "      <td>Name         : Gopi Krishna Reddy\\n\\n\\t\\t     ...</td>\n",
       "      <td>workday</td>\n",
       "    </tr>\n",
       "    <tr>\n",
       "      <th>23</th>\n",
       "      <td>G Himaja\\n\\n                                  ...</td>\n",
       "      <td>workday</td>\n",
       "    </tr>\n",
       "    <tr>\n",
       "      <th>24</th>\n",
       "      <td>JYOTI VERMA\\t\\t\\t\\t\\t\\n\\n\\n\\nPROFESSIONAL SUMM...</td>\n",
       "      <td>workday</td>\n",
       "    </tr>\n",
       "    <tr>\n",
       "      <th>25</th>\n",
       "      <td>Mooraboyina Guravaiah\\n\\nWorkday Integration S...</td>\n",
       "      <td>workday</td>\n",
       "    </tr>\n",
       "    <tr>\n",
       "      <th>26</th>\n",
       "      <td>VENKATA SAIKRISHNA\\n\\n Workday Consultant\\n\\n\\...</td>\n",
       "      <td>workday</td>\n",
       "    </tr>\n",
       "    <tr>\n",
       "      <th>27</th>\n",
       "      <td>Workday HCM  Techno functional Consultant     ...</td>\n",
       "      <td>workday</td>\n",
       "    </tr>\n",
       "    <tr>\n",
       "      <th>28</th>\n",
       "      <td>Ramesh A\\t\\t\\t\\t\\t\\t\\t\\t\\t\\t\\t\\t\\t\\t\\t\\t\\t\\t\\t...</td>\n",
       "      <td>workday</td>\n",
       "    </tr>\n",
       "    <tr>\n",
       "      <th>29</th>\n",
       "      <td>Srikanth (WORKDAY hCM Consultant)\\t           ...</td>\n",
       "      <td>workday</td>\n",
       "    </tr>\n",
       "    <tr>\n",
       "      <th>30</th>\n",
       "      <td>WORKDAY | HCM | FCM\\n\\nName \\t\\t: Kumar S.S\\n\\...</td>\n",
       "      <td>workday</td>\n",
       "    </tr>\n",
       "    <tr>\n",
       "      <th>31</th>\n",
       "      <td>Vinay kumar .v\\nWorkday Functional Consultant\\...</td>\n",
       "      <td>workday</td>\n",
       "    </tr>\n",
       "    <tr>\n",
       "      <th>32</th>\n",
       "      <td>Name: Ravali P \\n\\n\\n\\n                       ...</td>\n",
       "      <td>jsdeveloper</td>\n",
       "    </tr>\n",
       "    <tr>\n",
       "      <th>33</th>\n",
       "      <td>SUSOVAN  BAG   \\n\\nSeeking  a  challenging  po...</td>\n",
       "      <td>jsdeveloper</td>\n",
       "    </tr>\n",
       "    <tr>\n",
       "      <th>34</th>\n",
       "      <td>Kanumuru Deepak Reddy\\n\\n\\n\\n\\t\\n\\n\\n\\nCAREER ...</td>\n",
       "      <td>jsdeveloper</td>\n",
       "    </tr>\n",
       "    <tr>\n",
       "      <th>35</th>\n",
       "      <td>HARIPRIYA BATTINA \\n\\nExperience as UI Develop...</td>\n",
       "      <td>jsdeveloper</td>\n",
       "    </tr>\n",
       "    <tr>\n",
       "      <th>36</th>\n",
       "      <td>KAMALAKAR REDDY. A \\n\\nLinked In: https://www....</td>\n",
       "      <td>jsdeveloper</td>\n",
       "    </tr>\n",
       "    <tr>\n",
       "      <th>37</th>\n",
       "      <td>Naveen Sadhu\\n\\n\\n\\n\\n\\nTitle: software develo...</td>\n",
       "      <td>jsdeveloper</td>\n",
       "    </tr>\n",
       "    <tr>\n",
       "      <th>38</th>\n",
       "      <td>PRAGNYA PATTNAIK\\n\\n \\n\\n \\n\\n \\n\\n Expertise:...</td>\n",
       "      <td>jsdeveloper</td>\n",
       "    </tr>\n",
       "    <tr>\n",
       "      <th>39</th>\n",
       "      <td>SARALA MADASU\\n\\nSARALA MADASU\\n\\n 204,Sri ge...</td>\n",
       "      <td>jsdeveloper</td>\n",
       "    </tr>\n",
       "    <tr>\n",
       "      <th>40</th>\n",
       "      <td>Thirupathamma Balla\\n\\n\\n\\nSUMMARY:\\n\\n\\n\\n2.8...</td>\n",
       "      <td>jsdeveloper</td>\n",
       "    </tr>\n",
       "    <tr>\n",
       "      <th>41</th>\n",
       "      <td>Ui-Developer/ React JS Developer \\n\\nNAME: KRI...</td>\n",
       "      <td>jsdeveloper</td>\n",
       "    </tr>\n",
       "    <tr>\n",
       "      <th>42</th>\n",
       "      <td>Ui-Developer/ React JS Developer \\n\\nNAME: KRI...</td>\n",
       "      <td>jsdeveloper</td>\n",
       "    </tr>\n",
       "    <tr>\n",
       "      <th>43</th>\n",
       "      <td>Kotani Durga Prasad\\n\\n\\n\\n\\n\\nObjective:\\n\\n\\...</td>\n",
       "      <td>jsdeveloper</td>\n",
       "    </tr>\n",
       "    <tr>\n",
       "      <th>44</th>\n",
       "      <td>Venkatalakshmi Pedireddy\\n\\nSoftware Developer...</td>\n",
       "      <td>jsdeveloper</td>\n",
       "    </tr>\n",
       "    <tr>\n",
       "      <th>45</th>\n",
       "      <td>KAMBALA SAI SURENDRA   \\n\\n \\n\\n \\n\\n \\n\\n\\n\\n...</td>\n",
       "      <td>jsdeveloper</td>\n",
       "    </tr>\n",
       "    <tr>\n",
       "      <th>46</th>\n",
       "      <td>MAREEDU LOKESH BABU\\n\\nPROFESSIONAL OVERVIEW\\n...</td>\n",
       "      <td>jsdeveloper</td>\n",
       "    </tr>\n",
       "    <tr>\n",
       "      <th>47</th>\n",
       "      <td>MAREEDU LOKESH BABU\\n\\n\\n\\nPROFESSIONAL OVERVI...</td>\n",
       "      <td>jsdeveloper</td>\n",
       "    </tr>\n",
       "    <tr>\n",
       "      <th>48</th>\n",
       "      <td>MD KHIZARUDDIN RAUF \\n\\n \\t EXPERIENCE \\n\\n   ...</td>\n",
       "      <td>jsdeveloper</td>\n",
       "    </tr>\n",
       "    <tr>\n",
       "      <th>49</th>\n",
       "      <td>Pranish Sonone\\n\\n\\t\\t\\n\\n\\n\\n\\n\\n\\n\\n\\n\\nCare...</td>\n",
       "      <td>jsdeveloper</td>\n",
       "    </tr>\n",
       "    <tr>\n",
       "      <th>50</th>\n",
       "      <td>Ranga Gaganam  \\n\\n\\n\\n \\n\\nProfessional\\n\\n \\...</td>\n",
       "      <td>jsdeveloper</td>\n",
       "    </tr>\n",
       "    <tr>\n",
       "      <th>51</th>\n",
       "      <td>SHAIK ABDUL SHARUK   \\n\\n2 years’ Experience i...</td>\n",
       "      <td>jsdeveloper</td>\n",
       "    </tr>\n",
       "  </tbody>\n",
       "</table>\n",
       "</div>"
      ],
      "text/plain": [
       "                                          Raw_Details      Category\n",
       "0   Anubhav Kumar Singh\\t\\t\\n\\n\\n\\nCore Competenci...    PeopleSoft\n",
       "1   Classification: Internal\\n\\nClassification: In...    PeopleSoft\n",
       "2   SIRAZUDDIN M\\n\\n\\tBangalore, INDIA\\t\\n\\n\\n\\n\\n...    PeopleSoft\n",
       "3   PeopleSoft Admin\\n\\nVARKALA VIKAS\\n\\n\\n\\nCaree...    PeopleSoft\n",
       "4   PeopleSoft Administration\\n\\n \\n\\nVivekanand S...    PeopleSoft\n",
       "5   Hari Narayana \\t\\t              \\n\\n\\t\\n\\n\\n\\n...    PeopleSoft\n",
       "6   Murali\\t\\t       \\n\\n\\t\\n\\n\\n\\n\\n\\n\\n\\n\\n\\n\\n\\...    PeopleSoft\n",
       "7   Priyabrata Hota\\n\\n\\n\\n\\n\\nCAREER OBJECTIVE\\t\\...    PeopleSoft\n",
       "8   Tanna Sujatha \\n\\n\\n\\n\\n\\n\\n\\nOBJECTIVE\\n\\nSee...    PeopleSoft\n",
       "9   C O N T A C T :\\n\\n\\n\\nAddress: Manyata Tech P...    PeopleSoft\n",
       "10  ANIL KUMAR MADDUKURI  \\t\\t\\n\\nSQL & MSBI Devel...  SQLdeveloper\n",
       "11  Aradhana Tripathi\\n\\n\\n\\nCurrent Location: Gac...  SQLdeveloper\n",
       "12  BUDDHA VAMSI                                  ...  SQLdeveloper\n",
       "13  KAMBALLA PRADEEP                              ...  SQLdeveloper\n",
       "14  Resume\\n\\nName     :  Neeraj Mishra\\n\\n\\n\\nExp...  SQLdeveloper\n",
       "15  SQL DEVELOPER\\n\\nName: -   Bandi prem sai\\n\\n\\...  SQLdeveloper\n",
       "16  SQL SERVER DEVELOPER\\n\\n\\n\\n\\n\\nP. Syam Kumar ...  SQLdeveloper\n",
       "17  RAJU PAVANA KUMARI\\n\\n\\n\\n\\t\\n\\n\\tProfessional...  SQLdeveloper\n",
       "18  resume\\n\\n\\n\\n\\n\\n\\t\\t\\t\\t\\t\\t\\t\\t\\t\\t\\t\\tRama...  SQLdeveloper\n",
       "19  Name: Ramesh\\n\\n\\t\\n\\n\\tCareer Objective: \\n\\n...  SQLdeveloper\n",
       "20  SQL AND MSBI DEVELOPER\\n\\nSQL AND MSBI DEVELOP...  SQLdeveloper\n",
       "21  Chinna Subbarayudu M\\n\\nDOB: 06th March 1994\\n...       workday\n",
       "22  Name         : Gopi Krishna Reddy\\n\\n\\t\\t     ...       workday\n",
       "23  G Himaja\\n\\n                                  ...       workday\n",
       "24  JYOTI VERMA\\t\\t\\t\\t\\t\\n\\n\\n\\nPROFESSIONAL SUMM...       workday\n",
       "25  Mooraboyina Guravaiah\\n\\nWorkday Integration S...       workday\n",
       "26  VENKATA SAIKRISHNA\\n\\n Workday Consultant\\n\\n\\...       workday\n",
       "27  Workday HCM  Techno functional Consultant     ...       workday\n",
       "28  Ramesh A\\t\\t\\t\\t\\t\\t\\t\\t\\t\\t\\t\\t\\t\\t\\t\\t\\t\\t\\t...       workday\n",
       "29  Srikanth (WORKDAY hCM Consultant)\\t           ...       workday\n",
       "30  WORKDAY | HCM | FCM\\n\\nName \\t\\t: Kumar S.S\\n\\...       workday\n",
       "31  Vinay kumar .v\\nWorkday Functional Consultant\\...       workday\n",
       "32  Name: Ravali P \\n\\n\\n\\n                       ...   jsdeveloper\n",
       "33  SUSOVAN  BAG   \\n\\nSeeking  a  challenging  po...   jsdeveloper\n",
       "34  Kanumuru Deepak Reddy\\n\\n\\n\\n\\t\\n\\n\\n\\nCAREER ...   jsdeveloper\n",
       "35  HARIPRIYA BATTINA \\n\\nExperience as UI Develop...   jsdeveloper\n",
       "36  KAMALAKAR REDDY. A \\n\\nLinked In: https://www....   jsdeveloper\n",
       "37  Naveen Sadhu\\n\\n\\n\\n\\n\\nTitle: software develo...   jsdeveloper\n",
       "38  PRAGNYA PATTNAIK\\n\\n \\n\\n \\n\\n \\n\\n Expertise:...   jsdeveloper\n",
       "39  SARALA MADASU\\n\\nSARALA MADASU\\n\\n 204,Sri ge...   jsdeveloper\n",
       "40  Thirupathamma Balla\\n\\n\\n\\nSUMMARY:\\n\\n\\n\\n2.8...   jsdeveloper\n",
       "41  Ui-Developer/ React JS Developer \\n\\nNAME: KRI...   jsdeveloper\n",
       "42  Ui-Developer/ React JS Developer \\n\\nNAME: KRI...   jsdeveloper\n",
       "43  Kotani Durga Prasad\\n\\n\\n\\n\\n\\nObjective:\\n\\n\\...   jsdeveloper\n",
       "44  Venkatalakshmi Pedireddy\\n\\nSoftware Developer...   jsdeveloper\n",
       "45  KAMBALA SAI SURENDRA   \\n\\n \\n\\n \\n\\n \\n\\n\\n\\n...   jsdeveloper\n",
       "46  MAREEDU LOKESH BABU\\n\\nPROFESSIONAL OVERVIEW\\n...   jsdeveloper\n",
       "47  MAREEDU LOKESH BABU\\n\\n\\n\\nPROFESSIONAL OVERVI...   jsdeveloper\n",
       "48  MD KHIZARUDDIN RAUF \\n\\n \\t EXPERIENCE \\n\\n   ...   jsdeveloper\n",
       "49  Pranish Sonone\\n\\n\\t\\t\\n\\n\\n\\n\\n\\n\\n\\n\\n\\nCare...   jsdeveloper\n",
       "50  Ranga Gaganam  \\n\\n\\n\\n \\n\\nProfessional\\n\\n \\...   jsdeveloper\n",
       "51  SHAIK ABDUL SHARUK   \\n\\n2 years’ Experience i...   jsdeveloper"
      ]
     },
     "execution_count": 19,
     "metadata": {},
     "output_type": "execute_result"
    }
   ],
   "source": [
    "resume_data = pd.read_csv(\"Raw_Resume.csv\")\n",
    "resume_data"
   ]
  },
  {
   "cell_type": "code",
   "execution_count": 20,
   "id": "8b3b5366",
   "metadata": {},
   "outputs": [],
   "source": [
    "import re\n",
    "from nltk.corpus import stopwords\n",
    "from nltk.tokenize import RegexpTokenizer"
   ]
  },
  {
   "cell_type": "code",
   "execution_count": 21,
   "id": "cd4753bf",
   "metadata": {},
   "outputs": [],
   "source": [
    "def preprocess(sentence):\n",
    "    sentence = str(sentence)\n",
    "    sentence = sentence.lower()\n",
    "    sentence = sentence.replace('{html}',\"\") \n",
    "    cleanr = re.compile('<.*?>')\n",
    "    cleantext = re.sub(cleanr, '', sentence)\n",
    "    rem_url = re.sub(r'http\\S+', '',cleantext)\n",
    "    rem_num = re.sub('[0-9]+', '', rem_url)\n",
    "    tokenizer = RegexpTokenizer(r'\\w+')\n",
    "    tokens = tokenizer.tokenize(rem_num)  \n",
    "    filtered_words = [w for w in tokens if len(w) > 2 if not w in stopwords.words('english')]\n",
    "\n",
    "    return \" \".join(filtered_words)"
   ]
  },
  {
   "cell_type": "code",
   "execution_count": 22,
   "id": "b5f745b5",
   "metadata": {},
   "outputs": [],
   "source": [
    "resume_data['Resume_Details'] = resume_data.Raw_Details.apply(lambda x: preprocess(x))"
   ]
  },
  {
   "cell_type": "markdown",
   "id": "b4cd1bd5",
   "metadata": {},
   "source": [
    "# clean Text from Resume"
   ]
  },
  {
   "cell_type": "code",
   "execution_count": 23,
   "id": "77f89f27",
   "metadata": {},
   "outputs": [
    {
     "data": {
      "text/html": [
       "<div>\n",
       "<style scoped>\n",
       "    .dataframe tbody tr th:only-of-type {\n",
       "        vertical-align: middle;\n",
       "    }\n",
       "\n",
       "    .dataframe tbody tr th {\n",
       "        vertical-align: top;\n",
       "    }\n",
       "\n",
       "    .dataframe thead th {\n",
       "        text-align: right;\n",
       "    }\n",
       "</style>\n",
       "<table border=\"1\" class=\"dataframe\">\n",
       "  <thead>\n",
       "    <tr style=\"text-align: right;\">\n",
       "      <th></th>\n",
       "      <th>Category</th>\n",
       "      <th>Resume_Details</th>\n",
       "    </tr>\n",
       "  </thead>\n",
       "  <tbody>\n",
       "    <tr>\n",
       "      <th>0</th>\n",
       "      <td>PeopleSoft</td>\n",
       "      <td>anubhav kumar singh core competencies scriptin...</td>\n",
       "    </tr>\n",
       "    <tr>\n",
       "      <th>1</th>\n",
       "      <td>PeopleSoft</td>\n",
       "      <td>classification internal classification interna...</td>\n",
       "    </tr>\n",
       "    <tr>\n",
       "      <th>2</th>\n",
       "      <td>PeopleSoft</td>\n",
       "      <td>sirazuddin bangalore india sirazuddin bangalor...</td>\n",
       "    </tr>\n",
       "    <tr>\n",
       "      <th>3</th>\n",
       "      <td>PeopleSoft</td>\n",
       "      <td>peoplesoft admin varkala vikas career objectiv...</td>\n",
       "    </tr>\n",
       "    <tr>\n",
       "      <th>4</th>\n",
       "      <td>PeopleSoft</td>\n",
       "      <td>peoplesoft administration vivekanand sayana ca...</td>\n",
       "    </tr>\n",
       "    <tr>\n",
       "      <th>5</th>\n",
       "      <td>PeopleSoft</td>\n",
       "      <td>hari narayana professional summary years exper...</td>\n",
       "    </tr>\n",
       "    <tr>\n",
       "      <th>6</th>\n",
       "      <td>PeopleSoft</td>\n",
       "      <td>murali professional summary years experience p...</td>\n",
       "    </tr>\n",
       "    <tr>\n",
       "      <th>7</th>\n",
       "      <td>PeopleSoft</td>\n",
       "      <td>priyabrata hota career objective pursuing peop...</td>\n",
       "    </tr>\n",
       "    <tr>\n",
       "      <th>8</th>\n",
       "      <td>PeopleSoft</td>\n",
       "      <td>tanna sujatha objective seeking challenging ro...</td>\n",
       "    </tr>\n",
       "    <tr>\n",
       "      <th>9</th>\n",
       "      <td>PeopleSoft</td>\n",
       "      <td>address manyata tech park nagavara bangalore l...</td>\n",
       "    </tr>\n",
       "    <tr>\n",
       "      <th>10</th>\n",
       "      <td>SQLdeveloper</td>\n",
       "      <td>anil kumar maddukuri sql msbi developer summar...</td>\n",
       "    </tr>\n",
       "    <tr>\n",
       "      <th>11</th>\n",
       "      <td>SQLdeveloper</td>\n",
       "      <td>aradhana tripathi current location gachibowli ...</td>\n",
       "    </tr>\n",
       "    <tr>\n",
       "      <th>12</th>\n",
       "      <td>SQLdeveloper</td>\n",
       "      <td>buddha vamsi career objective years experience...</td>\n",
       "    </tr>\n",
       "    <tr>\n",
       "      <th>13</th>\n",
       "      <td>SQLdeveloper</td>\n",
       "      <td>kamballa pradeep synopsis looking forward aspi...</td>\n",
       "    </tr>\n",
       "    <tr>\n",
       "      <th>14</th>\n",
       "      <td>SQLdeveloper</td>\n",
       "      <td>resume name neeraj mishra experience summary y...</td>\n",
       "    </tr>\n",
       "    <tr>\n",
       "      <th>15</th>\n",
       "      <td>SQLdeveloper</td>\n",
       "      <td>sql developer name bandi prem sai career objec...</td>\n",
       "    </tr>\n",
       "    <tr>\n",
       "      <th>16</th>\n",
       "      <td>SQLdeveloper</td>\n",
       "      <td>sql server developer syam kumar professional s...</td>\n",
       "    </tr>\n",
       "    <tr>\n",
       "      <th>17</th>\n",
       "      <td>SQLdeveloper</td>\n",
       "      <td>raju pavana kumari professional summary years ...</td>\n",
       "    </tr>\n",
       "    <tr>\n",
       "      <th>18</th>\n",
       "      <td>SQLdeveloper</td>\n",
       "      <td>resume ramalakshmi career objective profession...</td>\n",
       "    </tr>\n",
       "    <tr>\n",
       "      <th>19</th>\n",
       "      <td>SQLdeveloper</td>\n",
       "      <td>name ramesh career objective contribute organi...</td>\n",
       "    </tr>\n",
       "    <tr>\n",
       "      <th>20</th>\n",
       "      <td>SQLdeveloper</td>\n",
       "      <td>sql msbi developer sql msbi developer vinod ku...</td>\n",
       "    </tr>\n",
       "    <tr>\n",
       "      <th>21</th>\n",
       "      <td>workday</td>\n",
       "      <td>chinna subbarayudu dob march nationality india...</td>\n",
       "    </tr>\n",
       "    <tr>\n",
       "      <th>22</th>\n",
       "      <td>workday</td>\n",
       "      <td>name gopi krishna reddy professional summery w...</td>\n",
       "    </tr>\n",
       "    <tr>\n",
       "      <th>23</th>\n",
       "      <td>workday</td>\n",
       "      <td>himaja career objective work towards achieving...</td>\n",
       "    </tr>\n",
       "    <tr>\n",
       "      <th>24</th>\n",
       "      <td>workday</td>\n",
       "      <td>jyoti verma professional summary professional ...</td>\n",
       "    </tr>\n",
       "    <tr>\n",
       "      <th>25</th>\n",
       "      <td>workday</td>\n",
       "      <td>mooraboyina guravaiah workday integration spec...</td>\n",
       "    </tr>\n",
       "    <tr>\n",
       "      <th>26</th>\n",
       "      <td>workday</td>\n",
       "      <td>venkata saikrishna workday consultant profssio...</td>\n",
       "    </tr>\n",
       "    <tr>\n",
       "      <th>27</th>\n",
       "      <td>workday</td>\n",
       "      <td>workday hcm techno functional consultant rahul...</td>\n",
       "    </tr>\n",
       "    <tr>\n",
       "      <th>28</th>\n",
       "      <td>workday</td>\n",
       "      <td>ramesh workday hcm consultant professional sum...</td>\n",
       "    </tr>\n",
       "    <tr>\n",
       "      <th>29</th>\n",
       "      <td>workday</td>\n",
       "      <td>srikanth workday hcm consultant seeking suitab...</td>\n",
       "    </tr>\n",
       "    <tr>\n",
       "      <th>30</th>\n",
       "      <td>workday</td>\n",
       "      <td>workday hcm fcm name kumar role workday consul...</td>\n",
       "    </tr>\n",
       "    <tr>\n",
       "      <th>31</th>\n",
       "      <td>workday</td>\n",
       "      <td>vinay kumar workday functional consultant expe...</td>\n",
       "    </tr>\n",
       "    <tr>\n",
       "      <th>32</th>\n",
       "      <td>jsdeveloper</td>\n",
       "      <td>name ravali curriculum vitae specialization co...</td>\n",
       "    </tr>\n",
       "    <tr>\n",
       "      <th>33</th>\n",
       "      <td>jsdeveloper</td>\n",
       "      <td>susovan bag seeking challenging position field...</td>\n",
       "    </tr>\n",
       "    <tr>\n",
       "      <th>34</th>\n",
       "      <td>jsdeveloper</td>\n",
       "      <td>kanumuru deepak reddy career objective secure ...</td>\n",
       "    </tr>\n",
       "    <tr>\n",
       "      <th>35</th>\n",
       "      <td>jsdeveloper</td>\n",
       "      <td>haripriya battina experience developer reactjs...</td>\n",
       "    </tr>\n",
       "    <tr>\n",
       "      <th>36</th>\n",
       "      <td>jsdeveloper</td>\n",
       "      <td>kamalakar reddy linked professional summary ye...</td>\n",
       "    </tr>\n",
       "    <tr>\n",
       "      <th>37</th>\n",
       "      <td>jsdeveloper</td>\n",
       "      <td>naveen sadhu title software developer location...</td>\n",
       "    </tr>\n",
       "    <tr>\n",
       "      <th>38</th>\n",
       "      <td>jsdeveloper</td>\n",
       "      <td>pragnya pattnaik expertise around years experi...</td>\n",
       "    </tr>\n",
       "    <tr>\n",
       "      <th>39</th>\n",
       "      <td>jsdeveloper</td>\n",
       "      <td>sarala madasu sarala madasu sri geethika prest...</td>\n",
       "    </tr>\n",
       "    <tr>\n",
       "      <th>40</th>\n",
       "      <td>jsdeveloper</td>\n",
       "      <td>thirupathamma balla summary year experience re...</td>\n",
       "    </tr>\n",
       "    <tr>\n",
       "      <th>41</th>\n",
       "      <td>jsdeveloper</td>\n",
       "      <td>developer react developer name krishna profess...</td>\n",
       "    </tr>\n",
       "    <tr>\n",
       "      <th>42</th>\n",
       "      <td>jsdeveloper</td>\n",
       "      <td>developer react developer name krishna profess...</td>\n",
       "    </tr>\n",
       "    <tr>\n",
       "      <th>43</th>\n",
       "      <td>jsdeveloper</td>\n",
       "      <td>kotani durga prasad objective aspirant positio...</td>\n",
       "    </tr>\n",
       "    <tr>\n",
       "      <th>44</th>\n",
       "      <td>jsdeveloper</td>\n",
       "      <td>venkatalakshmi pedireddy software developer ex...</td>\n",
       "    </tr>\n",
       "    <tr>\n",
       "      <th>45</th>\n",
       "      <td>jsdeveloper</td>\n",
       "      <td>kambala sai surendra summary project basic kno...</td>\n",
       "    </tr>\n",
       "    <tr>\n",
       "      <th>46</th>\n",
       "      <td>jsdeveloper</td>\n",
       "      <td>mareedu lokesh babu professional overview arou...</td>\n",
       "    </tr>\n",
       "    <tr>\n",
       "      <th>47</th>\n",
       "      <td>jsdeveloper</td>\n",
       "      <td>mareedu lokesh babu professional overview arou...</td>\n",
       "    </tr>\n",
       "    <tr>\n",
       "      <th>48</th>\n",
       "      <td>jsdeveloper</td>\n",
       "      <td>khizaruddin rauf experience currently working ...</td>\n",
       "    </tr>\n",
       "    <tr>\n",
       "      <th>49</th>\n",
       "      <td>jsdeveloper</td>\n",
       "      <td>pranish sonone career summary experience years...</td>\n",
       "    </tr>\n",
       "    <tr>\n",
       "      <th>50</th>\n",
       "      <td>jsdeveloper</td>\n",
       "      <td>ranga gaganam professional summary professiona...</td>\n",
       "    </tr>\n",
       "    <tr>\n",
       "      <th>51</th>\n",
       "      <td>jsdeveloper</td>\n",
       "      <td>shaik abdul sharuk years experience wipro care...</td>\n",
       "    </tr>\n",
       "  </tbody>\n",
       "</table>\n",
       "</div>"
      ],
      "text/plain": [
       "        Category                                     Resume_Details\n",
       "0     PeopleSoft  anubhav kumar singh core competencies scriptin...\n",
       "1     PeopleSoft  classification internal classification interna...\n",
       "2     PeopleSoft  sirazuddin bangalore india sirazuddin bangalor...\n",
       "3     PeopleSoft  peoplesoft admin varkala vikas career objectiv...\n",
       "4     PeopleSoft  peoplesoft administration vivekanand sayana ca...\n",
       "5     PeopleSoft  hari narayana professional summary years exper...\n",
       "6     PeopleSoft  murali professional summary years experience p...\n",
       "7     PeopleSoft  priyabrata hota career objective pursuing peop...\n",
       "8     PeopleSoft  tanna sujatha objective seeking challenging ro...\n",
       "9     PeopleSoft  address manyata tech park nagavara bangalore l...\n",
       "10  SQLdeveloper  anil kumar maddukuri sql msbi developer summar...\n",
       "11  SQLdeveloper  aradhana tripathi current location gachibowli ...\n",
       "12  SQLdeveloper  buddha vamsi career objective years experience...\n",
       "13  SQLdeveloper  kamballa pradeep synopsis looking forward aspi...\n",
       "14  SQLdeveloper  resume name neeraj mishra experience summary y...\n",
       "15  SQLdeveloper  sql developer name bandi prem sai career objec...\n",
       "16  SQLdeveloper  sql server developer syam kumar professional s...\n",
       "17  SQLdeveloper  raju pavana kumari professional summary years ...\n",
       "18  SQLdeveloper  resume ramalakshmi career objective profession...\n",
       "19  SQLdeveloper  name ramesh career objective contribute organi...\n",
       "20  SQLdeveloper  sql msbi developer sql msbi developer vinod ku...\n",
       "21       workday  chinna subbarayudu dob march nationality india...\n",
       "22       workday  name gopi krishna reddy professional summery w...\n",
       "23       workday  himaja career objective work towards achieving...\n",
       "24       workday  jyoti verma professional summary professional ...\n",
       "25       workday  mooraboyina guravaiah workday integration spec...\n",
       "26       workday  venkata saikrishna workday consultant profssio...\n",
       "27       workday  workday hcm techno functional consultant rahul...\n",
       "28       workday  ramesh workday hcm consultant professional sum...\n",
       "29       workday  srikanth workday hcm consultant seeking suitab...\n",
       "30       workday  workday hcm fcm name kumar role workday consul...\n",
       "31       workday  vinay kumar workday functional consultant expe...\n",
       "32   jsdeveloper  name ravali curriculum vitae specialization co...\n",
       "33   jsdeveloper  susovan bag seeking challenging position field...\n",
       "34   jsdeveloper  kanumuru deepak reddy career objective secure ...\n",
       "35   jsdeveloper  haripriya battina experience developer reactjs...\n",
       "36   jsdeveloper  kamalakar reddy linked professional summary ye...\n",
       "37   jsdeveloper  naveen sadhu title software developer location...\n",
       "38   jsdeveloper  pragnya pattnaik expertise around years experi...\n",
       "39   jsdeveloper  sarala madasu sarala madasu sri geethika prest...\n",
       "40   jsdeveloper  thirupathamma balla summary year experience re...\n",
       "41   jsdeveloper  developer react developer name krishna profess...\n",
       "42   jsdeveloper  developer react developer name krishna profess...\n",
       "43   jsdeveloper  kotani durga prasad objective aspirant positio...\n",
       "44   jsdeveloper  venkatalakshmi pedireddy software developer ex...\n",
       "45   jsdeveloper  kambala sai surendra summary project basic kno...\n",
       "46   jsdeveloper  mareedu lokesh babu professional overview arou...\n",
       "47   jsdeveloper  mareedu lokesh babu professional overview arou...\n",
       "48   jsdeveloper  khizaruddin rauf experience currently working ...\n",
       "49   jsdeveloper  pranish sonone career summary experience years...\n",
       "50   jsdeveloper  ranga gaganam professional summary professiona...\n",
       "51   jsdeveloper  shaik abdul sharuk years experience wipro care..."
      ]
     },
     "execution_count": 23,
     "metadata": {},
     "output_type": "execute_result"
    }
   ],
   "source": [
    "resume_data.drop(['Raw_Details'],axis =1,inplace =True)\n",
    "resume_data"
   ]
  },
  {
   "cell_type": "code",
   "execution_count": 24,
   "id": "dd8a31ac",
   "metadata": {},
   "outputs": [],
   "source": [
    "resume_data.to_csv('Cleaned_Resumes.csv', index = False)"
   ]
  },
  {
   "cell_type": "code",
   "execution_count": 25,
   "id": "3e4ff75e",
   "metadata": {},
   "outputs": [
    {
     "data": {
      "text/html": [
       "<div>\n",
       "<style scoped>\n",
       "    .dataframe tbody tr th:only-of-type {\n",
       "        vertical-align: middle;\n",
       "    }\n",
       "\n",
       "    .dataframe tbody tr th {\n",
       "        vertical-align: top;\n",
       "    }\n",
       "\n",
       "    .dataframe thead th {\n",
       "        text-align: right;\n",
       "    }\n",
       "</style>\n",
       "<table border=\"1\" class=\"dataframe\">\n",
       "  <thead>\n",
       "    <tr style=\"text-align: right;\">\n",
       "      <th></th>\n",
       "      <th>Category</th>\n",
       "      <th>Resume_Details</th>\n",
       "    </tr>\n",
       "  </thead>\n",
       "  <tbody>\n",
       "    <tr>\n",
       "      <th>0</th>\n",
       "      <td>PeopleSoft</td>\n",
       "      <td>anubhav kumar singh core competencies scriptin...</td>\n",
       "    </tr>\n",
       "    <tr>\n",
       "      <th>1</th>\n",
       "      <td>PeopleSoft</td>\n",
       "      <td>classification internal classification interna...</td>\n",
       "    </tr>\n",
       "    <tr>\n",
       "      <th>2</th>\n",
       "      <td>PeopleSoft</td>\n",
       "      <td>sirazuddin bangalore india sirazuddin bangalor...</td>\n",
       "    </tr>\n",
       "    <tr>\n",
       "      <th>3</th>\n",
       "      <td>PeopleSoft</td>\n",
       "      <td>peoplesoft admin varkala vikas career objectiv...</td>\n",
       "    </tr>\n",
       "    <tr>\n",
       "      <th>4</th>\n",
       "      <td>PeopleSoft</td>\n",
       "      <td>peoplesoft administration vivekanand sayana ca...</td>\n",
       "    </tr>\n",
       "    <tr>\n",
       "      <th>5</th>\n",
       "      <td>PeopleSoft</td>\n",
       "      <td>hari narayana professional summary years exper...</td>\n",
       "    </tr>\n",
       "    <tr>\n",
       "      <th>6</th>\n",
       "      <td>PeopleSoft</td>\n",
       "      <td>murali professional summary years experience p...</td>\n",
       "    </tr>\n",
       "    <tr>\n",
       "      <th>7</th>\n",
       "      <td>PeopleSoft</td>\n",
       "      <td>priyabrata hota career objective pursuing peop...</td>\n",
       "    </tr>\n",
       "    <tr>\n",
       "      <th>8</th>\n",
       "      <td>PeopleSoft</td>\n",
       "      <td>tanna sujatha objective seeking challenging ro...</td>\n",
       "    </tr>\n",
       "    <tr>\n",
       "      <th>9</th>\n",
       "      <td>PeopleSoft</td>\n",
       "      <td>address manyata tech park nagavara bangalore l...</td>\n",
       "    </tr>\n",
       "    <tr>\n",
       "      <th>10</th>\n",
       "      <td>SQLdeveloper</td>\n",
       "      <td>anil kumar maddukuri sql msbi developer summar...</td>\n",
       "    </tr>\n",
       "    <tr>\n",
       "      <th>11</th>\n",
       "      <td>SQLdeveloper</td>\n",
       "      <td>aradhana tripathi current location gachibowli ...</td>\n",
       "    </tr>\n",
       "    <tr>\n",
       "      <th>12</th>\n",
       "      <td>SQLdeveloper</td>\n",
       "      <td>buddha vamsi career objective years experience...</td>\n",
       "    </tr>\n",
       "    <tr>\n",
       "      <th>13</th>\n",
       "      <td>SQLdeveloper</td>\n",
       "      <td>kamballa pradeep synopsis looking forward aspi...</td>\n",
       "    </tr>\n",
       "    <tr>\n",
       "      <th>14</th>\n",
       "      <td>SQLdeveloper</td>\n",
       "      <td>resume name neeraj mishra experience summary y...</td>\n",
       "    </tr>\n",
       "    <tr>\n",
       "      <th>15</th>\n",
       "      <td>SQLdeveloper</td>\n",
       "      <td>sql developer name bandi prem sai career objec...</td>\n",
       "    </tr>\n",
       "    <tr>\n",
       "      <th>16</th>\n",
       "      <td>SQLdeveloper</td>\n",
       "      <td>sql server developer syam kumar professional s...</td>\n",
       "    </tr>\n",
       "    <tr>\n",
       "      <th>17</th>\n",
       "      <td>SQLdeveloper</td>\n",
       "      <td>raju pavana kumari professional summary years ...</td>\n",
       "    </tr>\n",
       "    <tr>\n",
       "      <th>18</th>\n",
       "      <td>SQLdeveloper</td>\n",
       "      <td>resume ramalakshmi career objective profession...</td>\n",
       "    </tr>\n",
       "    <tr>\n",
       "      <th>19</th>\n",
       "      <td>SQLdeveloper</td>\n",
       "      <td>name ramesh career objective contribute organi...</td>\n",
       "    </tr>\n",
       "    <tr>\n",
       "      <th>20</th>\n",
       "      <td>SQLdeveloper</td>\n",
       "      <td>sql msbi developer sql msbi developer vinod ku...</td>\n",
       "    </tr>\n",
       "    <tr>\n",
       "      <th>21</th>\n",
       "      <td>workday</td>\n",
       "      <td>chinna subbarayudu dob march nationality india...</td>\n",
       "    </tr>\n",
       "    <tr>\n",
       "      <th>22</th>\n",
       "      <td>workday</td>\n",
       "      <td>name gopi krishna reddy professional summery w...</td>\n",
       "    </tr>\n",
       "    <tr>\n",
       "      <th>23</th>\n",
       "      <td>workday</td>\n",
       "      <td>himaja career objective work towards achieving...</td>\n",
       "    </tr>\n",
       "    <tr>\n",
       "      <th>24</th>\n",
       "      <td>workday</td>\n",
       "      <td>jyoti verma professional summary professional ...</td>\n",
       "    </tr>\n",
       "    <tr>\n",
       "      <th>25</th>\n",
       "      <td>workday</td>\n",
       "      <td>mooraboyina guravaiah workday integration spec...</td>\n",
       "    </tr>\n",
       "    <tr>\n",
       "      <th>26</th>\n",
       "      <td>workday</td>\n",
       "      <td>venkata saikrishna workday consultant profssio...</td>\n",
       "    </tr>\n",
       "    <tr>\n",
       "      <th>27</th>\n",
       "      <td>workday</td>\n",
       "      <td>workday hcm techno functional consultant rahul...</td>\n",
       "    </tr>\n",
       "    <tr>\n",
       "      <th>28</th>\n",
       "      <td>workday</td>\n",
       "      <td>ramesh workday hcm consultant professional sum...</td>\n",
       "    </tr>\n",
       "    <tr>\n",
       "      <th>29</th>\n",
       "      <td>workday</td>\n",
       "      <td>srikanth workday hcm consultant seeking suitab...</td>\n",
       "    </tr>\n",
       "    <tr>\n",
       "      <th>30</th>\n",
       "      <td>workday</td>\n",
       "      <td>workday hcm fcm name kumar role workday consul...</td>\n",
       "    </tr>\n",
       "    <tr>\n",
       "      <th>31</th>\n",
       "      <td>workday</td>\n",
       "      <td>vinay kumar workday functional consultant expe...</td>\n",
       "    </tr>\n",
       "    <tr>\n",
       "      <th>32</th>\n",
       "      <td>jsdeveloper</td>\n",
       "      <td>name ravali curriculum vitae specialization co...</td>\n",
       "    </tr>\n",
       "    <tr>\n",
       "      <th>33</th>\n",
       "      <td>jsdeveloper</td>\n",
       "      <td>susovan bag seeking challenging position field...</td>\n",
       "    </tr>\n",
       "    <tr>\n",
       "      <th>34</th>\n",
       "      <td>jsdeveloper</td>\n",
       "      <td>kanumuru deepak reddy career objective secure ...</td>\n",
       "    </tr>\n",
       "    <tr>\n",
       "      <th>35</th>\n",
       "      <td>jsdeveloper</td>\n",
       "      <td>haripriya battina experience developer reactjs...</td>\n",
       "    </tr>\n",
       "    <tr>\n",
       "      <th>36</th>\n",
       "      <td>jsdeveloper</td>\n",
       "      <td>kamalakar reddy linked professional summary ye...</td>\n",
       "    </tr>\n",
       "    <tr>\n",
       "      <th>37</th>\n",
       "      <td>jsdeveloper</td>\n",
       "      <td>naveen sadhu title software developer location...</td>\n",
       "    </tr>\n",
       "    <tr>\n",
       "      <th>38</th>\n",
       "      <td>jsdeveloper</td>\n",
       "      <td>pragnya pattnaik expertise around years experi...</td>\n",
       "    </tr>\n",
       "    <tr>\n",
       "      <th>39</th>\n",
       "      <td>jsdeveloper</td>\n",
       "      <td>sarala madasu sarala madasu sri geethika prest...</td>\n",
       "    </tr>\n",
       "    <tr>\n",
       "      <th>40</th>\n",
       "      <td>jsdeveloper</td>\n",
       "      <td>thirupathamma balla summary year experience re...</td>\n",
       "    </tr>\n",
       "    <tr>\n",
       "      <th>41</th>\n",
       "      <td>jsdeveloper</td>\n",
       "      <td>developer react developer name krishna profess...</td>\n",
       "    </tr>\n",
       "    <tr>\n",
       "      <th>42</th>\n",
       "      <td>jsdeveloper</td>\n",
       "      <td>developer react developer name krishna profess...</td>\n",
       "    </tr>\n",
       "    <tr>\n",
       "      <th>43</th>\n",
       "      <td>jsdeveloper</td>\n",
       "      <td>kotani durga prasad objective aspirant positio...</td>\n",
       "    </tr>\n",
       "    <tr>\n",
       "      <th>44</th>\n",
       "      <td>jsdeveloper</td>\n",
       "      <td>venkatalakshmi pedireddy software developer ex...</td>\n",
       "    </tr>\n",
       "    <tr>\n",
       "      <th>45</th>\n",
       "      <td>jsdeveloper</td>\n",
       "      <td>kambala sai surendra summary project basic kno...</td>\n",
       "    </tr>\n",
       "    <tr>\n",
       "      <th>46</th>\n",
       "      <td>jsdeveloper</td>\n",
       "      <td>mareedu lokesh babu professional overview arou...</td>\n",
       "    </tr>\n",
       "    <tr>\n",
       "      <th>47</th>\n",
       "      <td>jsdeveloper</td>\n",
       "      <td>mareedu lokesh babu professional overview arou...</td>\n",
       "    </tr>\n",
       "    <tr>\n",
       "      <th>48</th>\n",
       "      <td>jsdeveloper</td>\n",
       "      <td>khizaruddin rauf experience currently working ...</td>\n",
       "    </tr>\n",
       "    <tr>\n",
       "      <th>49</th>\n",
       "      <td>jsdeveloper</td>\n",
       "      <td>pranish sonone career summary experience years...</td>\n",
       "    </tr>\n",
       "    <tr>\n",
       "      <th>50</th>\n",
       "      <td>jsdeveloper</td>\n",
       "      <td>ranga gaganam professional summary professiona...</td>\n",
       "    </tr>\n",
       "    <tr>\n",
       "      <th>51</th>\n",
       "      <td>jsdeveloper</td>\n",
       "      <td>shaik abdul sharuk years experience wipro care...</td>\n",
       "    </tr>\n",
       "  </tbody>\n",
       "</table>\n",
       "</div>"
      ],
      "text/plain": [
       "        Category                                     Resume_Details\n",
       "0     PeopleSoft  anubhav kumar singh core competencies scriptin...\n",
       "1     PeopleSoft  classification internal classification interna...\n",
       "2     PeopleSoft  sirazuddin bangalore india sirazuddin bangalor...\n",
       "3     PeopleSoft  peoplesoft admin varkala vikas career objectiv...\n",
       "4     PeopleSoft  peoplesoft administration vivekanand sayana ca...\n",
       "5     PeopleSoft  hari narayana professional summary years exper...\n",
       "6     PeopleSoft  murali professional summary years experience p...\n",
       "7     PeopleSoft  priyabrata hota career objective pursuing peop...\n",
       "8     PeopleSoft  tanna sujatha objective seeking challenging ro...\n",
       "9     PeopleSoft  address manyata tech park nagavara bangalore l...\n",
       "10  SQLdeveloper  anil kumar maddukuri sql msbi developer summar...\n",
       "11  SQLdeveloper  aradhana tripathi current location gachibowli ...\n",
       "12  SQLdeveloper  buddha vamsi career objective years experience...\n",
       "13  SQLdeveloper  kamballa pradeep synopsis looking forward aspi...\n",
       "14  SQLdeveloper  resume name neeraj mishra experience summary y...\n",
       "15  SQLdeveloper  sql developer name bandi prem sai career objec...\n",
       "16  SQLdeveloper  sql server developer syam kumar professional s...\n",
       "17  SQLdeveloper  raju pavana kumari professional summary years ...\n",
       "18  SQLdeveloper  resume ramalakshmi career objective profession...\n",
       "19  SQLdeveloper  name ramesh career objective contribute organi...\n",
       "20  SQLdeveloper  sql msbi developer sql msbi developer vinod ku...\n",
       "21       workday  chinna subbarayudu dob march nationality india...\n",
       "22       workday  name gopi krishna reddy professional summery w...\n",
       "23       workday  himaja career objective work towards achieving...\n",
       "24       workday  jyoti verma professional summary professional ...\n",
       "25       workday  mooraboyina guravaiah workday integration spec...\n",
       "26       workday  venkata saikrishna workday consultant profssio...\n",
       "27       workday  workday hcm techno functional consultant rahul...\n",
       "28       workday  ramesh workday hcm consultant professional sum...\n",
       "29       workday  srikanth workday hcm consultant seeking suitab...\n",
       "30       workday  workday hcm fcm name kumar role workday consul...\n",
       "31       workday  vinay kumar workday functional consultant expe...\n",
       "32   jsdeveloper  name ravali curriculum vitae specialization co...\n",
       "33   jsdeveloper  susovan bag seeking challenging position field...\n",
       "34   jsdeveloper  kanumuru deepak reddy career objective secure ...\n",
       "35   jsdeveloper  haripriya battina experience developer reactjs...\n",
       "36   jsdeveloper  kamalakar reddy linked professional summary ye...\n",
       "37   jsdeveloper  naveen sadhu title software developer location...\n",
       "38   jsdeveloper  pragnya pattnaik expertise around years experi...\n",
       "39   jsdeveloper  sarala madasu sarala madasu sri geethika prest...\n",
       "40   jsdeveloper  thirupathamma balla summary year experience re...\n",
       "41   jsdeveloper  developer react developer name krishna profess...\n",
       "42   jsdeveloper  developer react developer name krishna profess...\n",
       "43   jsdeveloper  kotani durga prasad objective aspirant positio...\n",
       "44   jsdeveloper  venkatalakshmi pedireddy software developer ex...\n",
       "45   jsdeveloper  kambala sai surendra summary project basic kno...\n",
       "46   jsdeveloper  mareedu lokesh babu professional overview arou...\n",
       "47   jsdeveloper  mareedu lokesh babu professional overview arou...\n",
       "48   jsdeveloper  khizaruddin rauf experience currently working ...\n",
       "49   jsdeveloper  pranish sonone career summary experience years...\n",
       "50   jsdeveloper  ranga gaganam professional summary professiona...\n",
       "51   jsdeveloper  shaik abdul sharuk years experience wipro care..."
      ]
     },
     "execution_count": 25,
     "metadata": {},
     "output_type": "execute_result"
    }
   ],
   "source": [
    "resume_data = pd.read_csv('Cleaned_Resumes.csv')\n",
    "resume_data"
   ]
  },
  {
   "cell_type": "code",
   "execution_count": 26,
   "id": "1cbcc780",
   "metadata": {},
   "outputs": [
    {
     "data": {
      "text/plain": [
       "array(['PeopleSoft', 'SQLdeveloper', 'workday', 'jsdeveloper'],\n",
       "      dtype=object)"
      ]
     },
     "execution_count": 26,
     "metadata": {},
     "output_type": "execute_result"
    }
   ],
   "source": [
    "resume_data[\"Category\"].unique()"
   ]
  },
  {
   "cell_type": "markdown",
   "id": "2a74de4f",
   "metadata": {},
   "source": [
    "# LabelEncoder"
   ]
  },
  {
   "cell_type": "code",
   "execution_count": 27,
   "id": "eb3d61a4",
   "metadata": {},
   "outputs": [],
   "source": [
    "from sklearn.preprocessing import LabelEncoder\n",
    "le = LabelEncoder()\n",
    "le.fit(resume_data[\"Category\"])\n",
    "resume_data[\"Category\"]=le.transform(resume_data[\"Category\"])\n"
   ]
  },
  {
   "cell_type": "code",
   "execution_count": 28,
   "id": "636ac496",
   "metadata": {},
   "outputs": [
    {
     "data": {
      "text/plain": [
       "array([0, 1, 3, 2])"
      ]
     },
     "execution_count": 28,
     "metadata": {},
     "output_type": "execute_result"
    }
   ],
   "source": [
    "resume_data[\"Category\"].unique()"
   ]
  },
  {
   "cell_type": "code",
   "execution_count": null,
   "id": "ec7f25ab",
   "metadata": {},
   "outputs": [],
   "source": [
    "#['PeopleSoft'=0 'SQLdeveloper'=1 'workday'=3 'jsdeveloper'=2]\n",
    "      "
   ]
  },
  {
   "cell_type": "markdown",
   "id": "b2a98e43",
   "metadata": {},
   "source": [
    "# spliting"
   ]
  },
  {
   "cell_type": "code",
   "execution_count": 29,
   "id": "e92eed96",
   "metadata": {},
   "outputs": [],
   "source": [
    "from sklearn.model_selection import train_test_split"
   ]
  },
  {
   "cell_type": "code",
   "execution_count": 30,
   "id": "d31d03b8",
   "metadata": {},
   "outputs": [],
   "source": [
    "x = resume_data['Resume_Details'].values\n",
    "y = resume_data['Category'].values"
   ]
  },
  {
   "cell_type": "code",
   "execution_count": 31,
   "id": "bd70fd4b",
   "metadata": {},
   "outputs": [],
   "source": [
    "x_train, x_test, y_train, y_test = train_test_split(x,y, random_state=45, test_size=0.25,stratify=y)"
   ]
  },
  {
   "cell_type": "markdown",
   "id": "e589022c",
   "metadata": {},
   "source": [
    "# vectorization"
   ]
  },
  {
   "cell_type": "code",
   "execution_count": 32,
   "id": "d33ff2cd",
   "metadata": {},
   "outputs": [],
   "source": [
    "tfidf_vector = TfidfVectorizer(sublinear_tf=True,stop_words='english')"
   ]
  },
  {
   "cell_type": "code",
   "execution_count": 33,
   "id": "bbe64f2b",
   "metadata": {},
   "outputs": [],
   "source": [
    "from sklearn.feature_extraction.text import TfidfVectorizer\n",
    "tfidf_vector = TfidfVectorizer(sublinear_tf=True,stop_words='english')\n",
    "x_train_tfidf = tfidf_vector.fit_transform(x_train)\n",
    "x_test_tfidf = tfidf_vector.transform(x_test)\n"
   ]
  },
  {
   "cell_type": "code",
   "execution_count": 34,
   "id": "94edfd97",
   "metadata": {},
   "outputs": [
    {
     "data": {
      "text/plain": [
       "(13, 2710)"
      ]
     },
     "execution_count": 34,
     "metadata": {},
     "output_type": "execute_result"
    }
   ],
   "source": [
    "x_test_tfidf.shape"
   ]
  },
  {
   "cell_type": "code",
   "execution_count": 35,
   "id": "a84cad3c",
   "metadata": {},
   "outputs": [
    {
     "data": {
      "text/plain": [
       "(39, 2710)"
      ]
     },
     "execution_count": 35,
     "metadata": {},
     "output_type": "execute_result"
    }
   ],
   "source": [
    "x_train_tfidf.shape"
   ]
  },
  {
   "cell_type": "markdown",
   "id": "6de829e8",
   "metadata": {},
   "source": [
    "# Model Building"
   ]
  },
  {
   "cell_type": "markdown",
   "id": "57d81cf2",
   "metadata": {},
   "source": [
    "# KNN Classifier"
   ]
  },
  {
   "cell_type": "code",
   "execution_count": 36,
   "id": "34d75849",
   "metadata": {},
   "outputs": [],
   "source": [
    "from sklearn.neighbors import KNeighborsClassifier"
   ]
  },
  {
   "cell_type": "code",
   "execution_count": 37,
   "id": "2623d34d",
   "metadata": {},
   "outputs": [],
   "source": [
    "from sklearn.multiclass import OneVsRestClassifier"
   ]
  },
  {
   "cell_type": "code",
   "execution_count": 38,
   "id": "7abbe0a8",
   "metadata": {},
   "outputs": [],
   "source": [
    "\n",
    "knn_classifier = KNeighborsClassifier()\n",
    "\n",
    "model_knn = OneVsRestClassifier(knn_classifier)"
   ]
  },
  {
   "cell_type": "code",
   "execution_count": 39,
   "id": "83b6d7a0",
   "metadata": {},
   "outputs": [
    {
     "data": {
      "text/html": [
       "<style>#sk-container-id-1 {color: black;background-color: white;}#sk-container-id-1 pre{padding: 0;}#sk-container-id-1 div.sk-toggleable {background-color: white;}#sk-container-id-1 label.sk-toggleable__label {cursor: pointer;display: block;width: 100%;margin-bottom: 0;padding: 0.3em;box-sizing: border-box;text-align: center;}#sk-container-id-1 label.sk-toggleable__label-arrow:before {content: \"▸\";float: left;margin-right: 0.25em;color: #696969;}#sk-container-id-1 label.sk-toggleable__label-arrow:hover:before {color: black;}#sk-container-id-1 div.sk-estimator:hover label.sk-toggleable__label-arrow:before {color: black;}#sk-container-id-1 div.sk-toggleable__content {max-height: 0;max-width: 0;overflow: hidden;text-align: left;background-color: #f0f8ff;}#sk-container-id-1 div.sk-toggleable__content pre {margin: 0.2em;color: black;border-radius: 0.25em;background-color: #f0f8ff;}#sk-container-id-1 input.sk-toggleable__control:checked~div.sk-toggleable__content {max-height: 200px;max-width: 100%;overflow: auto;}#sk-container-id-1 input.sk-toggleable__control:checked~label.sk-toggleable__label-arrow:before {content: \"▾\";}#sk-container-id-1 div.sk-estimator input.sk-toggleable__control:checked~label.sk-toggleable__label {background-color: #d4ebff;}#sk-container-id-1 div.sk-label input.sk-toggleable__control:checked~label.sk-toggleable__label {background-color: #d4ebff;}#sk-container-id-1 input.sk-hidden--visually {border: 0;clip: rect(1px 1px 1px 1px);clip: rect(1px, 1px, 1px, 1px);height: 1px;margin: -1px;overflow: hidden;padding: 0;position: absolute;width: 1px;}#sk-container-id-1 div.sk-estimator {font-family: monospace;background-color: #f0f8ff;border: 1px dotted black;border-radius: 0.25em;box-sizing: border-box;margin-bottom: 0.5em;}#sk-container-id-1 div.sk-estimator:hover {background-color: #d4ebff;}#sk-container-id-1 div.sk-parallel-item::after {content: \"\";width: 100%;border-bottom: 1px solid gray;flex-grow: 1;}#sk-container-id-1 div.sk-label:hover label.sk-toggleable__label {background-color: #d4ebff;}#sk-container-id-1 div.sk-serial::before {content: \"\";position: absolute;border-left: 1px solid gray;box-sizing: border-box;top: 0;bottom: 0;left: 50%;z-index: 0;}#sk-container-id-1 div.sk-serial {display: flex;flex-direction: column;align-items: center;background-color: white;padding-right: 0.2em;padding-left: 0.2em;position: relative;}#sk-container-id-1 div.sk-item {position: relative;z-index: 1;}#sk-container-id-1 div.sk-parallel {display: flex;align-items: stretch;justify-content: center;background-color: white;position: relative;}#sk-container-id-1 div.sk-item::before, #sk-container-id-1 div.sk-parallel-item::before {content: \"\";position: absolute;border-left: 1px solid gray;box-sizing: border-box;top: 0;bottom: 0;left: 50%;z-index: -1;}#sk-container-id-1 div.sk-parallel-item {display: flex;flex-direction: column;z-index: 1;position: relative;background-color: white;}#sk-container-id-1 div.sk-parallel-item:first-child::after {align-self: flex-end;width: 50%;}#sk-container-id-1 div.sk-parallel-item:last-child::after {align-self: flex-start;width: 50%;}#sk-container-id-1 div.sk-parallel-item:only-child::after {width: 0;}#sk-container-id-1 div.sk-dashed-wrapped {border: 1px dashed gray;margin: 0 0.4em 0.5em 0.4em;box-sizing: border-box;padding-bottom: 0.4em;background-color: white;}#sk-container-id-1 div.sk-label label {font-family: monospace;font-weight: bold;display: inline-block;line-height: 1.2em;}#sk-container-id-1 div.sk-label-container {text-align: center;}#sk-container-id-1 div.sk-container {/* jupyter's `normalize.less` sets `[hidden] { display: none; }` but bootstrap.min.css set `[hidden] { display: none !important; }` so we also need the `!important` here to be able to override the default hidden behavior on the sphinx rendered scikit-learn.org. See: https://github.com/scikit-learn/scikit-learn/issues/21755 */display: inline-block !important;position: relative;}#sk-container-id-1 div.sk-text-repr-fallback {display: none;}</style><div id=\"sk-container-id-1\" class=\"sk-top-container\"><div class=\"sk-text-repr-fallback\"><pre>OneVsRestClassifier(estimator=KNeighborsClassifier())</pre><b>In a Jupyter environment, please rerun this cell to show the HTML representation or trust the notebook. <br />On GitHub, the HTML representation is unable to render, please try loading this page with nbviewer.org.</b></div><div class=\"sk-container\" hidden><div class=\"sk-item sk-dashed-wrapped\"><div class=\"sk-label-container\"><div class=\"sk-label sk-toggleable\"><input class=\"sk-toggleable__control sk-hidden--visually\" id=\"sk-estimator-id-1\" type=\"checkbox\" ><label for=\"sk-estimator-id-1\" class=\"sk-toggleable__label sk-toggleable__label-arrow\">OneVsRestClassifier</label><div class=\"sk-toggleable__content\"><pre>OneVsRestClassifier(estimator=KNeighborsClassifier())</pre></div></div></div><div class=\"sk-parallel\"><div class=\"sk-parallel-item\"><div class=\"sk-item\"><div class=\"sk-label-container\"><div class=\"sk-label sk-toggleable\"><input class=\"sk-toggleable__control sk-hidden--visually\" id=\"sk-estimator-id-2\" type=\"checkbox\" ><label for=\"sk-estimator-id-2\" class=\"sk-toggleable__label sk-toggleable__label-arrow\">estimator: KNeighborsClassifier</label><div class=\"sk-toggleable__content\"><pre>KNeighborsClassifier()</pre></div></div></div><div class=\"sk-serial\"><div class=\"sk-item\"><div class=\"sk-estimator sk-toggleable\"><input class=\"sk-toggleable__control sk-hidden--visually\" id=\"sk-estimator-id-3\" type=\"checkbox\" ><label for=\"sk-estimator-id-3\" class=\"sk-toggleable__label sk-toggleable__label-arrow\">KNeighborsClassifier</label><div class=\"sk-toggleable__content\"><pre>KNeighborsClassifier()</pre></div></div></div></div></div></div></div></div></div></div>"
      ],
      "text/plain": [
       "OneVsRestClassifier(estimator=KNeighborsClassifier())"
      ]
     },
     "execution_count": 39,
     "metadata": {},
     "output_type": "execute_result"
    }
   ],
   "source": [
    "\n",
    "model_knn.fit(x_train_tfidf, y_train)"
   ]
  },
  {
   "cell_type": "code",
   "execution_count": 40,
   "id": "917f9701",
   "metadata": {},
   "outputs": [],
   "source": [
    "y_pred = model_knn.predict(x_test_tfidf)"
   ]
  },
  {
   "cell_type": "code",
   "execution_count": 41,
   "id": "839a2095",
   "metadata": {},
   "outputs": [
    {
     "name": "stdout",
     "output_type": "stream",
     "text": [
      "[0 1 0 3 2 2 1 3 2 3 1 2 2]\n"
     ]
    }
   ],
   "source": [
    "print(y_pred)"
   ]
  },
  {
   "cell_type": "code",
   "execution_count": 42,
   "id": "b8392a1b",
   "metadata": {},
   "outputs": [
    {
     "name": "stdout",
     "output_type": "stream",
     "text": [
      "Accuracy of training set : 0.97\n"
     ]
    }
   ],
   "source": [
    "print('Accuracy of training set : {:.2f}'.format(model_knn.score(x_train_tfidf, y_train)))"
   ]
  },
  {
   "cell_type": "code",
   "execution_count": 43,
   "id": "0baa3de0",
   "metadata": {},
   "outputs": [
    {
     "name": "stdout",
     "output_type": "stream",
     "text": [
      "Accuracy of  test set    : 1.00\n"
     ]
    }
   ],
   "source": [
    "print('Accuracy of  test set    : {:.2f}'.format(model_knn.score(x_test_tfidf, y_test)))"
   ]
  },
  {
   "cell_type": "code",
   "execution_count": 44,
   "id": "05578aa7",
   "metadata": {},
   "outputs": [
    {
     "name": "stdout",
     "output_type": "stream",
     "text": [
      "[[2 0 0 0]\n",
      " [0 3 0 0]\n",
      " [0 0 5 0]\n",
      " [0 0 0 3]]\n"
     ]
    }
   ],
   "source": [
    "cm_knn = confusion_matrix(y_test,y_pred)\n",
    "print(cm_knn)"
   ]
  },
  {
   "cell_type": "code",
   "execution_count": 45,
   "id": "c05743f1",
   "metadata": {},
   "outputs": [
    {
     "name": "stdout",
     "output_type": "stream",
     "text": [
      "Classification report for classifier OneVsRestClassifier(estimator=KNeighborsClassifier()):\n",
      "              precision    recall  f1-score   support\n",
      "\n",
      "           0       1.00      1.00      1.00         2\n",
      "           1       1.00      1.00      1.00         3\n",
      "           2       1.00      1.00      1.00         5\n",
      "           3       1.00      1.00      1.00         3\n",
      "\n",
      "    accuracy                           1.00        13\n",
      "   macro avg       1.00      1.00      1.00        13\n",
      "weighted avg       1.00      1.00      1.00        13\n",
      "\n",
      "\n"
     ]
    }
   ],
   "source": [
    "print(\"Classification report for classifier %s:\\n%s\\n\" % (model_knn,classification_report(y_test, y_pred)))\n",
    "nb_score = model_knn.score(x_test_tfidf, y_test)\n",
    "nb_cm = confusion_matrix(y_test, y_pred)\n",
    "\n",
    "precision_knn = round(precision_score(y_test,y_pred,average = 'macro'),2)\n",
    "recall_knn = round(recall_score(y_test,y_pred, average = 'macro'),2)\n",
    "f1_knn = round(f1_score(y_test,y_pred, average = 'macro'),2)\n",
    "accuracy_knn = round(accuracy_score(y_test,y_pred),2)"
   ]
  },
  {
   "cell_type": "code",
   "execution_count": null,
   "id": "c6c7f489",
   "metadata": {},
   "outputs": [],
   "source": [
    "#['PeopleSoft'=0 'SQLdeveloper'=1 'workday'=3 'jsdeveloper'=2]"
   ]
  },
  {
   "cell_type": "markdown",
   "id": "f338f537",
   "metadata": {},
   "source": [
    "# Decision Tree Classifier"
   ]
  },
  {
   "cell_type": "code",
   "execution_count": 108,
   "id": "5cbe0738",
   "metadata": {},
   "outputs": [],
   "source": [
    "from sklearn.tree import DecisionTreeClassifier"
   ]
  },
  {
   "cell_type": "code",
   "execution_count": 109,
   "id": "626cad93",
   "metadata": {},
   "outputs": [
    {
     "data": {
      "text/html": [
       "<style>#sk-container-id-8 {color: black;background-color: white;}#sk-container-id-8 pre{padding: 0;}#sk-container-id-8 div.sk-toggleable {background-color: white;}#sk-container-id-8 label.sk-toggleable__label {cursor: pointer;display: block;width: 100%;margin-bottom: 0;padding: 0.3em;box-sizing: border-box;text-align: center;}#sk-container-id-8 label.sk-toggleable__label-arrow:before {content: \"▸\";float: left;margin-right: 0.25em;color: #696969;}#sk-container-id-8 label.sk-toggleable__label-arrow:hover:before {color: black;}#sk-container-id-8 div.sk-estimator:hover label.sk-toggleable__label-arrow:before {color: black;}#sk-container-id-8 div.sk-toggleable__content {max-height: 0;max-width: 0;overflow: hidden;text-align: left;background-color: #f0f8ff;}#sk-container-id-8 div.sk-toggleable__content pre {margin: 0.2em;color: black;border-radius: 0.25em;background-color: #f0f8ff;}#sk-container-id-8 input.sk-toggleable__control:checked~div.sk-toggleable__content {max-height: 200px;max-width: 100%;overflow: auto;}#sk-container-id-8 input.sk-toggleable__control:checked~label.sk-toggleable__label-arrow:before {content: \"▾\";}#sk-container-id-8 div.sk-estimator input.sk-toggleable__control:checked~label.sk-toggleable__label {background-color: #d4ebff;}#sk-container-id-8 div.sk-label input.sk-toggleable__control:checked~label.sk-toggleable__label {background-color: #d4ebff;}#sk-container-id-8 input.sk-hidden--visually {border: 0;clip: rect(1px 1px 1px 1px);clip: rect(1px, 1px, 1px, 1px);height: 1px;margin: -1px;overflow: hidden;padding: 0;position: absolute;width: 1px;}#sk-container-id-8 div.sk-estimator {font-family: monospace;background-color: #f0f8ff;border: 1px dotted black;border-radius: 0.25em;box-sizing: border-box;margin-bottom: 0.5em;}#sk-container-id-8 div.sk-estimator:hover {background-color: #d4ebff;}#sk-container-id-8 div.sk-parallel-item::after {content: \"\";width: 100%;border-bottom: 1px solid gray;flex-grow: 1;}#sk-container-id-8 div.sk-label:hover label.sk-toggleable__label {background-color: #d4ebff;}#sk-container-id-8 div.sk-serial::before {content: \"\";position: absolute;border-left: 1px solid gray;box-sizing: border-box;top: 0;bottom: 0;left: 50%;z-index: 0;}#sk-container-id-8 div.sk-serial {display: flex;flex-direction: column;align-items: center;background-color: white;padding-right: 0.2em;padding-left: 0.2em;position: relative;}#sk-container-id-8 div.sk-item {position: relative;z-index: 1;}#sk-container-id-8 div.sk-parallel {display: flex;align-items: stretch;justify-content: center;background-color: white;position: relative;}#sk-container-id-8 div.sk-item::before, #sk-container-id-8 div.sk-parallel-item::before {content: \"\";position: absolute;border-left: 1px solid gray;box-sizing: border-box;top: 0;bottom: 0;left: 50%;z-index: -1;}#sk-container-id-8 div.sk-parallel-item {display: flex;flex-direction: column;z-index: 1;position: relative;background-color: white;}#sk-container-id-8 div.sk-parallel-item:first-child::after {align-self: flex-end;width: 50%;}#sk-container-id-8 div.sk-parallel-item:last-child::after {align-self: flex-start;width: 50%;}#sk-container-id-8 div.sk-parallel-item:only-child::after {width: 0;}#sk-container-id-8 div.sk-dashed-wrapped {border: 1px dashed gray;margin: 0 0.4em 0.5em 0.4em;box-sizing: border-box;padding-bottom: 0.4em;background-color: white;}#sk-container-id-8 div.sk-label label {font-family: monospace;font-weight: bold;display: inline-block;line-height: 1.2em;}#sk-container-id-8 div.sk-label-container {text-align: center;}#sk-container-id-8 div.sk-container {/* jupyter's `normalize.less` sets `[hidden] { display: none; }` but bootstrap.min.css set `[hidden] { display: none !important; }` so we also need the `!important` here to be able to override the default hidden behavior on the sphinx rendered scikit-learn.org. See: https://github.com/scikit-learn/scikit-learn/issues/21755 */display: inline-block !important;position: relative;}#sk-container-id-8 div.sk-text-repr-fallback {display: none;}</style><div id=\"sk-container-id-8\" class=\"sk-top-container\"><div class=\"sk-text-repr-fallback\"><pre>DecisionTreeClassifier()</pre><b>In a Jupyter environment, please rerun this cell to show the HTML representation or trust the notebook. <br />On GitHub, the HTML representation is unable to render, please try loading this page with nbviewer.org.</b></div><div class=\"sk-container\" hidden><div class=\"sk-item\"><div class=\"sk-estimator sk-toggleable\"><input class=\"sk-toggleable__control sk-hidden--visually\" id=\"sk-estimator-id-12\" type=\"checkbox\" checked><label for=\"sk-estimator-id-12\" class=\"sk-toggleable__label sk-toggleable__label-arrow\">DecisionTreeClassifier</label><div class=\"sk-toggleable__content\"><pre>DecisionTreeClassifier()</pre></div></div></div></div></div>"
      ],
      "text/plain": [
       "DecisionTreeClassifier()"
      ]
     },
     "execution_count": 109,
     "metadata": {},
     "output_type": "execute_result"
    }
   ],
   "source": [
    "model_DT = DecisionTreeClassifier(criterion='gini')\n",
    "model_DT.fit(x_train_tfidf, y_train)\n"
   ]
  },
  {
   "cell_type": "code",
   "execution_count": 110,
   "id": "57bc332f",
   "metadata": {},
   "outputs": [],
   "source": [
    "y_pred = model_DT.predict(x_test_tfidf)"
   ]
  },
  {
   "cell_type": "code",
   "execution_count": 111,
   "id": "43a458a8",
   "metadata": {},
   "outputs": [],
   "source": [
    "accuracy_DT = accuracy_score(y_test, y_pred)"
   ]
  },
  {
   "cell_type": "code",
   "execution_count": 112,
   "id": "e8876a15",
   "metadata": {},
   "outputs": [
    {
     "name": "stdout",
     "output_type": "stream",
     "text": [
      "Accuracy of training set : 1.00\n",
      "Accuracy of  test set    : 1.00\n"
     ]
    }
   ],
   "source": [
    "print('Accuracy of training set : {:.2f}'.format(model_DT.score(x_train_tfidf, y_train)))\n",
    "print('Accuracy of  test set    : {:.2f}'.format(model_DT.score(x_test_tfidf, y_test)))"
   ]
  },
  {
   "cell_type": "code",
   "execution_count": 113,
   "id": "34b6a8a3",
   "metadata": {},
   "outputs": [
    {
     "name": "stdout",
     "output_type": "stream",
     "text": [
      "[[2 0 0 0]\n",
      " [0 3 0 0]\n",
      " [0 0 5 0]\n",
      " [0 0 0 3]]\n"
     ]
    }
   ],
   "source": [
    "cm_dt = confusion_matrix(y_test,y_pred)\n",
    "print(cm_dt)"
   ]
  },
  {
   "cell_type": "code",
   "execution_count": null,
   "id": "b2cad960",
   "metadata": {},
   "outputs": [],
   "source": [
    "#This suggests that the model has misclassified one instance of class 2 as class 3., and it did this misclassification one times."
   ]
  },
  {
   "cell_type": "code",
   "execution_count": 114,
   "id": "c6a21dc6",
   "metadata": {},
   "outputs": [
    {
     "name": "stdout",
     "output_type": "stream",
     "text": [
      "Classification report for classifier DecisionTreeClassifier():\n",
      "              precision    recall  f1-score   support\n",
      "\n",
      "           0       1.00      1.00      1.00         2\n",
      "           1       1.00      1.00      1.00         3\n",
      "           2       1.00      1.00      1.00         5\n",
      "           3       1.00      1.00      1.00         3\n",
      "\n",
      "    accuracy                           1.00        13\n",
      "   macro avg       1.00      1.00      1.00        13\n",
      "weighted avg       1.00      1.00      1.00        13\n",
      "\n",
      "\n"
     ]
    }
   ],
   "source": [
    "print(\"Classification report for classifier %s:\\n%s\\n\" % (model_DT,classification_report(y_test, y_pred)))\n",
    "nb_score = model_DT.score(x_test_tfidf, y_test)\n",
    "nb_cm = confusion_matrix(y_test, y_pred)\n",
    "\n",
    "precision_DT = round(precision_score(y_test,y_pred,average = 'macro'),2)\n",
    "recall_DT = round(recall_score(y_test,y_pred, average = 'macro'),2)\n",
    "f1_DT = round(f1_score(y_test,y_pred, average = 'macro'),2)\n",
    "accuracy_DT= round(accuracy_score(y_test,y_pred),2)"
   ]
  },
  {
   "cell_type": "markdown",
   "id": "7f588d14",
   "metadata": {},
   "source": [
    "# Random Forest Classifier"
   ]
  },
  {
   "cell_type": "code",
   "execution_count": 52,
   "id": "9f5801e7",
   "metadata": {},
   "outputs": [],
   "source": [
    "from sklearn.ensemble import RandomForestClassifier"
   ]
  },
  {
   "cell_type": "code",
   "execution_count": 53,
   "id": "384af14e",
   "metadata": {},
   "outputs": [],
   "source": [
    "model_RF = RandomForestClassifier(n_estimators=150)"
   ]
  },
  {
   "cell_type": "code",
   "execution_count": 54,
   "id": "d6dd0bfe",
   "metadata": {},
   "outputs": [
    {
     "data": {
      "text/html": [
       "<style>#sk-container-id-3 {color: black;background-color: white;}#sk-container-id-3 pre{padding: 0;}#sk-container-id-3 div.sk-toggleable {background-color: white;}#sk-container-id-3 label.sk-toggleable__label {cursor: pointer;display: block;width: 100%;margin-bottom: 0;padding: 0.3em;box-sizing: border-box;text-align: center;}#sk-container-id-3 label.sk-toggleable__label-arrow:before {content: \"▸\";float: left;margin-right: 0.25em;color: #696969;}#sk-container-id-3 label.sk-toggleable__label-arrow:hover:before {color: black;}#sk-container-id-3 div.sk-estimator:hover label.sk-toggleable__label-arrow:before {color: black;}#sk-container-id-3 div.sk-toggleable__content {max-height: 0;max-width: 0;overflow: hidden;text-align: left;background-color: #f0f8ff;}#sk-container-id-3 div.sk-toggleable__content pre {margin: 0.2em;color: black;border-radius: 0.25em;background-color: #f0f8ff;}#sk-container-id-3 input.sk-toggleable__control:checked~div.sk-toggleable__content {max-height: 200px;max-width: 100%;overflow: auto;}#sk-container-id-3 input.sk-toggleable__control:checked~label.sk-toggleable__label-arrow:before {content: \"▾\";}#sk-container-id-3 div.sk-estimator input.sk-toggleable__control:checked~label.sk-toggleable__label {background-color: #d4ebff;}#sk-container-id-3 div.sk-label input.sk-toggleable__control:checked~label.sk-toggleable__label {background-color: #d4ebff;}#sk-container-id-3 input.sk-hidden--visually {border: 0;clip: rect(1px 1px 1px 1px);clip: rect(1px, 1px, 1px, 1px);height: 1px;margin: -1px;overflow: hidden;padding: 0;position: absolute;width: 1px;}#sk-container-id-3 div.sk-estimator {font-family: monospace;background-color: #f0f8ff;border: 1px dotted black;border-radius: 0.25em;box-sizing: border-box;margin-bottom: 0.5em;}#sk-container-id-3 div.sk-estimator:hover {background-color: #d4ebff;}#sk-container-id-3 div.sk-parallel-item::after {content: \"\";width: 100%;border-bottom: 1px solid gray;flex-grow: 1;}#sk-container-id-3 div.sk-label:hover label.sk-toggleable__label {background-color: #d4ebff;}#sk-container-id-3 div.sk-serial::before {content: \"\";position: absolute;border-left: 1px solid gray;box-sizing: border-box;top: 0;bottom: 0;left: 50%;z-index: 0;}#sk-container-id-3 div.sk-serial {display: flex;flex-direction: column;align-items: center;background-color: white;padding-right: 0.2em;padding-left: 0.2em;position: relative;}#sk-container-id-3 div.sk-item {position: relative;z-index: 1;}#sk-container-id-3 div.sk-parallel {display: flex;align-items: stretch;justify-content: center;background-color: white;position: relative;}#sk-container-id-3 div.sk-item::before, #sk-container-id-3 div.sk-parallel-item::before {content: \"\";position: absolute;border-left: 1px solid gray;box-sizing: border-box;top: 0;bottom: 0;left: 50%;z-index: -1;}#sk-container-id-3 div.sk-parallel-item {display: flex;flex-direction: column;z-index: 1;position: relative;background-color: white;}#sk-container-id-3 div.sk-parallel-item:first-child::after {align-self: flex-end;width: 50%;}#sk-container-id-3 div.sk-parallel-item:last-child::after {align-self: flex-start;width: 50%;}#sk-container-id-3 div.sk-parallel-item:only-child::after {width: 0;}#sk-container-id-3 div.sk-dashed-wrapped {border: 1px dashed gray;margin: 0 0.4em 0.5em 0.4em;box-sizing: border-box;padding-bottom: 0.4em;background-color: white;}#sk-container-id-3 div.sk-label label {font-family: monospace;font-weight: bold;display: inline-block;line-height: 1.2em;}#sk-container-id-3 div.sk-label-container {text-align: center;}#sk-container-id-3 div.sk-container {/* jupyter's `normalize.less` sets `[hidden] { display: none; }` but bootstrap.min.css set `[hidden] { display: none !important; }` so we also need the `!important` here to be able to override the default hidden behavior on the sphinx rendered scikit-learn.org. See: https://github.com/scikit-learn/scikit-learn/issues/21755 */display: inline-block !important;position: relative;}#sk-container-id-3 div.sk-text-repr-fallback {display: none;}</style><div id=\"sk-container-id-3\" class=\"sk-top-container\"><div class=\"sk-text-repr-fallback\"><pre>RandomForestClassifier(n_estimators=150)</pre><b>In a Jupyter environment, please rerun this cell to show the HTML representation or trust the notebook. <br />On GitHub, the HTML representation is unable to render, please try loading this page with nbviewer.org.</b></div><div class=\"sk-container\" hidden><div class=\"sk-item\"><div class=\"sk-estimator sk-toggleable\"><input class=\"sk-toggleable__control sk-hidden--visually\" id=\"sk-estimator-id-5\" type=\"checkbox\" checked><label for=\"sk-estimator-id-5\" class=\"sk-toggleable__label sk-toggleable__label-arrow\">RandomForestClassifier</label><div class=\"sk-toggleable__content\"><pre>RandomForestClassifier(n_estimators=150)</pre></div></div></div></div></div>"
      ],
      "text/plain": [
       "RandomForestClassifier(n_estimators=150)"
      ]
     },
     "execution_count": 54,
     "metadata": {},
     "output_type": "execute_result"
    }
   ],
   "source": [
    "model_RF.fit(x_train_tfidf, y_train)"
   ]
  },
  {
   "cell_type": "code",
   "execution_count": 55,
   "id": "dba48598",
   "metadata": {},
   "outputs": [],
   "source": [
    "y_pred = model_RF.predict(x_test_tfidf)"
   ]
  },
  {
   "cell_type": "code",
   "execution_count": 56,
   "id": "3c86665a",
   "metadata": {},
   "outputs": [],
   "source": [
    "accuracy_RF = accuracy_score(y_test, y_pred)"
   ]
  },
  {
   "cell_type": "code",
   "execution_count": 57,
   "id": "c2b28577",
   "metadata": {},
   "outputs": [
    {
     "name": "stdout",
     "output_type": "stream",
     "text": [
      "Accuracy of training set : 1.00\n",
      "Accuracy of  test set    : 1.00\n"
     ]
    }
   ],
   "source": [
    "print('Accuracy of training set : {:.2f}'.format(model_RF.score(x_train_tfidf, y_train)))\n",
    "print('Accuracy of  test set    : {:.2f}'.format(model_RF.score(x_test_tfidf, y_test)))"
   ]
  },
  {
   "cell_type": "code",
   "execution_count": 58,
   "id": "8b107fed",
   "metadata": {},
   "outputs": [
    {
     "name": "stdout",
     "output_type": "stream",
     "text": [
      "[[2 0 0 0]\n",
      " [0 3 0 0]\n",
      " [0 0 5 0]\n",
      " [0 0 0 3]]\n"
     ]
    }
   ],
   "source": [
    "cm_random = confusion_matrix(y_test,y_pred)\n",
    "print(cm_random)"
   ]
  },
  {
   "cell_type": "code",
   "execution_count": 59,
   "id": "7573e784",
   "metadata": {},
   "outputs": [
    {
     "name": "stdout",
     "output_type": "stream",
     "text": [
      "Classification report for classifier RandomForestClassifier(n_estimators=150):\n",
      "              precision    recall  f1-score   support\n",
      "\n",
      "           0       1.00      1.00      1.00         2\n",
      "           1       1.00      1.00      1.00         3\n",
      "           2       1.00      1.00      1.00         5\n",
      "           3       1.00      1.00      1.00         3\n",
      "\n",
      "    accuracy                           1.00        13\n",
      "   macro avg       1.00      1.00      1.00        13\n",
      "weighted avg       1.00      1.00      1.00        13\n",
      "\n",
      "\n"
     ]
    }
   ],
   "source": [
    "print(\"Classification report for classifier %s:\\n%s\\n\" % (model_RF,classification_report(y_test, y_pred)))\n",
    "nb_score = model_RF.score(x_test_tfidf, y_test)\n",
    "nb_cm = confusion_matrix(y_test, y_pred)\n",
    "\n",
    "precision_RF = round(precision_score(y_test,y_pred,average = 'macro'),2)\n",
    "recall_RF = round(recall_score(y_test,y_pred, average = 'macro'),2)\n",
    "f1_RF = round(f1_score(y_test,y_pred, average = 'macro'),2)\n",
    "accuracy_RF= round(accuracy_score(y_test,y_pred),2)"
   ]
  },
  {
   "cell_type": "markdown",
   "id": "61f018f5",
   "metadata": {},
   "source": [
    "# SVM Classifier"
   ]
  },
  {
   "cell_type": "code",
   "execution_count": 60,
   "id": "31d2909b",
   "metadata": {},
   "outputs": [],
   "source": [
    "model_svm = SVC()\n",
    "model_svm.fit(x_train_tfidf, y_train)\n",
    "y_pred = model_svm.predict(x_test_tfidf)"
   ]
  },
  {
   "cell_type": "code",
   "execution_count": 61,
   "id": "71bb8cf3",
   "metadata": {},
   "outputs": [
    {
     "name": "stdout",
     "output_type": "stream",
     "text": [
      "[0 2 0 3 2 2 1 3 2 3 1 2 2]\n"
     ]
    }
   ],
   "source": [
    "print(y_pred)"
   ]
  },
  {
   "cell_type": "code",
   "execution_count": 62,
   "id": "283b7fd7",
   "metadata": {},
   "outputs": [
    {
     "name": "stdout",
     "output_type": "stream",
     "text": [
      "[0 1 0 3 2 2 1 3 2 3 1 2 2]\n"
     ]
    }
   ],
   "source": [
    "print(y_test)"
   ]
  },
  {
   "cell_type": "code",
   "execution_count": 63,
   "id": "a0ff7720",
   "metadata": {},
   "outputs": [
    {
     "name": "stdout",
     "output_type": "stream",
     "text": [
      "0.9230769230769231\n"
     ]
    }
   ],
   "source": [
    "accuracy_SVM = accuracy_score(y_test, y_pred)\n",
    "print(accuracy_SVM)"
   ]
  },
  {
   "cell_type": "code",
   "execution_count": 64,
   "id": "c62746c8",
   "metadata": {},
   "outputs": [
    {
     "name": "stdout",
     "output_type": "stream",
     "text": [
      "Accuracy of training set : 1.00\n",
      "Accuracy of  test set    : 0.92\n"
     ]
    }
   ],
   "source": [
    "print('Accuracy of training set : {:.2f}'.format(model_svm.score(x_train_tfidf, y_train)))\n",
    "print('Accuracy of  test set    : {:.2f}'.format(model_svm.score(x_test_tfidf, y_test)))"
   ]
  },
  {
   "cell_type": "code",
   "execution_count": 65,
   "id": "b3f9e0a8",
   "metadata": {},
   "outputs": [
    {
     "name": "stdout",
     "output_type": "stream",
     "text": [
      "[[2 0 0 0]\n",
      " [0 2 1 0]\n",
      " [0 0 5 0]\n",
      " [0 0 0 3]]\n"
     ]
    }
   ],
   "source": [
    "cm_svm = confusion_matrix(y_test,y_pred)\n",
    "print(cm_svm)"
   ]
  },
  {
   "cell_type": "code",
   "execution_count": 66,
   "id": "1cb66422",
   "metadata": {},
   "outputs": [
    {
     "name": "stdout",
     "output_type": "stream",
     "text": [
      "Classification report for classifier SVC():\n",
      "              precision    recall  f1-score   support\n",
      "\n",
      "           0       1.00      1.00      1.00         2\n",
      "           1       1.00      0.67      0.80         3\n",
      "           2       0.83      1.00      0.91         5\n",
      "           3       1.00      1.00      1.00         3\n",
      "\n",
      "    accuracy                           0.92        13\n",
      "   macro avg       0.96      0.92      0.93        13\n",
      "weighted avg       0.94      0.92      0.92        13\n",
      "\n",
      "\n"
     ]
    }
   ],
   "source": [
    "print(\"Classification report for classifier %s:\\n%s\\n\" % (model_svm,classification_report(y_test, y_pred)))\n",
    "nb_score = model_svm.score(x_test_tfidf, y_test)\n",
    "nb_cm = confusion_matrix(y_test, y_pred)\n",
    "\n",
    "precision_svm = round(precision_score(y_test,y_pred,average = 'macro'),2)\n",
    "recall_svm = round(recall_score(y_test,y_pred, average = 'macro'),2)\n",
    "f1_svm = round(f1_score(y_test,y_pred, average = 'macro'),2)\n",
    "accuracy_svm = round(accuracy_score(y_test,y_pred),2)"
   ]
  },
  {
   "cell_type": "markdown",
   "id": "7e741611",
   "metadata": {},
   "source": [
    "# Logistic Regression"
   ]
  },
  {
   "cell_type": "code",
   "execution_count": 67,
   "id": "037e3978",
   "metadata": {},
   "outputs": [
    {
     "data": {
      "text/html": [
       "<style>#sk-container-id-4 {color: black;background-color: white;}#sk-container-id-4 pre{padding: 0;}#sk-container-id-4 div.sk-toggleable {background-color: white;}#sk-container-id-4 label.sk-toggleable__label {cursor: pointer;display: block;width: 100%;margin-bottom: 0;padding: 0.3em;box-sizing: border-box;text-align: center;}#sk-container-id-4 label.sk-toggleable__label-arrow:before {content: \"▸\";float: left;margin-right: 0.25em;color: #696969;}#sk-container-id-4 label.sk-toggleable__label-arrow:hover:before {color: black;}#sk-container-id-4 div.sk-estimator:hover label.sk-toggleable__label-arrow:before {color: black;}#sk-container-id-4 div.sk-toggleable__content {max-height: 0;max-width: 0;overflow: hidden;text-align: left;background-color: #f0f8ff;}#sk-container-id-4 div.sk-toggleable__content pre {margin: 0.2em;color: black;border-radius: 0.25em;background-color: #f0f8ff;}#sk-container-id-4 input.sk-toggleable__control:checked~div.sk-toggleable__content {max-height: 200px;max-width: 100%;overflow: auto;}#sk-container-id-4 input.sk-toggleable__control:checked~label.sk-toggleable__label-arrow:before {content: \"▾\";}#sk-container-id-4 div.sk-estimator input.sk-toggleable__control:checked~label.sk-toggleable__label {background-color: #d4ebff;}#sk-container-id-4 div.sk-label input.sk-toggleable__control:checked~label.sk-toggleable__label {background-color: #d4ebff;}#sk-container-id-4 input.sk-hidden--visually {border: 0;clip: rect(1px 1px 1px 1px);clip: rect(1px, 1px, 1px, 1px);height: 1px;margin: -1px;overflow: hidden;padding: 0;position: absolute;width: 1px;}#sk-container-id-4 div.sk-estimator {font-family: monospace;background-color: #f0f8ff;border: 1px dotted black;border-radius: 0.25em;box-sizing: border-box;margin-bottom: 0.5em;}#sk-container-id-4 div.sk-estimator:hover {background-color: #d4ebff;}#sk-container-id-4 div.sk-parallel-item::after {content: \"\";width: 100%;border-bottom: 1px solid gray;flex-grow: 1;}#sk-container-id-4 div.sk-label:hover label.sk-toggleable__label {background-color: #d4ebff;}#sk-container-id-4 div.sk-serial::before {content: \"\";position: absolute;border-left: 1px solid gray;box-sizing: border-box;top: 0;bottom: 0;left: 50%;z-index: 0;}#sk-container-id-4 div.sk-serial {display: flex;flex-direction: column;align-items: center;background-color: white;padding-right: 0.2em;padding-left: 0.2em;position: relative;}#sk-container-id-4 div.sk-item {position: relative;z-index: 1;}#sk-container-id-4 div.sk-parallel {display: flex;align-items: stretch;justify-content: center;background-color: white;position: relative;}#sk-container-id-4 div.sk-item::before, #sk-container-id-4 div.sk-parallel-item::before {content: \"\";position: absolute;border-left: 1px solid gray;box-sizing: border-box;top: 0;bottom: 0;left: 50%;z-index: -1;}#sk-container-id-4 div.sk-parallel-item {display: flex;flex-direction: column;z-index: 1;position: relative;background-color: white;}#sk-container-id-4 div.sk-parallel-item:first-child::after {align-self: flex-end;width: 50%;}#sk-container-id-4 div.sk-parallel-item:last-child::after {align-self: flex-start;width: 50%;}#sk-container-id-4 div.sk-parallel-item:only-child::after {width: 0;}#sk-container-id-4 div.sk-dashed-wrapped {border: 1px dashed gray;margin: 0 0.4em 0.5em 0.4em;box-sizing: border-box;padding-bottom: 0.4em;background-color: white;}#sk-container-id-4 div.sk-label label {font-family: monospace;font-weight: bold;display: inline-block;line-height: 1.2em;}#sk-container-id-4 div.sk-label-container {text-align: center;}#sk-container-id-4 div.sk-container {/* jupyter's `normalize.less` sets `[hidden] { display: none; }` but bootstrap.min.css set `[hidden] { display: none !important; }` so we also need the `!important` here to be able to override the default hidden behavior on the sphinx rendered scikit-learn.org. See: https://github.com/scikit-learn/scikit-learn/issues/21755 */display: inline-block !important;position: relative;}#sk-container-id-4 div.sk-text-repr-fallback {display: none;}</style><div id=\"sk-container-id-4\" class=\"sk-top-container\"><div class=\"sk-text-repr-fallback\"><pre>LogisticRegression()</pre><b>In a Jupyter environment, please rerun this cell to show the HTML representation or trust the notebook. <br />On GitHub, the HTML representation is unable to render, please try loading this page with nbviewer.org.</b></div><div class=\"sk-container\" hidden><div class=\"sk-item\"><div class=\"sk-estimator sk-toggleable\"><input class=\"sk-toggleable__control sk-hidden--visually\" id=\"sk-estimator-id-6\" type=\"checkbox\" checked><label for=\"sk-estimator-id-6\" class=\"sk-toggleable__label sk-toggleable__label-arrow\">LogisticRegression</label><div class=\"sk-toggleable__content\"><pre>LogisticRegression()</pre></div></div></div></div></div>"
      ],
      "text/plain": [
       "LogisticRegression()"
      ]
     },
     "execution_count": 67,
     "metadata": {},
     "output_type": "execute_result"
    }
   ],
   "source": [
    "model_lgr = LogisticRegression()\n",
    "model_lgr.fit(x_train_tfidf, y_train)"
   ]
  },
  {
   "cell_type": "code",
   "execution_count": 68,
   "id": "3136d31a",
   "metadata": {},
   "outputs": [],
   "source": [
    "y_pred = model_lgr.predict(x_test_tfidf)"
   ]
  },
  {
   "cell_type": "code",
   "execution_count": 69,
   "id": "b790679f",
   "metadata": {},
   "outputs": [
    {
     "name": "stdout",
     "output_type": "stream",
     "text": [
      "0.9230769230769231\n"
     ]
    }
   ],
   "source": [
    "accuracy_lgr = accuracy_score(y_test, y_pred)\n",
    "print(accuracy_lgr)"
   ]
  },
  {
   "cell_type": "code",
   "execution_count": 70,
   "id": "ecbe5ce4",
   "metadata": {},
   "outputs": [
    {
     "name": "stdout",
     "output_type": "stream",
     "text": [
      "[[2 0 0 0]\n",
      " [0 2 1 0]\n",
      " [0 0 5 0]\n",
      " [0 0 0 3]]\n"
     ]
    }
   ],
   "source": [
    "cm_lg = confusion_matrix(y_test,y_pred)\n",
    "print(cm_lg)\n"
   ]
  },
  {
   "cell_type": "code",
   "execution_count": null,
   "id": "66a0226c",
   "metadata": {},
   "outputs": [],
   "source": [
    "# there is no false positive and false negative in this matrix."
   ]
  },
  {
   "cell_type": "code",
   "execution_count": 71,
   "id": "28479060",
   "metadata": {},
   "outputs": [
    {
     "name": "stdout",
     "output_type": "stream",
     "text": [
      "Accuracy of training set : 1.00\n",
      "Accuracy of  test set    : 0.92\n"
     ]
    }
   ],
   "source": [
    "print('Accuracy of training set : {:.2f}'.format(model_lgr.score(x_train_tfidf, y_train)))\n",
    "print('Accuracy of  test set    : {:.2f}'.format(model_lgr.score(x_test_tfidf, y_test)))"
   ]
  },
  {
   "cell_type": "code",
   "execution_count": 72,
   "id": "655f98af",
   "metadata": {},
   "outputs": [
    {
     "name": "stdout",
     "output_type": "stream",
     "text": [
      "Classification report for classifier LogisticRegression():\n",
      "              precision    recall  f1-score   support\n",
      "\n",
      "           0       1.00      1.00      1.00         2\n",
      "           1       1.00      0.67      0.80         3\n",
      "           2       0.83      1.00      0.91         5\n",
      "           3       1.00      1.00      1.00         3\n",
      "\n",
      "    accuracy                           0.92        13\n",
      "   macro avg       0.96      0.92      0.93        13\n",
      "weighted avg       0.94      0.92      0.92        13\n",
      "\n",
      "\n"
     ]
    }
   ],
   "source": [
    "print(\"Classification report for classifier %s:\\n%s\\n\" % (model_lgr,classification_report(y_test, y_pred)))\n",
    "nb_score = model_lgr.score(x_test_tfidf, y_test)\n",
    "nb_cm = confusion_matrix(y_test, y_pred)\n",
    "\n",
    "precision_lgr = round(precision_score(y_test,y_pred,average = 'macro'),2)\n",
    "recall_lgr = round(recall_score(y_test,y_pred, average = 'macro'),2)\n",
    "f1_lgr = round(f1_score(y_test,y_pred, average = 'macro'),2)\n",
    "accuracy_lgr = round(accuracy_score(y_test,y_pred),2)"
   ]
  },
  {
   "cell_type": "markdown",
   "id": "6cdbaf38",
   "metadata": {},
   "source": [
    "# Bagging Classifier"
   ]
  },
  {
   "cell_type": "code",
   "execution_count": 73,
   "id": "156602a8",
   "metadata": {},
   "outputs": [],
   "source": [
    "model_bagg = BaggingClassifier(KNeighborsClassifier(), max_samples=0.5, max_features=0.5)"
   ]
  },
  {
   "cell_type": "code",
   "execution_count": 74,
   "id": "731e8695",
   "metadata": {},
   "outputs": [
    {
     "data": {
      "text/html": [
       "<style>#sk-container-id-5 {color: black;background-color: white;}#sk-container-id-5 pre{padding: 0;}#sk-container-id-5 div.sk-toggleable {background-color: white;}#sk-container-id-5 label.sk-toggleable__label {cursor: pointer;display: block;width: 100%;margin-bottom: 0;padding: 0.3em;box-sizing: border-box;text-align: center;}#sk-container-id-5 label.sk-toggleable__label-arrow:before {content: \"▸\";float: left;margin-right: 0.25em;color: #696969;}#sk-container-id-5 label.sk-toggleable__label-arrow:hover:before {color: black;}#sk-container-id-5 div.sk-estimator:hover label.sk-toggleable__label-arrow:before {color: black;}#sk-container-id-5 div.sk-toggleable__content {max-height: 0;max-width: 0;overflow: hidden;text-align: left;background-color: #f0f8ff;}#sk-container-id-5 div.sk-toggleable__content pre {margin: 0.2em;color: black;border-radius: 0.25em;background-color: #f0f8ff;}#sk-container-id-5 input.sk-toggleable__control:checked~div.sk-toggleable__content {max-height: 200px;max-width: 100%;overflow: auto;}#sk-container-id-5 input.sk-toggleable__control:checked~label.sk-toggleable__label-arrow:before {content: \"▾\";}#sk-container-id-5 div.sk-estimator input.sk-toggleable__control:checked~label.sk-toggleable__label {background-color: #d4ebff;}#sk-container-id-5 div.sk-label input.sk-toggleable__control:checked~label.sk-toggleable__label {background-color: #d4ebff;}#sk-container-id-5 input.sk-hidden--visually {border: 0;clip: rect(1px 1px 1px 1px);clip: rect(1px, 1px, 1px, 1px);height: 1px;margin: -1px;overflow: hidden;padding: 0;position: absolute;width: 1px;}#sk-container-id-5 div.sk-estimator {font-family: monospace;background-color: #f0f8ff;border: 1px dotted black;border-radius: 0.25em;box-sizing: border-box;margin-bottom: 0.5em;}#sk-container-id-5 div.sk-estimator:hover {background-color: #d4ebff;}#sk-container-id-5 div.sk-parallel-item::after {content: \"\";width: 100%;border-bottom: 1px solid gray;flex-grow: 1;}#sk-container-id-5 div.sk-label:hover label.sk-toggleable__label {background-color: #d4ebff;}#sk-container-id-5 div.sk-serial::before {content: \"\";position: absolute;border-left: 1px solid gray;box-sizing: border-box;top: 0;bottom: 0;left: 50%;z-index: 0;}#sk-container-id-5 div.sk-serial {display: flex;flex-direction: column;align-items: center;background-color: white;padding-right: 0.2em;padding-left: 0.2em;position: relative;}#sk-container-id-5 div.sk-item {position: relative;z-index: 1;}#sk-container-id-5 div.sk-parallel {display: flex;align-items: stretch;justify-content: center;background-color: white;position: relative;}#sk-container-id-5 div.sk-item::before, #sk-container-id-5 div.sk-parallel-item::before {content: \"\";position: absolute;border-left: 1px solid gray;box-sizing: border-box;top: 0;bottom: 0;left: 50%;z-index: -1;}#sk-container-id-5 div.sk-parallel-item {display: flex;flex-direction: column;z-index: 1;position: relative;background-color: white;}#sk-container-id-5 div.sk-parallel-item:first-child::after {align-self: flex-end;width: 50%;}#sk-container-id-5 div.sk-parallel-item:last-child::after {align-self: flex-start;width: 50%;}#sk-container-id-5 div.sk-parallel-item:only-child::after {width: 0;}#sk-container-id-5 div.sk-dashed-wrapped {border: 1px dashed gray;margin: 0 0.4em 0.5em 0.4em;box-sizing: border-box;padding-bottom: 0.4em;background-color: white;}#sk-container-id-5 div.sk-label label {font-family: monospace;font-weight: bold;display: inline-block;line-height: 1.2em;}#sk-container-id-5 div.sk-label-container {text-align: center;}#sk-container-id-5 div.sk-container {/* jupyter's `normalize.less` sets `[hidden] { display: none; }` but bootstrap.min.css set `[hidden] { display: none !important; }` so we also need the `!important` here to be able to override the default hidden behavior on the sphinx rendered scikit-learn.org. See: https://github.com/scikit-learn/scikit-learn/issues/21755 */display: inline-block !important;position: relative;}#sk-container-id-5 div.sk-text-repr-fallback {display: none;}</style><div id=\"sk-container-id-5\" class=\"sk-top-container\"><div class=\"sk-text-repr-fallback\"><pre>BaggingClassifier(estimator=KNeighborsClassifier(), max_features=0.5,\n",
       "                  max_samples=0.5)</pre><b>In a Jupyter environment, please rerun this cell to show the HTML representation or trust the notebook. <br />On GitHub, the HTML representation is unable to render, please try loading this page with nbviewer.org.</b></div><div class=\"sk-container\" hidden><div class=\"sk-item sk-dashed-wrapped\"><div class=\"sk-label-container\"><div class=\"sk-label sk-toggleable\"><input class=\"sk-toggleable__control sk-hidden--visually\" id=\"sk-estimator-id-7\" type=\"checkbox\" ><label for=\"sk-estimator-id-7\" class=\"sk-toggleable__label sk-toggleable__label-arrow\">BaggingClassifier</label><div class=\"sk-toggleable__content\"><pre>BaggingClassifier(estimator=KNeighborsClassifier(), max_features=0.5,\n",
       "                  max_samples=0.5)</pre></div></div></div><div class=\"sk-parallel\"><div class=\"sk-parallel-item\"><div class=\"sk-item\"><div class=\"sk-label-container\"><div class=\"sk-label sk-toggleable\"><input class=\"sk-toggleable__control sk-hidden--visually\" id=\"sk-estimator-id-8\" type=\"checkbox\" ><label for=\"sk-estimator-id-8\" class=\"sk-toggleable__label sk-toggleable__label-arrow\">estimator: KNeighborsClassifier</label><div class=\"sk-toggleable__content\"><pre>KNeighborsClassifier()</pre></div></div></div><div class=\"sk-serial\"><div class=\"sk-item\"><div class=\"sk-estimator sk-toggleable\"><input class=\"sk-toggleable__control sk-hidden--visually\" id=\"sk-estimator-id-9\" type=\"checkbox\" ><label for=\"sk-estimator-id-9\" class=\"sk-toggleable__label sk-toggleable__label-arrow\">KNeighborsClassifier</label><div class=\"sk-toggleable__content\"><pre>KNeighborsClassifier()</pre></div></div></div></div></div></div></div></div></div></div>"
      ],
      "text/plain": [
       "BaggingClassifier(estimator=KNeighborsClassifier(), max_features=0.5,\n",
       "                  max_samples=0.5)"
      ]
     },
     "execution_count": 74,
     "metadata": {},
     "output_type": "execute_result"
    }
   ],
   "source": [
    "model_bagg.fit(x_train_tfidf, y_train)"
   ]
  },
  {
   "cell_type": "code",
   "execution_count": 75,
   "id": "8c59993c",
   "metadata": {},
   "outputs": [],
   "source": [
    "y_pred = model_bagg.predict(x_test_tfidf)"
   ]
  },
  {
   "cell_type": "code",
   "execution_count": 76,
   "id": "a1dd28ae",
   "metadata": {},
   "outputs": [
    {
     "name": "stdout",
     "output_type": "stream",
     "text": [
      "0.9230769230769231\n"
     ]
    }
   ],
   "source": [
    "accuracy_bagg = accuracy_score(y_test, y_pred)\n",
    "print(accuracy_bagg)"
   ]
  },
  {
   "cell_type": "code",
   "execution_count": 77,
   "id": "5cea8701",
   "metadata": {},
   "outputs": [
    {
     "name": "stdout",
     "output_type": "stream",
     "text": [
      "Accuracy of training set : 0.92\n",
      "Accuracy of  test set    : 0.92\n"
     ]
    }
   ],
   "source": [
    "print('Accuracy of training set : {:.2f}'.format(model_bagg.score(x_train_tfidf, y_train)))\n",
    "print('Accuracy of  test set    : {:.2f}'.format(model_bagg.score(x_test_tfidf, y_test)))"
   ]
  },
  {
   "cell_type": "code",
   "execution_count": 78,
   "id": "faaf4d12",
   "metadata": {},
   "outputs": [
    {
     "name": "stdout",
     "output_type": "stream",
     "text": [
      "Classification report for classifier BaggingClassifier(estimator=KNeighborsClassifier(), max_features=0.5,\n",
      "                  max_samples=0.5):\n",
      "              precision    recall  f1-score   support\n",
      "\n",
      "           0       1.00      0.50      0.67         2\n",
      "           1       1.00      1.00      1.00         3\n",
      "           2       1.00      1.00      1.00         5\n",
      "           3       0.75      1.00      0.86         3\n",
      "\n",
      "    accuracy                           0.92        13\n",
      "   macro avg       0.94      0.88      0.88        13\n",
      "weighted avg       0.94      0.92      0.92        13\n",
      "\n",
      "\n"
     ]
    }
   ],
   "source": [
    "print(\"Classification report for classifier %s:\\n%s\\n\" % (model_bagg,classification_report(y_test, y_pred)))\n",
    "nb_score = model_bagg.score(x_test_tfidf, y_test)\n",
    "nb_cm = confusion_matrix(y_test, y_pred)\n",
    "\n",
    "precision_bagg = round(precision_score(y_test,y_pred,average = 'macro'),2)\n",
    "recall_bagg = round(recall_score(y_test,y_pred, average = 'macro'),2)\n",
    "f1_bagg = round(f1_score(y_test,y_pred, average = 'macro'),2)\n",
    "accuracy_bagg = round(accuracy_score(y_test,y_pred),2)"
   ]
  },
  {
   "cell_type": "markdown",
   "id": "53a39a13",
   "metadata": {},
   "source": [
    "# AdaBoost Classifier"
   ]
  },
  {
   "cell_type": "code",
   "execution_count": 79,
   "id": "a3c5039b",
   "metadata": {},
   "outputs": [],
   "source": [
    "model_Adaboost = AdaBoostClassifier(n_estimators=100)"
   ]
  },
  {
   "cell_type": "code",
   "execution_count": 80,
   "id": "6ccf2ca4",
   "metadata": {},
   "outputs": [
    {
     "data": {
      "text/html": [
       "<style>#sk-container-id-6 {color: black;background-color: white;}#sk-container-id-6 pre{padding: 0;}#sk-container-id-6 div.sk-toggleable {background-color: white;}#sk-container-id-6 label.sk-toggleable__label {cursor: pointer;display: block;width: 100%;margin-bottom: 0;padding: 0.3em;box-sizing: border-box;text-align: center;}#sk-container-id-6 label.sk-toggleable__label-arrow:before {content: \"▸\";float: left;margin-right: 0.25em;color: #696969;}#sk-container-id-6 label.sk-toggleable__label-arrow:hover:before {color: black;}#sk-container-id-6 div.sk-estimator:hover label.sk-toggleable__label-arrow:before {color: black;}#sk-container-id-6 div.sk-toggleable__content {max-height: 0;max-width: 0;overflow: hidden;text-align: left;background-color: #f0f8ff;}#sk-container-id-6 div.sk-toggleable__content pre {margin: 0.2em;color: black;border-radius: 0.25em;background-color: #f0f8ff;}#sk-container-id-6 input.sk-toggleable__control:checked~div.sk-toggleable__content {max-height: 200px;max-width: 100%;overflow: auto;}#sk-container-id-6 input.sk-toggleable__control:checked~label.sk-toggleable__label-arrow:before {content: \"▾\";}#sk-container-id-6 div.sk-estimator input.sk-toggleable__control:checked~label.sk-toggleable__label {background-color: #d4ebff;}#sk-container-id-6 div.sk-label input.sk-toggleable__control:checked~label.sk-toggleable__label {background-color: #d4ebff;}#sk-container-id-6 input.sk-hidden--visually {border: 0;clip: rect(1px 1px 1px 1px);clip: rect(1px, 1px, 1px, 1px);height: 1px;margin: -1px;overflow: hidden;padding: 0;position: absolute;width: 1px;}#sk-container-id-6 div.sk-estimator {font-family: monospace;background-color: #f0f8ff;border: 1px dotted black;border-radius: 0.25em;box-sizing: border-box;margin-bottom: 0.5em;}#sk-container-id-6 div.sk-estimator:hover {background-color: #d4ebff;}#sk-container-id-6 div.sk-parallel-item::after {content: \"\";width: 100%;border-bottom: 1px solid gray;flex-grow: 1;}#sk-container-id-6 div.sk-label:hover label.sk-toggleable__label {background-color: #d4ebff;}#sk-container-id-6 div.sk-serial::before {content: \"\";position: absolute;border-left: 1px solid gray;box-sizing: border-box;top: 0;bottom: 0;left: 50%;z-index: 0;}#sk-container-id-6 div.sk-serial {display: flex;flex-direction: column;align-items: center;background-color: white;padding-right: 0.2em;padding-left: 0.2em;position: relative;}#sk-container-id-6 div.sk-item {position: relative;z-index: 1;}#sk-container-id-6 div.sk-parallel {display: flex;align-items: stretch;justify-content: center;background-color: white;position: relative;}#sk-container-id-6 div.sk-item::before, #sk-container-id-6 div.sk-parallel-item::before {content: \"\";position: absolute;border-left: 1px solid gray;box-sizing: border-box;top: 0;bottom: 0;left: 50%;z-index: -1;}#sk-container-id-6 div.sk-parallel-item {display: flex;flex-direction: column;z-index: 1;position: relative;background-color: white;}#sk-container-id-6 div.sk-parallel-item:first-child::after {align-self: flex-end;width: 50%;}#sk-container-id-6 div.sk-parallel-item:last-child::after {align-self: flex-start;width: 50%;}#sk-container-id-6 div.sk-parallel-item:only-child::after {width: 0;}#sk-container-id-6 div.sk-dashed-wrapped {border: 1px dashed gray;margin: 0 0.4em 0.5em 0.4em;box-sizing: border-box;padding-bottom: 0.4em;background-color: white;}#sk-container-id-6 div.sk-label label {font-family: monospace;font-weight: bold;display: inline-block;line-height: 1.2em;}#sk-container-id-6 div.sk-label-container {text-align: center;}#sk-container-id-6 div.sk-container {/* jupyter's `normalize.less` sets `[hidden] { display: none; }` but bootstrap.min.css set `[hidden] { display: none !important; }` so we also need the `!important` here to be able to override the default hidden behavior on the sphinx rendered scikit-learn.org. See: https://github.com/scikit-learn/scikit-learn/issues/21755 */display: inline-block !important;position: relative;}#sk-container-id-6 div.sk-text-repr-fallback {display: none;}</style><div id=\"sk-container-id-6\" class=\"sk-top-container\"><div class=\"sk-text-repr-fallback\"><pre>AdaBoostClassifier(n_estimators=100)</pre><b>In a Jupyter environment, please rerun this cell to show the HTML representation or trust the notebook. <br />On GitHub, the HTML representation is unable to render, please try loading this page with nbviewer.org.</b></div><div class=\"sk-container\" hidden><div class=\"sk-item\"><div class=\"sk-estimator sk-toggleable\"><input class=\"sk-toggleable__control sk-hidden--visually\" id=\"sk-estimator-id-10\" type=\"checkbox\" checked><label for=\"sk-estimator-id-10\" class=\"sk-toggleable__label sk-toggleable__label-arrow\">AdaBoostClassifier</label><div class=\"sk-toggleable__content\"><pre>AdaBoostClassifier(n_estimators=100)</pre></div></div></div></div></div>"
      ],
      "text/plain": [
       "AdaBoostClassifier(n_estimators=100)"
      ]
     },
     "execution_count": 80,
     "metadata": {},
     "output_type": "execute_result"
    }
   ],
   "source": [
    "model_Adaboost.fit(x_train_tfidf, y_train)"
   ]
  },
  {
   "cell_type": "code",
   "execution_count": 81,
   "id": "f08fe3dc",
   "metadata": {},
   "outputs": [],
   "source": [
    "y_pred = model_Adaboost.predict(x_test_tfidf)"
   ]
  },
  {
   "cell_type": "code",
   "execution_count": 82,
   "id": "840e23e4",
   "metadata": {},
   "outputs": [
    {
     "name": "stdout",
     "output_type": "stream",
     "text": [
      "1.0\n"
     ]
    }
   ],
   "source": [
    "accuracy_Adaboost = accuracy_score(y_test, y_pred)\n",
    "print(accuracy_Adaboost)"
   ]
  },
  {
   "cell_type": "code",
   "execution_count": 83,
   "id": "2130aaa3",
   "metadata": {},
   "outputs": [
    {
     "name": "stdout",
     "output_type": "stream",
     "text": [
      "Accuracy of training set : 1.00\n",
      "Accuracy of  test set    : 1.00\n"
     ]
    }
   ],
   "source": [
    "print('Accuracy of training set : {:.2f}'.format(model_Adaboost.score(x_train_tfidf, y_train)))\n",
    "print('Accuracy of  test set    : {:.2f}'.format(model_Adaboost.score(x_test_tfidf, y_test)))"
   ]
  },
  {
   "cell_type": "code",
   "execution_count": 84,
   "id": "ab08c8fb",
   "metadata": {},
   "outputs": [
    {
     "name": "stdout",
     "output_type": "stream",
     "text": [
      "Classification report for classifier AdaBoostClassifier(n_estimators=100):\n",
      "              precision    recall  f1-score   support\n",
      "\n",
      "           0       1.00      1.00      1.00         2\n",
      "           1       1.00      1.00      1.00         3\n",
      "           2       1.00      1.00      1.00         5\n",
      "           3       1.00      1.00      1.00         3\n",
      "\n",
      "    accuracy                           1.00        13\n",
      "   macro avg       1.00      1.00      1.00        13\n",
      "weighted avg       1.00      1.00      1.00        13\n",
      "\n",
      "\n"
     ]
    }
   ],
   "source": [
    "print(\"Classification report for classifier %s:\\n%s\\n\" % (model_Adaboost,classification_report(y_test, y_pred)))\n",
    "nb_score = model_Adaboost.score(x_test_tfidf, y_test)\n",
    "nb_cm = confusion_matrix(y_test, y_pred)\n",
    "\n",
    "precision_Adaboost = round(precision_score(y_test,y_pred,average = 'macro'),2)\n",
    "recall_Adaboost = round(recall_score(y_test,y_pred, average = 'macro'),2)\n",
    "f1_Adaboost = round(f1_score(y_test,y_pred, average = 'macro'),2)\n",
    "accuracy_Adaboost = round(accuracy_score(y_test,y_pred),2)"
   ]
  },
  {
   "cell_type": "markdown",
   "id": "c6ff55ad",
   "metadata": {},
   "source": [
    "# Gradient Boosting Classifier"
   ]
  },
  {
   "cell_type": "code",
   "execution_count": 85,
   "id": "58fd9dd8",
   "metadata": {},
   "outputs": [
    {
     "data": {
      "text/html": [
       "<style>#sk-container-id-7 {color: black;background-color: white;}#sk-container-id-7 pre{padding: 0;}#sk-container-id-7 div.sk-toggleable {background-color: white;}#sk-container-id-7 label.sk-toggleable__label {cursor: pointer;display: block;width: 100%;margin-bottom: 0;padding: 0.3em;box-sizing: border-box;text-align: center;}#sk-container-id-7 label.sk-toggleable__label-arrow:before {content: \"▸\";float: left;margin-right: 0.25em;color: #696969;}#sk-container-id-7 label.sk-toggleable__label-arrow:hover:before {color: black;}#sk-container-id-7 div.sk-estimator:hover label.sk-toggleable__label-arrow:before {color: black;}#sk-container-id-7 div.sk-toggleable__content {max-height: 0;max-width: 0;overflow: hidden;text-align: left;background-color: #f0f8ff;}#sk-container-id-7 div.sk-toggleable__content pre {margin: 0.2em;color: black;border-radius: 0.25em;background-color: #f0f8ff;}#sk-container-id-7 input.sk-toggleable__control:checked~div.sk-toggleable__content {max-height: 200px;max-width: 100%;overflow: auto;}#sk-container-id-7 input.sk-toggleable__control:checked~label.sk-toggleable__label-arrow:before {content: \"▾\";}#sk-container-id-7 div.sk-estimator input.sk-toggleable__control:checked~label.sk-toggleable__label {background-color: #d4ebff;}#sk-container-id-7 div.sk-label input.sk-toggleable__control:checked~label.sk-toggleable__label {background-color: #d4ebff;}#sk-container-id-7 input.sk-hidden--visually {border: 0;clip: rect(1px 1px 1px 1px);clip: rect(1px, 1px, 1px, 1px);height: 1px;margin: -1px;overflow: hidden;padding: 0;position: absolute;width: 1px;}#sk-container-id-7 div.sk-estimator {font-family: monospace;background-color: #f0f8ff;border: 1px dotted black;border-radius: 0.25em;box-sizing: border-box;margin-bottom: 0.5em;}#sk-container-id-7 div.sk-estimator:hover {background-color: #d4ebff;}#sk-container-id-7 div.sk-parallel-item::after {content: \"\";width: 100%;border-bottom: 1px solid gray;flex-grow: 1;}#sk-container-id-7 div.sk-label:hover label.sk-toggleable__label {background-color: #d4ebff;}#sk-container-id-7 div.sk-serial::before {content: \"\";position: absolute;border-left: 1px solid gray;box-sizing: border-box;top: 0;bottom: 0;left: 50%;z-index: 0;}#sk-container-id-7 div.sk-serial {display: flex;flex-direction: column;align-items: center;background-color: white;padding-right: 0.2em;padding-left: 0.2em;position: relative;}#sk-container-id-7 div.sk-item {position: relative;z-index: 1;}#sk-container-id-7 div.sk-parallel {display: flex;align-items: stretch;justify-content: center;background-color: white;position: relative;}#sk-container-id-7 div.sk-item::before, #sk-container-id-7 div.sk-parallel-item::before {content: \"\";position: absolute;border-left: 1px solid gray;box-sizing: border-box;top: 0;bottom: 0;left: 50%;z-index: -1;}#sk-container-id-7 div.sk-parallel-item {display: flex;flex-direction: column;z-index: 1;position: relative;background-color: white;}#sk-container-id-7 div.sk-parallel-item:first-child::after {align-self: flex-end;width: 50%;}#sk-container-id-7 div.sk-parallel-item:last-child::after {align-self: flex-start;width: 50%;}#sk-container-id-7 div.sk-parallel-item:only-child::after {width: 0;}#sk-container-id-7 div.sk-dashed-wrapped {border: 1px dashed gray;margin: 0 0.4em 0.5em 0.4em;box-sizing: border-box;padding-bottom: 0.4em;background-color: white;}#sk-container-id-7 div.sk-label label {font-family: monospace;font-weight: bold;display: inline-block;line-height: 1.2em;}#sk-container-id-7 div.sk-label-container {text-align: center;}#sk-container-id-7 div.sk-container {/* jupyter's `normalize.less` sets `[hidden] { display: none; }` but bootstrap.min.css set `[hidden] { display: none !important; }` so we also need the `!important` here to be able to override the default hidden behavior on the sphinx rendered scikit-learn.org. See: https://github.com/scikit-learn/scikit-learn/issues/21755 */display: inline-block !important;position: relative;}#sk-container-id-7 div.sk-text-repr-fallback {display: none;}</style><div id=\"sk-container-id-7\" class=\"sk-top-container\"><div class=\"sk-text-repr-fallback\"><pre>GradientBoostingClassifier(learning_rate=1.0, max_depth=1, random_state=0)</pre><b>In a Jupyter environment, please rerun this cell to show the HTML representation or trust the notebook. <br />On GitHub, the HTML representation is unable to render, please try loading this page with nbviewer.org.</b></div><div class=\"sk-container\" hidden><div class=\"sk-item\"><div class=\"sk-estimator sk-toggleable\"><input class=\"sk-toggleable__control sk-hidden--visually\" id=\"sk-estimator-id-11\" type=\"checkbox\" checked><label for=\"sk-estimator-id-11\" class=\"sk-toggleable__label sk-toggleable__label-arrow\">GradientBoostingClassifier</label><div class=\"sk-toggleable__content\"><pre>GradientBoostingClassifier(learning_rate=1.0, max_depth=1, random_state=0)</pre></div></div></div></div></div>"
      ],
      "text/plain": [
       "GradientBoostingClassifier(learning_rate=1.0, max_depth=1, random_state=0)"
      ]
     },
     "execution_count": 85,
     "metadata": {},
     "output_type": "execute_result"
    }
   ],
   "source": [
    "model_GradientBoost = GradientBoostingClassifier(n_estimators=100,learning_rate=1.0,max_depth=1, random_state=0)\n",
    "model_GradientBoost.fit(x_train_tfidf, y_train)"
   ]
  },
  {
   "cell_type": "code",
   "execution_count": 86,
   "id": "fd42f0e6",
   "metadata": {},
   "outputs": [
    {
     "name": "stdout",
     "output_type": "stream",
     "text": [
      "1.0\n"
     ]
    }
   ],
   "source": [
    "y_pred = model_GradientBoost.predict(x_test_tfidf)\n",
    "accuracy_GradientBoost = accuracy_score(y_test, y_pred)\n",
    "print(accuracy_GradientBoost)"
   ]
  },
  {
   "cell_type": "code",
   "execution_count": 87,
   "id": "c8be2bc2",
   "metadata": {},
   "outputs": [
    {
     "name": "stdout",
     "output_type": "stream",
     "text": [
      "Accuracy of training set : 1.00\n",
      "Accuracy of  test set    : 1.00\n"
     ]
    }
   ],
   "source": [
    "print('Accuracy of training set : {:.2f}'.format(model_GradientBoost.score(x_train_tfidf, y_train)))\n",
    "print('Accuracy of  test set    : {:.2f}'.format(model_GradientBoost.score(x_test_tfidf, y_test)))"
   ]
  },
  {
   "cell_type": "code",
   "execution_count": 88,
   "id": "89968829",
   "metadata": {},
   "outputs": [
    {
     "name": "stdout",
     "output_type": "stream",
     "text": [
      "Classification report for classifier GradientBoostingClassifier(learning_rate=1.0, max_depth=1, random_state=0):\n",
      "              precision    recall  f1-score   support\n",
      "\n",
      "           0       1.00      1.00      1.00         2\n",
      "           1       1.00      1.00      1.00         3\n",
      "           2       1.00      1.00      1.00         5\n",
      "           3       1.00      1.00      1.00         3\n",
      "\n",
      "    accuracy                           1.00        13\n",
      "   macro avg       1.00      1.00      1.00        13\n",
      "weighted avg       1.00      1.00      1.00        13\n",
      "\n",
      "\n"
     ]
    }
   ],
   "source": [
    "print(\"Classification report for classifier %s:\\n%s\\n\" % (model_GradientBoost,classification_report(y_test, y_pred)))\n",
    "nb_score = model_GradientBoost.score(x_test_tfidf, y_test)\n",
    "nb_cm = confusion_matrix(y_test, y_pred)\n",
    "\n",
    "precision_GradientBoost = round(precision_score(y_test,y_pred,average = 'macro'),2)\n",
    "recall_GradientBoost = round(recall_score(y_test,y_pred, average = 'macro'),2)\n",
    "f1_GradientBoost = round(f1_score(y_test,y_pred, average = 'macro'),2)\n",
    "accuracy_GradientBoost = round(accuracy_score(y_test,y_pred),2)"
   ]
  },
  {
   "cell_type": "markdown",
   "id": "17b1b5b3",
   "metadata": {},
   "source": [
    "# Naive Bayes Classifier"
   ]
  },
  {
   "cell_type": "code",
   "execution_count": 89,
   "id": "c00dfa4b",
   "metadata": {},
   "outputs": [],
   "source": [
    "model_NB =MultinomialNB(alpha=1, fit_prior=False, class_prior=None)"
   ]
  },
  {
   "cell_type": "code",
   "execution_count": 90,
   "id": "71c118cb",
   "metadata": {},
   "outputs": [],
   "source": [
    "model_NB.fit(x_train_tfidf, y_train)\n",
    "y_pred = model_NB.predict(x_test_tfidf)\n",
    "accuracy_NB = accuracy_score(y_test, y_pred)"
   ]
  },
  {
   "cell_type": "code",
   "execution_count": 91,
   "id": "38f3657e",
   "metadata": {},
   "outputs": [
    {
     "name": "stdout",
     "output_type": "stream",
     "text": [
      "1.0\n"
     ]
    }
   ],
   "source": [
    "print(accuracy_NB)"
   ]
  },
  {
   "cell_type": "code",
   "execution_count": 92,
   "id": "9db1d2ea",
   "metadata": {},
   "outputs": [
    {
     "name": "stdout",
     "output_type": "stream",
     "text": [
      "Accuracy of training set : 1.00\n",
      "Accuracy of  test set    : 1.00\n"
     ]
    }
   ],
   "source": [
    "print('Accuracy of training set : {:.2f}'.format(model_NB.score(x_train_tfidf, y_train)))\n",
    "print('Accuracy of  test set    : {:.2f}'.format(model_NB.score(x_test_tfidf, y_test)))"
   ]
  },
  {
   "cell_type": "code",
   "execution_count": 93,
   "id": "39f442b3",
   "metadata": {},
   "outputs": [
    {
     "name": "stdout",
     "output_type": "stream",
     "text": [
      "Classification report for classifier MultinomialNB(alpha=1, fit_prior=False):\n",
      "              precision    recall  f1-score   support\n",
      "\n",
      "           0       1.00      1.00      1.00         2\n",
      "           1       1.00      1.00      1.00         3\n",
      "           2       1.00      1.00      1.00         5\n",
      "           3       1.00      1.00      1.00         3\n",
      "\n",
      "    accuracy                           1.00        13\n",
      "   macro avg       1.00      1.00      1.00        13\n",
      "weighted avg       1.00      1.00      1.00        13\n",
      "\n",
      "\n"
     ]
    }
   ],
   "source": [
    "print(\"Classification report for classifier %s:\\n%s\\n\" % (model_NB,classification_report(y_test, y_pred)))\n",
    "nb_score = model_NB.score(x_test_tfidf, y_test)\n",
    "nb_cm = confusion_matrix(y_test, y_pred)\n",
    "\n",
    "precision_NB = round(precision_score(y_test,y_pred,average = 'macro'),2)\n",
    "recall_NB = round(recall_score(y_test,y_pred, average = 'macro'),2)\n",
    "f1_NB = round(f1_score(y_test,y_pred, average = 'macro'),2)\n",
    "accuracy_NB = round(accuracy_score(y_test,y_pred),2)"
   ]
  },
  {
   "cell_type": "code",
   "execution_count": 94,
   "id": "cb282b8f",
   "metadata": {},
   "outputs": [],
   "source": [
    "from sklearn.model_selection import cross_val_score"
   ]
  },
  {
   "cell_type": "code",
   "execution_count": 95,
   "id": "4a754c0e",
   "metadata": {},
   "outputs": [
    {
     "name": "stdout",
     "output_type": "stream",
     "text": [
      "[1.   1.   0.5  0.5  0.75 0.75 0.75 0.75 1.   1.  ]\n"
     ]
    }
   ],
   "source": [
    "scores = cross_val_score(estimator= model_lgr,X =x_train_tfidf,y = y_train,cv =10)\n",
    "print(scores)"
   ]
  },
  {
   "cell_type": "code",
   "execution_count": 96,
   "id": "45936e9e",
   "metadata": {},
   "outputs": [
    {
     "data": {
      "text/plain": [
       "0.8"
      ]
     },
     "execution_count": 96,
     "metadata": {},
     "output_type": "execute_result"
    }
   ],
   "source": [
    "scores.mean()"
   ]
  },
  {
   "cell_type": "code",
   "execution_count": 97,
   "id": "b6784f31",
   "metadata": {},
   "outputs": [
    {
     "data": {
      "text/plain": [
       "0.18708286933869706"
      ]
     },
     "execution_count": 97,
     "metadata": {},
     "output_type": "execute_result"
    }
   ],
   "source": [
    "scores.std()"
   ]
  },
  {
   "cell_type": "code",
   "execution_count": 98,
   "id": "aef6f385",
   "metadata": {},
   "outputs": [
    {
     "name": "stdout",
     "output_type": "stream",
     "text": [
      "[1.   1.   1.   0.75 1.   1.   0.75 0.75 0.75 1.  ]\n"
     ]
    }
   ],
   "source": [
    "scores = cross_val_score(estimator= model_knn,X =x_train_tfidf,y = y_train,cv =10)\n",
    "print(scores)"
   ]
  },
  {
   "cell_type": "code",
   "execution_count": 99,
   "id": "57550ebd",
   "metadata": {},
   "outputs": [
    {
     "name": "stdout",
     "output_type": "stream",
     "text": [
      "[0.75       0.75       0.75       0.75       0.25       0.75\n",
      " 0.5        1.         1.         0.66666667]\n"
     ]
    }
   ],
   "source": [
    "scores = cross_val_score(estimator= model_DT,X =x_train_tfidf,y = y_train,cv =10)\n",
    "print(scores)"
   ]
  },
  {
   "cell_type": "code",
   "execution_count": 100,
   "id": "3e4cbe3d",
   "metadata": {},
   "outputs": [
    {
     "name": "stdout",
     "output_type": "stream",
     "text": [
      "[1.   1.   0.75 1.   1.   1.   1.   0.75 1.   1.  ]\n"
     ]
    }
   ],
   "source": [
    "scores = cross_val_score(estimator= model_RF,X =x_train_tfidf,y = y_train,cv =10)\n",
    "print(scores)"
   ]
  },
  {
   "cell_type": "code",
   "execution_count": 101,
   "id": "f2b6a680",
   "metadata": {},
   "outputs": [
    {
     "name": "stdout",
     "output_type": "stream",
     "text": [
      "[1.   1.   1.   0.75 1.   0.75 0.75 1.   1.   1.  ]\n"
     ]
    }
   ],
   "source": [
    "scores = cross_val_score(estimator= model_bagg,X =x_train_tfidf,y = y_train,cv =10)\n",
    "print(scores)"
   ]
  },
  {
   "cell_type": "code",
   "execution_count": 102,
   "id": "0c8fc157",
   "metadata": {},
   "outputs": [
    {
     "name": "stdout",
     "output_type": "stream",
     "text": [
      "[0.75 1.   1.   1.   0.5  1.   0.25 1.   1.   1.  ]\n"
     ]
    }
   ],
   "source": [
    "scores = cross_val_score(estimator= model_Adaboost,X =x_train_tfidf,y = y_train,cv =10)\n",
    "print(scores)"
   ]
  },
  {
   "cell_type": "code",
   "execution_count": 103,
   "id": "edf8b8fa",
   "metadata": {},
   "outputs": [
    {
     "name": "stdout",
     "output_type": "stream",
     "text": [
      "[1.         1.         1.         1.         0.75       1.\n",
      " 1.         1.         1.         0.66666667]\n"
     ]
    }
   ],
   "source": [
    "scores = cross_val_score(estimator= model_GradientBoost,X =x_train_tfidf,y = y_train,cv =10)\n",
    "print(scores)"
   ]
  },
  {
   "cell_type": "code",
   "execution_count": 104,
   "id": "be5ba7c5",
   "metadata": {},
   "outputs": [
    {
     "name": "stdout",
     "output_type": "stream",
     "text": [
      "[1.   1.   1.   1.   1.   1.   0.75 1.   1.   1.  ]\n"
     ]
    }
   ],
   "source": [
    "scores = cross_val_score(estimator=  model_NB,X =x_train_tfidf,y = y_train,cv =10)\n",
    "print(scores)"
   ]
  },
  {
   "cell_type": "code",
   "execution_count": 105,
   "id": "a3925cc5",
   "metadata": {},
   "outputs": [
    {
     "name": "stdout",
     "output_type": "stream",
     "text": [
      "[0.75 0.75 0.5  0.5  0.5  0.75 0.75 0.75 1.   1.  ]\n"
     ]
    }
   ],
   "source": [
    "scores = cross_val_score(estimator=  model_svm,X =x_train_tfidf,y = y_train,cv =10)\n",
    "print(scores)"
   ]
  },
  {
   "cell_type": "markdown",
   "id": "43fd8b25",
   "metadata": {},
   "source": [
    "# Model Evaluation"
   ]
  },
  {
   "cell_type": "code",
   "execution_count": 115,
   "id": "caf292ea",
   "metadata": {},
   "outputs": [
    {
     "data": {
      "text/html": [
       "<div>\n",
       "<style scoped>\n",
       "    .dataframe tbody tr th:only-of-type {\n",
       "        vertical-align: middle;\n",
       "    }\n",
       "\n",
       "    .dataframe tbody tr th {\n",
       "        vertical-align: top;\n",
       "    }\n",
       "\n",
       "    .dataframe thead th {\n",
       "        text-align: right;\n",
       "    }\n",
       "</style>\n",
       "<table border=\"1\" class=\"dataframe\">\n",
       "  <thead>\n",
       "    <tr style=\"text-align: right;\">\n",
       "      <th></th>\n",
       "      <th>Models</th>\n",
       "      <th>Train_Accuracy(%)</th>\n",
       "      <th>Test_Accuracy(%)</th>\n",
       "      <th>Precision(%)</th>\n",
       "      <th>Recall(%)</th>\n",
       "      <th>F1-Score(%)</th>\n",
       "    </tr>\n",
       "  </thead>\n",
       "  <tbody>\n",
       "    <tr>\n",
       "      <th>0</th>\n",
       "      <td>KNN Classifier</td>\n",
       "      <td>0.974359</td>\n",
       "      <td>1.00</td>\n",
       "      <td>1.00</td>\n",
       "      <td>1.00</td>\n",
       "      <td>1.00</td>\n",
       "    </tr>\n",
       "    <tr>\n",
       "      <th>1</th>\n",
       "      <td>DecisionTree Classifier</td>\n",
       "      <td>1.000000</td>\n",
       "      <td>1.00</td>\n",
       "      <td>1.00</td>\n",
       "      <td>1.00</td>\n",
       "      <td>1.00</td>\n",
       "    </tr>\n",
       "    <tr>\n",
       "      <th>2</th>\n",
       "      <td>RandomForest Classifier</td>\n",
       "      <td>1.000000</td>\n",
       "      <td>1.00</td>\n",
       "      <td>1.00</td>\n",
       "      <td>1.00</td>\n",
       "      <td>1.00</td>\n",
       "    </tr>\n",
       "    <tr>\n",
       "      <th>3</th>\n",
       "      <td>SVM Classifier</td>\n",
       "      <td>1.000000</td>\n",
       "      <td>0.92</td>\n",
       "      <td>0.96</td>\n",
       "      <td>0.92</td>\n",
       "      <td>0.93</td>\n",
       "    </tr>\n",
       "    <tr>\n",
       "      <th>4</th>\n",
       "      <td>Logistic Regression</td>\n",
       "      <td>1.000000</td>\n",
       "      <td>0.92</td>\n",
       "      <td>0.96</td>\n",
       "      <td>0.92</td>\n",
       "      <td>0.93</td>\n",
       "    </tr>\n",
       "    <tr>\n",
       "      <th>5</th>\n",
       "      <td>Bagging Classifier</td>\n",
       "      <td>0.923077</td>\n",
       "      <td>0.92</td>\n",
       "      <td>0.94</td>\n",
       "      <td>0.88</td>\n",
       "      <td>0.88</td>\n",
       "    </tr>\n",
       "    <tr>\n",
       "      <th>6</th>\n",
       "      <td>AdaBoost Classifier</td>\n",
       "      <td>1.000000</td>\n",
       "      <td>1.00</td>\n",
       "      <td>1.00</td>\n",
       "      <td>1.00</td>\n",
       "      <td>1.00</td>\n",
       "    </tr>\n",
       "    <tr>\n",
       "      <th>7</th>\n",
       "      <td>Gradient Boosting Classifier</td>\n",
       "      <td>1.000000</td>\n",
       "      <td>1.00</td>\n",
       "      <td>1.00</td>\n",
       "      <td>1.00</td>\n",
       "      <td>1.00</td>\n",
       "    </tr>\n",
       "    <tr>\n",
       "      <th>8</th>\n",
       "      <td>Naive Bayes Classifier</td>\n",
       "      <td>1.000000</td>\n",
       "      <td>1.00</td>\n",
       "      <td>1.00</td>\n",
       "      <td>1.00</td>\n",
       "      <td>1.00</td>\n",
       "    </tr>\n",
       "  </tbody>\n",
       "</table>\n",
       "</div>"
      ],
      "text/plain": [
       "                         Models  Train_Accuracy(%)  Test_Accuracy(%)  \\\n",
       "0                KNN Classifier           0.974359              1.00   \n",
       "1       DecisionTree Classifier           1.000000              1.00   \n",
       "2       RandomForest Classifier           1.000000              1.00   \n",
       "3                SVM Classifier           1.000000              0.92   \n",
       "4           Logistic Regression           1.000000              0.92   \n",
       "5            Bagging Classifier           0.923077              0.92   \n",
       "6           AdaBoost Classifier           1.000000              1.00   \n",
       "7  Gradient Boosting Classifier           1.000000              1.00   \n",
       "8        Naive Bayes Classifier           1.000000              1.00   \n",
       "\n",
       "   Precision(%)  Recall(%)  F1-Score(%)  \n",
       "0          1.00       1.00         1.00  \n",
       "1          1.00       1.00         1.00  \n",
       "2          1.00       1.00         1.00  \n",
       "3          0.96       0.92         0.93  \n",
       "4          0.96       0.92         0.93  \n",
       "5          0.94       0.88         0.88  \n",
       "6          1.00       1.00         1.00  \n",
       "7          1.00       1.00         1.00  \n",
       "8          1.00       1.00         1.00  "
      ]
     },
     "execution_count": 115,
     "metadata": {},
     "output_type": "execute_result"
    }
   ],
   "source": [
    "Evaluation = {\"Models\":[\"KNN Classifier\",\"DecisionTree Classifier\",\"RandomForest Classifier\",\"SVM Classifier\",\n",
    "                        \"Logistic Regression\",\"Bagging Classifier\",\"AdaBoost Classifier\",\"Gradient Boosting Classifier\",\"Naive Bayes Classifier\"],\\\n",
    "            \"Train_Accuracy(%)\":[model_knn.score(x_train_tfidf, y_train),model_DT.score(x_train_tfidf, y_train),model_RF.score(x_train_tfidf, y_train),model_svm.score(x_train_tfidf, y_train),model_lgr.score(x_train_tfidf, y_train),\n",
    "                                 model_bagg.score(x_train_tfidf, y_train),model_Adaboost.score(x_train_tfidf, y_train),model_GradientBoost.score(x_train_tfidf, y_train), model_NB.score(x_train_tfidf, y_train)],\n",
    "            \"Test_Accuracy(%)\":[accuracy_knn,accuracy_DT,accuracy_RF,accuracy_svm,accuracy_lgr,accuracy_bagg,accuracy_Adaboost,accuracy_GradientBoost,accuracy_NB],\\\n",
    "            \"Precision(%)\":[precision_knn,precision_DT,precision_RF,precision_svm,precision_lgr,precision_bagg,precision_Adaboost,precision_GradientBoost,precision_NB],\\\n",
    "            \"Recall(%)\":[recall_knn,recall_DT,recall_RF,recall_svm,recall_lgr,recall_bagg,recall_Adaboost,recall_GradientBoost,recall_NB],\\\n",
    "            \"F1-Score(%)\":[f1_knn,f1_DT,f1_RF,f1_svm,f1_lgr,f1_bagg,f1_Adaboost,f1_GradientBoost,f1_NB]}\n",
    "table = pd.DataFrame(Evaluation)\n",
    "table"
   ]
  },
  {
   "cell_type": "code",
   "execution_count": 116,
   "id": "8f65ae4c",
   "metadata": {},
   "outputs": [],
   "source": [
    "model_names = [\"KNN\",\"DecisionTree\",\"RandomForest \",\"SVM \", \"Logistic Regression\",\n",
    "               \"Bagging\",\"AdaBoost\",\"Gradient Boosting \",\"Naive Bayes\"]\n",
    "Test_accuracies = [accuracy_knn*100,accuracy_DT*100,accuracy_RF*100,\n",
    "              accuracy_svm*100,accuracy_lgr*100,accuracy_bagg*100,\n",
    "              accuracy_Adaboost*100,accuracy_GradientBoost*100,accuracy_NB*100]\n",
    "Train_accuracies=[model_knn.score(x_train_tfidf, y_train)*100,model_DT.score(x_train_tfidf, y_train)*100,\n",
    "                  model_RF.score(x_train_tfidf, y_train)*100,model_svm.score(x_train_tfidf, y_train)*100,\n",
    "                  model_lgr.score(x_train_tfidf, y_train)*100,model_bagg.score(x_train_tfidf, y_train)*100,\n",
    "                  model_Adaboost.score(x_train_tfidf, y_train)*100,model_GradientBoost.score(x_train_tfidf, y_train)*100,\n",
    "                  model_NB.score(x_train_tfidf, y_train)*100]"
   ]
  },
  {
   "cell_type": "code",
   "execution_count": 117,
   "id": "d2075f37",
   "metadata": {},
   "outputs": [
    {
     "data": {
      "image/png": "[encoded data removed]",
      "text/plain": [
       "<Figure size 6000x3000 with 1 Axes>"
      ]
     },
     "metadata": {},
     "output_type": "display_data"
    }
   ],
   "source": [
    "import matplotlib.pyplot as plt\n",
    "import numpy as np\n",
    "\n",
    "rcParams = {'xtick.labelsize':'12','ytick.labelsize':'14','axes.labelsize':'16'}\n",
    "fig, axe = plt.subplots(1,1, figsize=(12,6), dpi=500)\n",
    "x_pos = np.arange(len(table))\n",
    "model_names = [\"KNN\", \"Decision T\", \"Random F\", \"SVM \", \"Logistic\", \"Bagging\", \"Ada Boost\", \"Grad Boost\",\"Naive Bayes\"]\n",
    "\n",
    "bar1 = plt.bar(x_pos - 0.2, table['Train_Accuracy(%)'], width=0.4, label='Train', color= \"Orange\")\n",
    "bar2 = plt.bar(x_pos + 0.2, table['Test_Accuracy(%)'], width=0.4, label='Test', color= \"b\")\n",
    "plt.xticks(x_pos, model_names)\n",
    "\n",
    "plt.xlabel(\"Classifiers\", fontsize = 16, fontweight = 'bold')\n",
    "plt.ylabel(\"Accuracy\", fontsize = 16, fontweight = 'bold')\n",
    "plt.title(\"Model Accuracy Scores\", fontsize = 18, fontweight = 'bold')\n",
    "plt.xticks(rotation = 10)\n",
    "plt.legend()\n",
    "\n",
    "for i, bar in enumerate(bar1):\n",
    "    plt.text(bar.get_x() + bar.get_width()/2 - 0.1, bar.get_height()*1.02, \n",
    "             s = '{:.2f}%'.format(Train_accuracies[i]), fontsize = 7)\n",
    "    \n",
    "for i, bar in enumerate(bar2):\n",
    "    plt.text(bar.get_x() + bar.get_width()/2 - 0.1, bar.get_height()*1.02, \n",
    "             s = '{:.2f}%'.format(Test_accuracies[i]), fontsize = 7)\n",
    "\n",
    "pylab.rcParams.update(rcParams)\n",
    "fig.tight_layout()\n",
    "plt.show()\n"
   ]
  },
  {
   "cell_type": "code",
   "execution_count": 118,
   "id": "9c32fe45",
   "metadata": {},
   "outputs": [],
   "source": [
    "import pickle"
   ]
  },
  {
   "cell_type": "code",
   "execution_count": 138,
   "id": "13fa1e1b",
   "metadata": {},
   "outputs": [],
   "source": [
    "import pickle\n",
    "directory_path = 'C:\\\\Users\\\\King\\\\Desktop\\\\'\n",
    "with open(directory_path + 'model_knn.pickle', 'wb') as file:\n",
    "    pickle.dump(model_knn, file)\n"
   ]
  },
  {
   "cell_type": "code",
   "execution_count": 139,
   "id": "0689ad53",
   "metadata": {},
   "outputs": [],
   "source": [
    "clf = pickle.load(open('model_knn.pickle', 'rb'))"
   ]
  },
  {
   "cell_type": "code",
   "execution_count": 140,
   "id": "a5a3ef5b",
   "metadata": {},
   "outputs": [],
   "source": [
    "tfidf = pickle.load(open('tfidf_vector.pickle', 'rb'))"
   ]
  },
  {
   "cell_type": "code",
   "execution_count": 142,
   "id": "64d89192",
   "metadata": {},
   "outputs": [],
   "source": [
    "with open(directory_path + 'tfidf_vector.pickle', 'wb') as file:\n",
    "    pickle.dump(tfidf_vector, file)"
   ]
  },
  {
   "cell_type": "code",
   "execution_count": 121,
   "id": "37d2043a",
   "metadata": {},
   "outputs": [
    {
     "data": {
      "text/plain": [
       "'anubhav kumar singh core competencies scripting shell scripting application peoplesoft hcm financials operating system linux windows web app servers weblogic tuxedo rdbms oracle repository github core competencies scripting shell scripting application peoplesoft hcm financials operating system linux windows web app servers weblogic tuxedo rdbms oracle repository github work globally competitive environment challenging assignments shall yield twin benefits job satisfaction steady paced professional growth professional experience current hcl current role system admin offshore skills shell scripting linux peoplesoft administration github managing peoplesoft hcm peoplesoft fscm production environments along support environments installed linux windows involved day day activities project migration database refresh system admin changes tax updates etc troubleshooting various servers like application servers web servers process scheduler servers applying tuxedo weblogic middleware cpu patches various applications working shell scripting used integration method exchange files external systems installation troubleshooting tier setup per requirement reviewing vulnerabilities reported security teams renewal ssl weblogic vulnerability remediation whenever vulnerability report rmis team worked pum peoplesoft update manager installation dpk working knowledge ansible docker developing new shell scripts troubleshooting shell script failures techmahindra role project application support automation devops tools peoplesoft admin skills shell scripting linux peoplesoft administration jenkins ansible project people tools upgrade hcm application upgrade project migration applications ntt cloud premises aws cloud worked shell scripting various application requirement working ansible jenkins automated start stop various activities application basic knowledge docker applying ssl certificates new released applications worked elastic search configuration peoplesoft gained knowledge aws resources strong understanding unix architecture command trouble shooting unix linux platform efficient using configuration management deployment tool like ansible good experience job scheduling via crontab ibm tivoli workload scheduler tws good knowledge automation using shell scripting continuous integration management using jenkins installing configuring jenkins responsible writing ansible playbook perform various task managed administration tasks installation configuration applications troubleshooting performance related issue applying tuxedo weblogic cpu patches various applications working vulnerabilities reported security teams reviewing platform certification information products platforms database servers web application servers browsers products peopletools server migration aws amazon web service installation peoplesoft server components application servers process scheduler servers tuxedo web logic servers new release peopletools unix linux servers applying latest patch peopletools installing configuring change assistant various upgrade passes creating running peopletools upgrade job peopletools upgrade setting performance monitor creating new app web process scheduler domains post upgrade new linux severs troubleshooting common domain boot problems identifying configuring source target databases hcm application upgrade working hcm pum images creating change packages using pum applying source target databases per requirement creating application upgrade job using change assistant srdt pvt ltd srm group role project peoplesoft application database admin skills peoplesoft administration weblogic tuxedo app designer pum peopletools upgrade peoplesoft campus application upgrade maintaining production environments supporting environments installed windows server oracle possess knowledge experience peoplesoft architecture administering peoplesoft server components application servers process scheduler servers tuxedo web logic servers pia peoplesoft internet architecture integration broker report nodes application issues technical issues peoplesoft skills experience migrations production support applications exposure applying peoplesoft bundle updates change assistant exposure working windows unix linux environments oracle database working knowledge integration broker refreshed testing dev pre prod prod environments experience troubleshooting various servers like application servers web servers process scheduler servers experienced providing support production development environments installation database servers web servers application server peoplesoft application hrms fscm hrms people tool installed configured ses secure enterprise search hrms instance experience installing oracle policy automation oracle policy modelling creating opa database existing database oracle implemented single sign peoplesoft applications implemented peoplesoft interaction hub integrate external content information peoplesoft applications upgraded people tool campus production environment upgraded people tool finance testing environment upgraded application configured pum peoplesoft update manager every new image applying tax updates bugs tailored change packages pum upgraded oracle database using dbua created instances people tools provide testing environments prepared upgrade status reports sheets ordinated provided support offshore projects imported self signed certificate weblogic provide secure port access instances set terminal server provide central access people tools technical developers created tickets development team followed get resolution error occurred projects client drdo project single sign role peoplesoft admin environment people tool hrms fscm description single sign sso property access control multiple related independent software systems property user logs single password gain access connected system systems without using different usernames passwords client netapp project support maintenance role peoplesoft admin support environment peopletool hrms description handled related issue clear process scheduler cache per weekly maintenance process handled psadmin related activities acs personal details father name rajeev kumar singh date birth sex male language read write hindi english ready relocate yes education tech electrical electronic engineering'"
      ]
     },
     "execution_count": 121,
     "metadata": {},
     "output_type": "execute_result"
    }
   ],
   "source": [
    "resume_data[\"Resume_Details\"][0]"
   ]
  },
  {
   "cell_type": "code",
   "execution_count": null,
   "id": "7eb7aba9",
   "metadata": {},
   "outputs": [],
   "source": []
  }
 ],
 "metadata": {
  "kernelspec": {
   "display_name": "Python 3 (ipykernel)",
   "language": "python",
   "name": "python3"
  },
  "language_info": {
   "codemirror_mode": {
    "name": "ipython",
    "version": 3
   },
   "file_extension": ".py",
   "mimetype": "text/x-python",
   "name": "python",
   "nbconvert_exporter": "python",
   "pygments_lexer": "ipython3",
   "version": "3.10.9"
  }
 },
 "nbformat": 4,
 "nbformat_minor": 5
}
